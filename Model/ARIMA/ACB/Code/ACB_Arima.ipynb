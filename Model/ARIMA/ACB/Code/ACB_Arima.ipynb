{
  "nbformat": 4,
  "nbformat_minor": 0,
  "metadata": {
    "colab": {
      "provenance": []
    },
    "kernelspec": {
      "name": "python3",
      "display_name": "Python 3"
    },
    "language_info": {
      "name": "python"
    }
  },
  "cells": [
    {
      "cell_type": "code",
      "execution_count": null,
      "metadata": {
        "id": "9cC32heTvrOd"
      },
      "outputs": [],
      "source": [
        "import pandas as pd\n",
        "import numpy as np\n",
        "\n",
        "from sklearn.preprocessing import MinMaxScaler\n",
        "from sklearn.metrics import r2_score, explained_variance_score, mean_squared_error, mean_absolute_percentage_error, mean_absolute_error, mean_squared_log_error\n",
        "\n",
        "from matplotlib import ticker\n",
        "import matplotlib.pyplot as plt"
      ]
    },
    {
      "cell_type": "code",
      "source": [
        "!pip install pmdarima\n",
        "from pmdarima.arima import auto_arima"
      ],
      "metadata": {
        "colab": {
          "base_uri": "https://localhost:8080/"
        },
        "id": "Y9hLwVe93pbK",
        "outputId": "cbec0ca6-877f-4eb7-e0e8-a34a64a16f29"
      },
      "execution_count": null,
      "outputs": [
        {
          "output_type": "stream",
          "name": "stdout",
          "text": [
            "Requirement already satisfied: pmdarima in /usr/local/lib/python3.10/dist-packages (2.0.4)\n",
            "Requirement already satisfied: joblib>=0.11 in /usr/local/lib/python3.10/dist-packages (from pmdarima) (1.4.2)\n",
            "Requirement already satisfied: Cython!=0.29.18,!=0.29.31,>=0.29 in /usr/local/lib/python3.10/dist-packages (from pmdarima) (3.0.10)\n",
            "Requirement already satisfied: numpy>=1.21.2 in /usr/local/lib/python3.10/dist-packages (from pmdarima) (1.25.2)\n",
            "Requirement already satisfied: pandas>=0.19 in /usr/local/lib/python3.10/dist-packages (from pmdarima) (2.0.3)\n",
            "Requirement already satisfied: scikit-learn>=0.22 in /usr/local/lib/python3.10/dist-packages (from pmdarima) (1.2.2)\n",
            "Requirement already satisfied: scipy>=1.3.2 in /usr/local/lib/python3.10/dist-packages (from pmdarima) (1.11.4)\n",
            "Requirement already satisfied: statsmodels>=0.13.2 in /usr/local/lib/python3.10/dist-packages (from pmdarima) (0.14.2)\n",
            "Requirement already satisfied: urllib3 in /usr/local/lib/python3.10/dist-packages (from pmdarima) (2.0.7)\n",
            "Requirement already satisfied: setuptools!=50.0.0,>=38.6.0 in /usr/local/lib/python3.10/dist-packages (from pmdarima) (67.7.2)\n",
            "Requirement already satisfied: packaging>=17.1 in /usr/local/lib/python3.10/dist-packages (from pmdarima) (24.1)\n",
            "Requirement already satisfied: python-dateutil>=2.8.2 in /usr/local/lib/python3.10/dist-packages (from pandas>=0.19->pmdarima) (2.8.2)\n",
            "Requirement already satisfied: pytz>=2020.1 in /usr/local/lib/python3.10/dist-packages (from pandas>=0.19->pmdarima) (2023.4)\n",
            "Requirement already satisfied: tzdata>=2022.1 in /usr/local/lib/python3.10/dist-packages (from pandas>=0.19->pmdarima) (2024.1)\n",
            "Requirement already satisfied: threadpoolctl>=2.0.0 in /usr/local/lib/python3.10/dist-packages (from scikit-learn>=0.22->pmdarima) (3.5.0)\n",
            "Requirement already satisfied: patsy>=0.5.6 in /usr/local/lib/python3.10/dist-packages (from statsmodels>=0.13.2->pmdarima) (0.5.6)\n",
            "Requirement already satisfied: six in /usr/local/lib/python3.10/dist-packages (from patsy>=0.5.6->statsmodels>=0.13.2->pmdarima) (1.16.0)\n"
          ]
        }
      ]
    },
    {
      "cell_type": "markdown",
      "source": [
        "# Train test 8:2"
      ],
      "metadata": {
        "id": "Ix1IPWMNkARW"
      }
    },
    {
      "cell_type": "code",
      "source": [
        "df = pd.read_csv('/content/ACB.VN-BaoCao.csv')"
      ],
      "metadata": {
        "id": "nEv-S57Wfdnt"
      },
      "execution_count": null,
      "outputs": []
    },
    {
      "cell_type": "code",
      "source": [
        "df.head()"
      ],
      "metadata": {
        "colab": {
          "base_uri": "https://localhost:8080/",
          "height": 206
        },
        "id": "Y7kqb7GwffAc",
        "outputId": "f093c76d-a544-4164-e7a9-d5d3835c62ce"
      },
      "execution_count": null,
      "outputs": [
        {
          "output_type": "execute_result",
          "data": {
            "text/plain": [
              "         Date         Open         High          Low        Close  \\\n",
              "0  2019-03-01  8533.238281  8619.142578  8447.333008  8590.507813   \n",
              "1  2019-03-04  8590.507813  8733.682617  8561.873047  8705.047852   \n",
              "2  2019-03-05  8705.047852  8790.953125  8619.142578  8676.413086   \n",
              "3  2019-03-06  8647.778320  8705.047852  8590.507813  8676.413086   \n",
              "4  2019-03-07  8705.047852  8790.953125  8676.413086  8733.682617   \n",
              "\n",
              "     Adj Close      Volume  \n",
              "0  8254.484375   5164405.0  \n",
              "1  8364.543945  10898750.0  \n",
              "2  8337.029297   8611453.0  \n",
              "3  8337.029297  11100248.0  \n",
              "4  8392.058594  11530669.0  "
            ],
            "text/html": [
              "\n",
              "  <div id=\"df-db287ba1-a7e0-4ae9-b1c3-cc149a6a59e4\" class=\"colab-df-container\">\n",
              "    <div>\n",
              "<style scoped>\n",
              "    .dataframe tbody tr th:only-of-type {\n",
              "        vertical-align: middle;\n",
              "    }\n",
              "\n",
              "    .dataframe tbody tr th {\n",
              "        vertical-align: top;\n",
              "    }\n",
              "\n",
              "    .dataframe thead th {\n",
              "        text-align: right;\n",
              "    }\n",
              "</style>\n",
              "<table border=\"1\" class=\"dataframe\">\n",
              "  <thead>\n",
              "    <tr style=\"text-align: right;\">\n",
              "      <th></th>\n",
              "      <th>Date</th>\n",
              "      <th>Open</th>\n",
              "      <th>High</th>\n",
              "      <th>Low</th>\n",
              "      <th>Close</th>\n",
              "      <th>Adj Close</th>\n",
              "      <th>Volume</th>\n",
              "    </tr>\n",
              "  </thead>\n",
              "  <tbody>\n",
              "    <tr>\n",
              "      <th>0</th>\n",
              "      <td>2019-03-01</td>\n",
              "      <td>8533.238281</td>\n",
              "      <td>8619.142578</td>\n",
              "      <td>8447.333008</td>\n",
              "      <td>8590.507813</td>\n",
              "      <td>8254.484375</td>\n",
              "      <td>5164405.0</td>\n",
              "    </tr>\n",
              "    <tr>\n",
              "      <th>1</th>\n",
              "      <td>2019-03-04</td>\n",
              "      <td>8590.507813</td>\n",
              "      <td>8733.682617</td>\n",
              "      <td>8561.873047</td>\n",
              "      <td>8705.047852</td>\n",
              "      <td>8364.543945</td>\n",
              "      <td>10898750.0</td>\n",
              "    </tr>\n",
              "    <tr>\n",
              "      <th>2</th>\n",
              "      <td>2019-03-05</td>\n",
              "      <td>8705.047852</td>\n",
              "      <td>8790.953125</td>\n",
              "      <td>8619.142578</td>\n",
              "      <td>8676.413086</td>\n",
              "      <td>8337.029297</td>\n",
              "      <td>8611453.0</td>\n",
              "    </tr>\n",
              "    <tr>\n",
              "      <th>3</th>\n",
              "      <td>2019-03-06</td>\n",
              "      <td>8647.778320</td>\n",
              "      <td>8705.047852</td>\n",
              "      <td>8590.507813</td>\n",
              "      <td>8676.413086</td>\n",
              "      <td>8337.029297</td>\n",
              "      <td>11100248.0</td>\n",
              "    </tr>\n",
              "    <tr>\n",
              "      <th>4</th>\n",
              "      <td>2019-03-07</td>\n",
              "      <td>8705.047852</td>\n",
              "      <td>8790.953125</td>\n",
              "      <td>8676.413086</td>\n",
              "      <td>8733.682617</td>\n",
              "      <td>8392.058594</td>\n",
              "      <td>11530669.0</td>\n",
              "    </tr>\n",
              "  </tbody>\n",
              "</table>\n",
              "</div>\n",
              "    <div class=\"colab-df-buttons\">\n",
              "\n",
              "  <div class=\"colab-df-container\">\n",
              "    <button class=\"colab-df-convert\" onclick=\"convertToInteractive('df-db287ba1-a7e0-4ae9-b1c3-cc149a6a59e4')\"\n",
              "            title=\"Convert this dataframe to an interactive table.\"\n",
              "            style=\"display:none;\">\n",
              "\n",
              "  <svg xmlns=\"http://www.w3.org/2000/svg\" height=\"24px\" viewBox=\"0 -960 960 960\">\n",
              "    <path d=\"M120-120v-720h720v720H120Zm60-500h600v-160H180v160Zm220 220h160v-160H400v160Zm0 220h160v-160H400v160ZM180-400h160v-160H180v160Zm440 0h160v-160H620v160ZM180-180h160v-160H180v160Zm440 0h160v-160H620v160Z\"/>\n",
              "  </svg>\n",
              "    </button>\n",
              "\n",
              "  <style>\n",
              "    .colab-df-container {\n",
              "      display:flex;\n",
              "      gap: 12px;\n",
              "    }\n",
              "\n",
              "    .colab-df-convert {\n",
              "      background-color: #E8F0FE;\n",
              "      border: none;\n",
              "      border-radius: 50%;\n",
              "      cursor: pointer;\n",
              "      display: none;\n",
              "      fill: #1967D2;\n",
              "      height: 32px;\n",
              "      padding: 0 0 0 0;\n",
              "      width: 32px;\n",
              "    }\n",
              "\n",
              "    .colab-df-convert:hover {\n",
              "      background-color: #E2EBFA;\n",
              "      box-shadow: 0px 1px 2px rgba(60, 64, 67, 0.3), 0px 1px 3px 1px rgba(60, 64, 67, 0.15);\n",
              "      fill: #174EA6;\n",
              "    }\n",
              "\n",
              "    .colab-df-buttons div {\n",
              "      margin-bottom: 4px;\n",
              "    }\n",
              "\n",
              "    [theme=dark] .colab-df-convert {\n",
              "      background-color: #3B4455;\n",
              "      fill: #D2E3FC;\n",
              "    }\n",
              "\n",
              "    [theme=dark] .colab-df-convert:hover {\n",
              "      background-color: #434B5C;\n",
              "      box-shadow: 0px 1px 3px 1px rgba(0, 0, 0, 0.15);\n",
              "      filter: drop-shadow(0px 1px 2px rgba(0, 0, 0, 0.3));\n",
              "      fill: #FFFFFF;\n",
              "    }\n",
              "  </style>\n",
              "\n",
              "    <script>\n",
              "      const buttonEl =\n",
              "        document.querySelector('#df-db287ba1-a7e0-4ae9-b1c3-cc149a6a59e4 button.colab-df-convert');\n",
              "      buttonEl.style.display =\n",
              "        google.colab.kernel.accessAllowed ? 'block' : 'none';\n",
              "\n",
              "      async function convertToInteractive(key) {\n",
              "        const element = document.querySelector('#df-db287ba1-a7e0-4ae9-b1c3-cc149a6a59e4');\n",
              "        const dataTable =\n",
              "          await google.colab.kernel.invokeFunction('convertToInteractive',\n",
              "                                                    [key], {});\n",
              "        if (!dataTable) return;\n",
              "\n",
              "        const docLinkHtml = 'Like what you see? Visit the ' +\n",
              "          '<a target=\"_blank\" href=https://colab.research.google.com/notebooks/data_table.ipynb>data table notebook</a>'\n",
              "          + ' to learn more about interactive tables.';\n",
              "        element.innerHTML = '';\n",
              "        dataTable['output_type'] = 'display_data';\n",
              "        await google.colab.output.renderOutput(dataTable, element);\n",
              "        const docLink = document.createElement('div');\n",
              "        docLink.innerHTML = docLinkHtml;\n",
              "        element.appendChild(docLink);\n",
              "      }\n",
              "    </script>\n",
              "  </div>\n",
              "\n",
              "\n",
              "<div id=\"df-ba5f3ce3-080e-47e0-9314-2d9bf9bf16b5\">\n",
              "  <button class=\"colab-df-quickchart\" onclick=\"quickchart('df-ba5f3ce3-080e-47e0-9314-2d9bf9bf16b5')\"\n",
              "            title=\"Suggest charts\"\n",
              "            style=\"display:none;\">\n",
              "\n",
              "<svg xmlns=\"http://www.w3.org/2000/svg\" height=\"24px\"viewBox=\"0 0 24 24\"\n",
              "     width=\"24px\">\n",
              "    <g>\n",
              "        <path d=\"M19 3H5c-1.1 0-2 .9-2 2v14c0 1.1.9 2 2 2h14c1.1 0 2-.9 2-2V5c0-1.1-.9-2-2-2zM9 17H7v-7h2v7zm4 0h-2V7h2v10zm4 0h-2v-4h2v4z\"/>\n",
              "    </g>\n",
              "</svg>\n",
              "  </button>\n",
              "\n",
              "<style>\n",
              "  .colab-df-quickchart {\n",
              "      --bg-color: #E8F0FE;\n",
              "      --fill-color: #1967D2;\n",
              "      --hover-bg-color: #E2EBFA;\n",
              "      --hover-fill-color: #174EA6;\n",
              "      --disabled-fill-color: #AAA;\n",
              "      --disabled-bg-color: #DDD;\n",
              "  }\n",
              "\n",
              "  [theme=dark] .colab-df-quickchart {\n",
              "      --bg-color: #3B4455;\n",
              "      --fill-color: #D2E3FC;\n",
              "      --hover-bg-color: #434B5C;\n",
              "      --hover-fill-color: #FFFFFF;\n",
              "      --disabled-bg-color: #3B4455;\n",
              "      --disabled-fill-color: #666;\n",
              "  }\n",
              "\n",
              "  .colab-df-quickchart {\n",
              "    background-color: var(--bg-color);\n",
              "    border: none;\n",
              "    border-radius: 50%;\n",
              "    cursor: pointer;\n",
              "    display: none;\n",
              "    fill: var(--fill-color);\n",
              "    height: 32px;\n",
              "    padding: 0;\n",
              "    width: 32px;\n",
              "  }\n",
              "\n",
              "  .colab-df-quickchart:hover {\n",
              "    background-color: var(--hover-bg-color);\n",
              "    box-shadow: 0 1px 2px rgba(60, 64, 67, 0.3), 0 1px 3px 1px rgba(60, 64, 67, 0.15);\n",
              "    fill: var(--button-hover-fill-color);\n",
              "  }\n",
              "\n",
              "  .colab-df-quickchart-complete:disabled,\n",
              "  .colab-df-quickchart-complete:disabled:hover {\n",
              "    background-color: var(--disabled-bg-color);\n",
              "    fill: var(--disabled-fill-color);\n",
              "    box-shadow: none;\n",
              "  }\n",
              "\n",
              "  .colab-df-spinner {\n",
              "    border: 2px solid var(--fill-color);\n",
              "    border-color: transparent;\n",
              "    border-bottom-color: var(--fill-color);\n",
              "    animation:\n",
              "      spin 1s steps(1) infinite;\n",
              "  }\n",
              "\n",
              "  @keyframes spin {\n",
              "    0% {\n",
              "      border-color: transparent;\n",
              "      border-bottom-color: var(--fill-color);\n",
              "      border-left-color: var(--fill-color);\n",
              "    }\n",
              "    20% {\n",
              "      border-color: transparent;\n",
              "      border-left-color: var(--fill-color);\n",
              "      border-top-color: var(--fill-color);\n",
              "    }\n",
              "    30% {\n",
              "      border-color: transparent;\n",
              "      border-left-color: var(--fill-color);\n",
              "      border-top-color: var(--fill-color);\n",
              "      border-right-color: var(--fill-color);\n",
              "    }\n",
              "    40% {\n",
              "      border-color: transparent;\n",
              "      border-right-color: var(--fill-color);\n",
              "      border-top-color: var(--fill-color);\n",
              "    }\n",
              "    60% {\n",
              "      border-color: transparent;\n",
              "      border-right-color: var(--fill-color);\n",
              "    }\n",
              "    80% {\n",
              "      border-color: transparent;\n",
              "      border-right-color: var(--fill-color);\n",
              "      border-bottom-color: var(--fill-color);\n",
              "    }\n",
              "    90% {\n",
              "      border-color: transparent;\n",
              "      border-bottom-color: var(--fill-color);\n",
              "    }\n",
              "  }\n",
              "</style>\n",
              "\n",
              "  <script>\n",
              "    async function quickchart(key) {\n",
              "      const quickchartButtonEl =\n",
              "        document.querySelector('#' + key + ' button');\n",
              "      quickchartButtonEl.disabled = true;  // To prevent multiple clicks.\n",
              "      quickchartButtonEl.classList.add('colab-df-spinner');\n",
              "      try {\n",
              "        const charts = await google.colab.kernel.invokeFunction(\n",
              "            'suggestCharts', [key], {});\n",
              "      } catch (error) {\n",
              "        console.error('Error during call to suggestCharts:', error);\n",
              "      }\n",
              "      quickchartButtonEl.classList.remove('colab-df-spinner');\n",
              "      quickchartButtonEl.classList.add('colab-df-quickchart-complete');\n",
              "    }\n",
              "    (() => {\n",
              "      let quickchartButtonEl =\n",
              "        document.querySelector('#df-ba5f3ce3-080e-47e0-9314-2d9bf9bf16b5 button');\n",
              "      quickchartButtonEl.style.display =\n",
              "        google.colab.kernel.accessAllowed ? 'block' : 'none';\n",
              "    })();\n",
              "  </script>\n",
              "</div>\n",
              "\n",
              "    </div>\n",
              "  </div>\n"
            ],
            "application/vnd.google.colaboratory.intrinsic+json": {
              "type": "dataframe",
              "variable_name": "df",
              "summary": "{\n  \"name\": \"df\",\n  \"rows\": 1376,\n  \"fields\": [\n    {\n      \"column\": \"Date\",\n      \"properties\": {\n        \"dtype\": \"object\",\n        \"num_unique_values\": 1376,\n        \"samples\": [\n          \"2021-02-03\",\n          \"2019-06-04\",\n          \"2022-05-24\"\n        ],\n        \"semantic_type\": \"\",\n        \"description\": \"\"\n      }\n    },\n    {\n      \"column\": \"Open\",\n      \"properties\": {\n        \"dtype\": \"number\",\n        \"std\": 5255.164793267486,\n        \"min\": 5993.311035,\n        \"max\": 25826.087891,\n        \"num_unique_values\": 495,\n        \"samples\": [\n          24391.304688,\n          7817.362305,\n          17965.972656\n        ],\n        \"semantic_type\": \"\",\n        \"description\": \"\"\n      }\n    },\n    {\n      \"column\": \"High\",\n      \"properties\": {\n        \"dtype\": \"number\",\n        \"std\": 5291.1025344712225,\n        \"min\": 6998.400391,\n        \"max\": 26260.869141,\n        \"num_unique_values\": 521,\n        \"samples\": [\n          24217.390625,\n          7854.587891,\n          9077.303711\n        ],\n        \"semantic_type\": \"\",\n        \"description\": \"\"\n      }\n    },\n    {\n      \"column\": \"Low\",\n      \"properties\": {\n        \"dtype\": \"number\",\n        \"std\": 5206.456130045345,\n        \"min\": 5993.311035,\n        \"max\": 25478.261719,\n        \"num_unique_values\": 512,\n        \"samples\": [\n          20506.617188,\n          24434.783203,\n          19739.130859\n        ],\n        \"semantic_type\": \"\",\n        \"description\": \"\"\n      }\n    },\n    {\n      \"column\": \"Close\",\n      \"properties\": {\n        \"dtype\": \"number\",\n        \"std\": 5246.805019474392,\n        \"min\": 6626.14502,\n        \"max\": 25782.609375,\n        \"num_unique_values\": 511,\n        \"samples\": [\n          11807.939453,\n          7668.459961,\n          19869.564453\n        ],\n        \"semantic_type\": \"\",\n        \"description\": \"\"\n      }\n    },\n    {\n      \"column\": \"Adj Close\",\n      \"properties\": {\n        \"dtype\": \"number\",\n        \"std\": 5049.34348267319,\n        \"min\": 6366.958984,\n        \"max\": 24800.0,\n        \"num_unique_values\": 511,\n        \"samples\": [\n          11346.064453,\n          7368.50293,\n          19092.353516\n        ],\n        \"semantic_type\": \"\",\n        \"description\": \"\"\n      }\n    },\n    {\n      \"column\": \"Volume\",\n      \"properties\": {\n        \"dtype\": \"number\",\n        \"std\": 15146387.911252096,\n        \"min\": 981368.0,\n        \"max\": 247314860.0,\n        \"num_unique_values\": 1312,\n        \"samples\": [\n          2344064.0,\n          16782297.0,\n          16827777.0\n        ],\n        \"semantic_type\": \"\",\n        \"description\": \"\"\n      }\n    }\n  ]\n}"
            }
          },
          "metadata": {},
          "execution_count": 19
        }
      ]
    },
    {
      "cell_type": "code",
      "source": [
        "df = df[['Close']]\n",
        "df = df.dropna() # Drop missing values\n",
        "df = df.reset_index(drop=True) # Reset the index"
      ],
      "metadata": {
        "id": "9puA2eTs7HMq"
      },
      "execution_count": null,
      "outputs": []
    },
    {
      "cell_type": "code",
      "source": [
        "# Split the data into training, testing sets\n",
        "train_size = int(0.8 * len(df))\n",
        "train_data = df[:train_size]\n",
        "test_data = df[train_size:]"
      ],
      "metadata": {
        "id": "HkDCZYmq5Y7J"
      },
      "execution_count": null,
      "outputs": []
    },
    {
      "cell_type": "code",
      "source": [
        "X_train = np.array(train_data.index).reshape(-1, 1)\n",
        "y_train = np.array(train_data['Close'])"
      ],
      "metadata": {
        "id": "k5fHoO7v5cKl"
      },
      "execution_count": null,
      "outputs": []
    },
    {
      "cell_type": "code",
      "source": [
        "# Auto ARIMA to select optimal ARIMA parameters\n",
        "model = auto_arima(y_train, start_p=1, start_q=1,\n",
        "                         test='adf',\n",
        "                         max_p=3, max_q=3, m=12,\n",
        "                         start_P=0, seasonal=False,\n",
        "                         d=None, D=0, trace=True,\n",
        "                         error_action='ignore',\n",
        "                         suppress_warnings=True,\n",
        "                         stepwise=True)\n",
        "\n",
        "print(model.summary())"
      ],
      "metadata": {
        "colab": {
          "base_uri": "https://localhost:8080/"
        },
        "id": "XTWYwfg45ult",
        "outputId": "cf89e4b3-4437-402e-8793-34a8fb3ceef6"
      },
      "execution_count": null,
      "outputs": [
        {
          "output_type": "stream",
          "name": "stderr",
          "text": [
            "/usr/local/lib/python3.10/dist-packages/pmdarima/arima/_validation.py:62: UserWarning: m (12) set for non-seasonal fit. Setting to 0\n",
            "  warnings.warn(\"m (%i) set for non-seasonal fit. Setting to 0\" % m)\n"
          ]
        },
        {
          "output_type": "stream",
          "name": "stdout",
          "text": [
            "Performing stepwise search to minimize aic\n",
            " ARIMA(1,1,1)(0,0,0)[0] intercept   : AIC=14943.298, Time=0.28 sec\n",
            " ARIMA(0,1,0)(0,0,0)[0] intercept   : AIC=14939.297, Time=0.05 sec\n",
            " ARIMA(1,1,0)(0,0,0)[0] intercept   : AIC=14941.296, Time=0.07 sec\n",
            " ARIMA(0,1,1)(0,0,0)[0] intercept   : AIC=14941.303, Time=0.12 sec\n",
            " ARIMA(0,1,0)(0,0,0)[0]             : AIC=14938.424, Time=0.03 sec\n",
            "\n",
            "Best model:  ARIMA(0,1,0)(0,0,0)[0]          \n",
            "Total fit time: 0.604 seconds\n",
            "                               SARIMAX Results                                \n",
            "==============================================================================\n",
            "Dep. Variable:                      y   No. Observations:                 1050\n",
            "Model:               SARIMAX(0, 1, 0)   Log Likelihood               -7468.212\n",
            "Date:                Mon, 17 Jun 2024   AIC                          14938.424\n",
            "Time:                        04:43:13   BIC                          14943.380\n",
            "Sample:                             0   HQIC                         14940.303\n",
            "                               - 1050                                         \n",
            "Covariance Type:                  opg                                         \n",
            "==============================================================================\n",
            "                 coef    std err          z      P>|z|      [0.025      0.975]\n",
            "------------------------------------------------------------------------------\n",
            "sigma2      8.931e+04   2223.199     40.173      0.000     8.5e+04    9.37e+04\n",
            "===================================================================================\n",
            "Ljung-Box (L1) (Q):                   0.00   Jarque-Bera (JB):               775.56\n",
            "Prob(Q):                              0.95   Prob(JB):                         0.00\n",
            "Heteroskedasticity (H):               5.09   Skew:                            -0.25\n",
            "Prob(H) (two-sided):                  0.00   Kurtosis:                         7.18\n",
            "===================================================================================\n",
            "\n",
            "Warnings:\n",
            "[1] Covariance matrix calculated using the outer product of gradients (complex-step).\n"
          ]
        }
      ]
    },
    {
      "cell_type": "code",
      "source": [
        "order = (model.order[0], model.order[1], model.order[2])\n",
        "print(order)"
      ],
      "metadata": {
        "colab": {
          "base_uri": "https://localhost:8080/"
        },
        "id": "SFTj3t0aF_hL",
        "outputId": "0b714ac2-9d23-48c1-c5af-89a748b81968"
      },
      "execution_count": null,
      "outputs": [
        {
          "output_type": "stream",
          "name": "stdout",
          "text": [
            "(0, 1, 0)\n"
          ]
        }
      ]
    },
    {
      "cell_type": "code",
      "source": [
        "from statsmodels.tsa.arima.model import ARIMA\n",
        "def evaluate_ariama_model(x_data, y_data, order):\n",
        "    y_pred = list()\n",
        "    history = [x for x in y_train]\n",
        "    for t in range(len(y_data)):\n",
        "        model = ARIMA(history, order=order)\n",
        "        model_fit = model.fit()\n",
        "        output = model_fit.forecast()\n",
        "        yhat = output[0]\n",
        "        y_pred.append(yhat)\n",
        "        obs = y_data[t]\n",
        "        history.append(obs)\n",
        "    mse = mean_squared_error(y_data, y_pred)\n",
        "    mae = mean_absolute_error(y_data, y_pred)\n",
        "    mape = mean_absolute_percentage_error(y_data, y_pred)\n",
        "    rmse = mean_squared_error(y_data, y_pred, squared=False)\n",
        "    return y_pred, mse, mae, mape, rmse"
      ],
      "metadata": {
        "id": "yRhry25i-EX5"
      },
      "execution_count": null,
      "outputs": []
    },
    {
      "cell_type": "code",
      "source": [
        "x_test = np.array(test_data.index).reshape(-1, 1)\n",
        "y_test = np.array(test_data['Close'])\n",
        "y_pred, test_mse, test_mae, test_mape, test_rmse = evaluate_ariama_model(x_test, y_test, order)\n",
        "\n",
        "print(\"Price predict on test data:\", y_pred)\n",
        "print(\"MSE on test data:\", test_mse)\n",
        "print(\"MAE on test data:\", test_mae)\n",
        "print(\"MAPE on test data:\", test_mape)\n",
        "print(\"RMSE on test data:\", test_rmse)"
      ],
      "metadata": {
        "colab": {
          "base_uri": "https://localhost:8080/"
        },
        "id": "Oij6rrmRCKF0",
        "outputId": "ef80058b-8338-4631-e82a-2eb6fc2cdb01"
      },
      "execution_count": null,
      "outputs": [
        {
          "output_type": "stream",
          "name": "stdout",
          "text": [
            "Price predict on test data: [18865.785156, 18941.398438, 19168.242188, 19017.013672, 18979.205078, 18903.591797, 19017.013672, 19054.820313, 19206.048828, 18608.695313, 18956.521484, 18913.042969, 18956.521484, 19000.0, 18782.609375, 18739.130859, 18652.173828, 18782.609375, 18826.087891, 18869.564453, 18956.521484, 18826.087891, 18826.087891, 18869.564453, 18826.087891, 19043.478516, 19347.826172, 19304.347656, 19391.304688, 19043.478516, 19173.912109, 19173.912109, 19130.435547, 19086.957031, 18869.564453, 18869.564453, 19086.957031, 19130.435547, 19000.0, 19130.435547, 19130.435547, 19130.435547, 19130.435547, 19130.435547, 19130.435547, 19217.390625, 19173.912109, 19391.304688, 19391.304688, 19260.869141, 19304.347656, 19956.521484, 19869.564453, 20086.957031, 20391.304688, 21217.390625, 20652.173828, 20347.826172, 20173.912109, 19913.042969, 19913.042969, 20043.478516, 19869.564453, 19913.042969, 19739.130859, 19043.478516, 19130.435547, 19173.912109, 19000.0, 19173.912109, 19086.957031, 19173.912109, 19173.912109, 19521.738281, 19652.173828, 19782.609375, 19956.521484, 19913.042969, 19782.609375, 19434.783203, 19782.609375, 19608.695313, 19521.738281, 19695.652344, 19521.738281, 19391.304688, 19521.738281, 19478.261719, 19391.304688, 19130.435547, 19043.478516, 19130.435547, 18913.042969, 19000.0, 19043.478516, 18782.609375, 18782.609375, 18782.609375, 18956.521484, 19565.216797, 19826.087891, 19739.130859, 19739.130859, 19695.652344, 19652.173828, 19521.738281, 19173.912109, 18956.521484, 19043.478516, 18956.521484, 19043.478516, 19043.478516, 18347.826172, 18739.130859, 18521.738281, 18608.695313, 18782.609375, 19391.304688, 19173.912109, 19304.347656, 19217.390625, 19826.087891, 19608.695313, 19478.261719, 19521.738281, 19739.130859, 20217.390625, 20260.869141, 19739.130859, 19565.216797, 19652.173828, 19739.130859, 19304.347656, 19173.912109, 19000.0, 19043.478516, 19173.912109, 19086.957031, 19086.957031, 19391.304688, 19260.869141, 19391.304688, 19478.261719, 19478.261719, 19478.261719, 19565.216797, 19391.304688, 19565.216797, 19782.609375, 19826.087891, 20043.478516, 20173.912109, 20217.390625, 20173.912109, 20304.347656, 20217.390625, 20260.869141, 20652.173828, 20782.609375, 21260.869141, 21739.130859, 22000.0, 22130.435547, 22043.478516, 21739.130859, 21956.521484, 21956.521484, 22434.783203, 22000.0, 22086.957031, 22086.957031, 22260.869141, 22565.216797, 22869.564453, 22652.173828, 22434.783203, 22434.783203, 22869.564453, 22565.216797, 22565.216797, 22391.304688, 22608.695313, 22826.087891, 24173.912109, 24217.390625, 24347.826172, 23652.173828, 24000.0, 24086.957031, 23956.521484, 24086.957031, 24043.478516, 23739.130859, 23913.042969, 24000.0, 24347.826172, 24347.826172, 24173.912109, 24173.912109, 24304.347656, 24000.0, 23913.042969, 23521.738281, 23260.869141, 23260.869141, 24043.478516, 23695.652344, 23782.609375, 23391.304688, 23347.826172, 23913.042969, 24347.826172, 24478.261719, 23913.042969, 24304.347656, 24347.826172, 24652.173828, 24782.609375, 24739.130859, 24695.652344, 24347.826172, 23956.521484, 23608.695313, 23608.695313, 23739.130859, 23565.216797, 23608.695313, 24347.826172, 23347.826172, 23608.695313, 23260.869141, 23130.435547, 23304.347656, 23173.912109, 23521.738281, 23304.347656, 23347.826172, 23478.261719, 23913.042969, 24000.0, 24043.478516, 23956.521484, 24000.0, 24086.957031, 24086.957031, 24130.435547, 24086.957031, 24565.216797, 24565.216797, 24565.216797, 24521.738281, 24304.347656, 24739.130859, 25434.783203, 25608.695313, 25782.609375, 25434.783203, 25565.216797, 24650.0, 24800.0, 24500.0, 24350.0, 24350.0]\n",
            "MSE on test data: 75529.03322571992\n",
            "MAE on test data: 192.15397755133085\n",
            "MAPE on test data: 0.008992407709271321\n",
            "RMSE on test data: 274.82545956610335\n"
          ]
        }
      ]
    },
    {
      "cell_type": "code",
      "source": [
        "last_index = len(df)-1\n",
        "\n",
        "\n",
        "# Create arrays for 90 days\n",
        "x_next_90_days = np.array(range(last_index+1, last_index+91)).reshape(-1, 1)\n",
        "\n",
        "# Predict for the next 30 days\n",
        "y_next_90_days = list()\n",
        "history = [x for x in y_test]\n",
        "for t in range(len(x_next_90_days)):\n",
        "    model = ARIMA(history, order=order)\n",
        "    model_fit = model.fit()\n",
        "    output = model_fit.forecast()\n",
        "    yhat = output[0]\n",
        "    y_next_90_days.append(yhat)\n",
        "    history.append(yhat)\n",
        "\n"
      ],
      "metadata": {
        "id": "9Gl7ILRZJcRq"
      },
      "execution_count": null,
      "outputs": []
    },
    {
      "cell_type": "code",
      "source": [
        "plt.figure(figsize=(12,6))\n",
        "\n",
        "# Plot the train, test, and validation data\n",
        "plt.plot(train_data.index, train_data['Close'], label='Train')\n",
        "plt.plot(test_data.index, test_data['Close'], label='Test')\n",
        "\n",
        "# Plot the predictions for test and validation sets\n",
        "plt.plot(test_data.index, y_pred, label='Test Predictions')\n",
        "\n",
        "# Plot the predictions for the next 90 days\n",
        "\n",
        "plt.plot(range(last_index + 1, last_index + 91), y_next_90_days, color='red', label='Next 90 Days')\n",
        "\n",
        "# Adding titles and labels\n",
        "plt.title('Predicted ACB Stock Closing Prices with 80% Train and 20% Test')\n",
        "plt.xlabel('Time')\n",
        "plt.ylabel('Closing Price')\n",
        "plt.legend()\n",
        "plt.grid(True)\n",
        "\n",
        "# Show the plot\n",
        "plt.show()"
      ],
      "metadata": {
        "colab": {
          "base_uri": "https://localhost:8080/",
          "height": 564
        },
        "id": "GHw6FyuHCcta",
        "outputId": "58e06170-f347-4570-d4c8-ff58a4f8298d"
      },
      "execution_count": null,
      "outputs": [
        {
          "output_type": "display_data",
          "data": {
            "text/plain": [
              "<Figure size 1200x600 with 1 Axes>"
            ],
            "image/png": "[encoded data removed]"
          },
          "metadata": {}
        }
      ]
    },
    {
      "cell_type": "code",
      "source": [],
      "metadata": {
        "id": "eajoke8PDJTX"
      },
      "execution_count": null,
      "outputs": []
    },
    {
      "cell_type": "markdown",
      "source": [
        "# Train test 7:3"
      ],
      "metadata": {
        "id": "Z0mihE1skGgL"
      }
    },
    {
      "cell_type": "code",
      "source": [
        "df = pd.read_csv('/content/ACB.VN-BaoCao.csv')"
      ],
      "metadata": {
        "id": "d92S15yhkGgL"
      },
      "execution_count": null,
      "outputs": []
    },
    {
      "cell_type": "code",
      "source": [
        "df.head()"
      ],
      "metadata": {
        "colab": {
          "base_uri": "https://localhost:8080/",
          "height": 206
        },
        "outputId": "f093c76d-a544-4164-e7a9-d5d3835c62ce",
        "id": "Ahm68AEIkGgM"
      },
      "execution_count": null,
      "outputs": [
        {
          "output_type": "execute_result",
          "data": {
            "text/plain": [
              "         Date         Open         High          Low        Close  \\\n",
              "0  2019-03-01  8533.238281  8619.142578  8447.333008  8590.507813   \n",
              "1  2019-03-04  8590.507813  8733.682617  8561.873047  8705.047852   \n",
              "2  2019-03-05  8705.047852  8790.953125  8619.142578  8676.413086   \n",
              "3  2019-03-06  8647.778320  8705.047852  8590.507813  8676.413086   \n",
              "4  2019-03-07  8705.047852  8790.953125  8676.413086  8733.682617   \n",
              "\n",
              "     Adj Close      Volume  \n",
              "0  8254.484375   5164405.0  \n",
              "1  8364.543945  10898750.0  \n",
              "2  8337.029297   8611453.0  \n",
              "3  8337.029297  11100248.0  \n",
              "4  8392.058594  11530669.0  "
            ],
            "text/html": [
              "\n",
              "  <div id=\"df-db287ba1-a7e0-4ae9-b1c3-cc149a6a59e4\" class=\"colab-df-container\">\n",
              "    <div>\n",
              "<style scoped>\n",
              "    .dataframe tbody tr th:only-of-type {\n",
              "        vertical-align: middle;\n",
              "    }\n",
              "\n",
              "    .dataframe tbody tr th {\n",
              "        vertical-align: top;\n",
              "    }\n",
              "\n",
              "    .dataframe thead th {\n",
              "        text-align: right;\n",
              "    }\n",
              "</style>\n",
              "<table border=\"1\" class=\"dataframe\">\n",
              "  <thead>\n",
              "    <tr style=\"text-align: right;\">\n",
              "      <th></th>\n",
              "      <th>Date</th>\n",
              "      <th>Open</th>\n",
              "      <th>High</th>\n",
              "      <th>Low</th>\n",
              "      <th>Close</th>\n",
              "      <th>Adj Close</th>\n",
              "      <th>Volume</th>\n",
              "    </tr>\n",
              "  </thead>\n",
              "  <tbody>\n",
              "    <tr>\n",
              "      <th>0</th>\n",
              "      <td>2019-03-01</td>\n",
              "      <td>8533.238281</td>\n",
              "      <td>8619.142578</td>\n",
              "      <td>8447.333008</td>\n",
              "      <td>8590.507813</td>\n",
              "      <td>8254.484375</td>\n",
              "      <td>5164405.0</td>\n",
              "    </tr>\n",
              "    <tr>\n",
              "      <th>1</th>\n",
              "      <td>2019-03-04</td>\n",
              "      <td>8590.507813</td>\n",
              "      <td>8733.682617</td>\n",
              "      <td>8561.873047</td>\n",
              "      <td>8705.047852</td>\n",
              "      <td>8364.543945</td>\n",
              "      <td>10898750.0</td>\n",
              "    </tr>\n",
              "    <tr>\n",
              "      <th>2</th>\n",
              "      <td>2019-03-05</td>\n",
              "      <td>8705.047852</td>\n",
              "      <td>8790.953125</td>\n",
              "      <td>8619.142578</td>\n",
              "      <td>8676.413086</td>\n",
              "      <td>8337.029297</td>\n",
              "      <td>8611453.0</td>\n",
              "    </tr>\n",
              "    <tr>\n",
              "      <th>3</th>\n",
              "      <td>2019-03-06</td>\n",
              "      <td>8647.778320</td>\n",
              "      <td>8705.047852</td>\n",
              "      <td>8590.507813</td>\n",
              "      <td>8676.413086</td>\n",
              "      <td>8337.029297</td>\n",
              "      <td>11100248.0</td>\n",
              "    </tr>\n",
              "    <tr>\n",
              "      <th>4</th>\n",
              "      <td>2019-03-07</td>\n",
              "      <td>8705.047852</td>\n",
              "      <td>8790.953125</td>\n",
              "      <td>8676.413086</td>\n",
              "      <td>8733.682617</td>\n",
              "      <td>8392.058594</td>\n",
              "      <td>11530669.0</td>\n",
              "    </tr>\n",
              "  </tbody>\n",
              "</table>\n",
              "</div>\n",
              "    <div class=\"colab-df-buttons\">\n",
              "\n",
              "  <div class=\"colab-df-container\">\n",
              "    <button class=\"colab-df-convert\" onclick=\"convertToInteractive('df-db287ba1-a7e0-4ae9-b1c3-cc149a6a59e4')\"\n",
              "            title=\"Convert this dataframe to an interactive table.\"\n",
              "            style=\"display:none;\">\n",
              "\n",
              "  <svg xmlns=\"http://www.w3.org/2000/svg\" height=\"24px\" viewBox=\"0 -960 960 960\">\n",
              "    <path d=\"M120-120v-720h720v720H120Zm60-500h600v-160H180v160Zm220 220h160v-160H400v160Zm0 220h160v-160H400v160ZM180-400h160v-160H180v160Zm440 0h160v-160H620v160ZM180-180h160v-160H180v160Zm440 0h160v-160H620v160Z\"/>\n",
              "  </svg>\n",
              "    </button>\n",
              "\n",
              "  <style>\n",
              "    .colab-df-container {\n",
              "      display:flex;\n",
              "      gap: 12px;\n",
              "    }\n",
              "\n",
              "    .colab-df-convert {\n",
              "      background-color: #E8F0FE;\n",
              "      border: none;\n",
              "      border-radius: 50%;\n",
              "      cursor: pointer;\n",
              "      display: none;\n",
              "      fill: #1967D2;\n",
              "      height: 32px;\n",
              "      padding: 0 0 0 0;\n",
              "      width: 32px;\n",
              "    }\n",
              "\n",
              "    .colab-df-convert:hover {\n",
              "      background-color: #E2EBFA;\n",
              "      box-shadow: 0px 1px 2px rgba(60, 64, 67, 0.3), 0px 1px 3px 1px rgba(60, 64, 67, 0.15);\n",
              "      fill: #174EA6;\n",
              "    }\n",
              "\n",
              "    .colab-df-buttons div {\n",
              "      margin-bottom: 4px;\n",
              "    }\n",
              "\n",
              "    [theme=dark] .colab-df-convert {\n",
              "      background-color: #3B4455;\n",
              "      fill: #D2E3FC;\n",
              "    }\n",
              "\n",
              "    [theme=dark] .colab-df-convert:hover {\n",
              "      background-color: #434B5C;\n",
              "      box-shadow: 0px 1px 3px 1px rgba(0, 0, 0, 0.15);\n",
              "      filter: drop-shadow(0px 1px 2px rgba(0, 0, 0, 0.3));\n",
              "      fill: #FFFFFF;\n",
              "    }\n",
              "  </style>\n",
              "\n",
              "    <script>\n",
              "      const buttonEl =\n",
              "        document.querySelector('#df-db287ba1-a7e0-4ae9-b1c3-cc149a6a59e4 button.colab-df-convert');\n",
              "      buttonEl.style.display =\n",
              "        google.colab.kernel.accessAllowed ? 'block' : 'none';\n",
              "\n",
              "      async function convertToInteractive(key) {\n",
              "        const element = document.querySelector('#df-db287ba1-a7e0-4ae9-b1c3-cc149a6a59e4');\n",
              "        const dataTable =\n",
              "          await google.colab.kernel.invokeFunction('convertToInteractive',\n",
              "                                                    [key], {});\n",
              "        if (!dataTable) return;\n",
              "\n",
              "        const docLinkHtml = 'Like what you see? Visit the ' +\n",
              "          '<a target=\"_blank\" href=https://colab.research.google.com/notebooks/data_table.ipynb>data table notebook</a>'\n",
              "          + ' to learn more about interactive tables.';\n",
              "        element.innerHTML = '';\n",
              "        dataTable['output_type'] = 'display_data';\n",
              "        await google.colab.output.renderOutput(dataTable, element);\n",
              "        const docLink = document.createElement('div');\n",
              "        docLink.innerHTML = docLinkHtml;\n",
              "        element.appendChild(docLink);\n",
              "      }\n",
              "    </script>\n",
              "  </div>\n",
              "\n",
              "\n",
              "<div id=\"df-ba5f3ce3-080e-47e0-9314-2d9bf9bf16b5\">\n",
              "  <button class=\"colab-df-quickchart\" onclick=\"quickchart('df-ba5f3ce3-080e-47e0-9314-2d9bf9bf16b5')\"\n",
              "            title=\"Suggest charts\"\n",
              "            style=\"display:none;\">\n",
              "\n",
              "<svg xmlns=\"http://www.w3.org/2000/svg\" height=\"24px\"viewBox=\"0 0 24 24\"\n",
              "     width=\"24px\">\n",
              "    <g>\n",
              "        <path d=\"M19 3H5c-1.1 0-2 .9-2 2v14c0 1.1.9 2 2 2h14c1.1 0 2-.9 2-2V5c0-1.1-.9-2-2-2zM9 17H7v-7h2v7zm4 0h-2V7h2v10zm4 0h-2v-4h2v4z\"/>\n",
              "    </g>\n",
              "</svg>\n",
              "  </button>\n",
              "\n",
              "<style>\n",
              "  .colab-df-quickchart {\n",
              "      --bg-color: #E8F0FE;\n",
              "      --fill-color: #1967D2;\n",
              "      --hover-bg-color: #E2EBFA;\n",
              "      --hover-fill-color: #174EA6;\n",
              "      --disabled-fill-color: #AAA;\n",
              "      --disabled-bg-color: #DDD;\n",
              "  }\n",
              "\n",
              "  [theme=dark] .colab-df-quickchart {\n",
              "      --bg-color: #3B4455;\n",
              "      --fill-color: #D2E3FC;\n",
              "      --hover-bg-color: #434B5C;\n",
              "      --hover-fill-color: #FFFFFF;\n",
              "      --disabled-bg-color: #3B4455;\n",
              "      --disabled-fill-color: #666;\n",
              "  }\n",
              "\n",
              "  .colab-df-quickchart {\n",
              "    background-color: var(--bg-color);\n",
              "    border: none;\n",
              "    border-radius: 50%;\n",
              "    cursor: pointer;\n",
              "    display: none;\n",
              "    fill: var(--fill-color);\n",
              "    height: 32px;\n",
              "    padding: 0;\n",
              "    width: 32px;\n",
              "  }\n",
              "\n",
              "  .colab-df-quickchart:hover {\n",
              "    background-color: var(--hover-bg-color);\n",
              "    box-shadow: 0 1px 2px rgba(60, 64, 67, 0.3), 0 1px 3px 1px rgba(60, 64, 67, 0.15);\n",
              "    fill: var(--button-hover-fill-color);\n",
              "  }\n",
              "\n",
              "  .colab-df-quickchart-complete:disabled,\n",
              "  .colab-df-quickchart-complete:disabled:hover {\n",
              "    background-color: var(--disabled-bg-color);\n",
              "    fill: var(--disabled-fill-color);\n",
              "    box-shadow: none;\n",
              "  }\n",
              "\n",
              "  .colab-df-spinner {\n",
              "    border: 2px solid var(--fill-color);\n",
              "    border-color: transparent;\n",
              "    border-bottom-color: var(--fill-color);\n",
              "    animation:\n",
              "      spin 1s steps(1) infinite;\n",
              "  }\n",
              "\n",
              "  @keyframes spin {\n",
              "    0% {\n",
              "      border-color: transparent;\n",
              "      border-bottom-color: var(--fill-color);\n",
              "      border-left-color: var(--fill-color);\n",
              "    }\n",
              "    20% {\n",
              "      border-color: transparent;\n",
              "      border-left-color: var(--fill-color);\n",
              "      border-top-color: var(--fill-color);\n",
              "    }\n",
              "    30% {\n",
              "      border-color: transparent;\n",
              "      border-left-color: var(--fill-color);\n",
              "      border-top-color: var(--fill-color);\n",
              "      border-right-color: var(--fill-color);\n",
              "    }\n",
              "    40% {\n",
              "      border-color: transparent;\n",
              "      border-right-color: var(--fill-color);\n",
              "      border-top-color: var(--fill-color);\n",
              "    }\n",
              "    60% {\n",
              "      border-color: transparent;\n",
              "      border-right-color: var(--fill-color);\n",
              "    }\n",
              "    80% {\n",
              "      border-color: transparent;\n",
              "      border-right-color: var(--fill-color);\n",
              "      border-bottom-color: var(--fill-color);\n",
              "    }\n",
              "    90% {\n",
              "      border-color: transparent;\n",
              "      border-bottom-color: var(--fill-color);\n",
              "    }\n",
              "  }\n",
              "</style>\n",
              "\n",
              "  <script>\n",
              "    async function quickchart(key) {\n",
              "      const quickchartButtonEl =\n",
              "        document.querySelector('#' + key + ' button');\n",
              "      quickchartButtonEl.disabled = true;  // To prevent multiple clicks.\n",
              "      quickchartButtonEl.classList.add('colab-df-spinner');\n",
              "      try {\n",
              "        const charts = await google.colab.kernel.invokeFunction(\n",
              "            'suggestCharts', [key], {});\n",
              "      } catch (error) {\n",
              "        console.error('Error during call to suggestCharts:', error);\n",
              "      }\n",
              "      quickchartButtonEl.classList.remove('colab-df-spinner');\n",
              "      quickchartButtonEl.classList.add('colab-df-quickchart-complete');\n",
              "    }\n",
              "    (() => {\n",
              "      let quickchartButtonEl =\n",
              "        document.querySelector('#df-ba5f3ce3-080e-47e0-9314-2d9bf9bf16b5 button');\n",
              "      quickchartButtonEl.style.display =\n",
              "        google.colab.kernel.accessAllowed ? 'block' : 'none';\n",
              "    })();\n",
              "  </script>\n",
              "</div>\n",
              "\n",
              "    </div>\n",
              "  </div>\n"
            ],
            "application/vnd.google.colaboratory.intrinsic+json": {
              "type": "dataframe",
              "variable_name": "df",
              "summary": "{\n  \"name\": \"df\",\n  \"rows\": 1376,\n  \"fields\": [\n    {\n      \"column\": \"Date\",\n      \"properties\": {\n        \"dtype\": \"object\",\n        \"num_unique_values\": 1376,\n        \"samples\": [\n          \"2021-02-03\",\n          \"2019-06-04\",\n          \"2022-05-24\"\n        ],\n        \"semantic_type\": \"\",\n        \"description\": \"\"\n      }\n    },\n    {\n      \"column\": \"Open\",\n      \"properties\": {\n        \"dtype\": \"number\",\n        \"std\": 5255.164793267486,\n        \"min\": 5993.311035,\n        \"max\": 25826.087891,\n        \"num_unique_values\": 495,\n        \"samples\": [\n          24391.304688,\n          7817.362305,\n          17965.972656\n        ],\n        \"semantic_type\": \"\",\n        \"description\": \"\"\n      }\n    },\n    {\n      \"column\": \"High\",\n      \"properties\": {\n        \"dtype\": \"number\",\n        \"std\": 5291.1025344712225,\n        \"min\": 6998.400391,\n        \"max\": 26260.869141,\n        \"num_unique_values\": 521,\n        \"samples\": [\n          24217.390625,\n          7854.587891,\n          9077.303711\n        ],\n        \"semantic_type\": \"\",\n        \"description\": \"\"\n      }\n    },\n    {\n      \"column\": \"Low\",\n      \"properties\": {\n        \"dtype\": \"number\",\n        \"std\": 5206.456130045345,\n        \"min\": 5993.311035,\n        \"max\": 25478.261719,\n        \"num_unique_values\": 512,\n        \"samples\": [\n          20506.617188,\n          24434.783203,\n          19739.130859\n        ],\n        \"semantic_type\": \"\",\n        \"description\": \"\"\n      }\n    },\n    {\n      \"column\": \"Close\",\n      \"properties\": {\n        \"dtype\": \"number\",\n        \"std\": 5246.805019474392,\n        \"min\": 6626.14502,\n        \"max\": 25782.609375,\n        \"num_unique_values\": 511,\n        \"samples\": [\n          11807.939453,\n          7668.459961,\n          19869.564453\n        ],\n        \"semantic_type\": \"\",\n        \"description\": \"\"\n      }\n    },\n    {\n      \"column\": \"Adj Close\",\n      \"properties\": {\n        \"dtype\": \"number\",\n        \"std\": 5049.34348267319,\n        \"min\": 6366.958984,\n        \"max\": 24800.0,\n        \"num_unique_values\": 511,\n        \"samples\": [\n          11346.064453,\n          7368.50293,\n          19092.353516\n        ],\n        \"semantic_type\": \"\",\n        \"description\": \"\"\n      }\n    },\n    {\n      \"column\": \"Volume\",\n      \"properties\": {\n        \"dtype\": \"number\",\n        \"std\": 15146387.911252096,\n        \"min\": 981368.0,\n        \"max\": 247314860.0,\n        \"num_unique_values\": 1312,\n        \"samples\": [\n          2344064.0,\n          16782297.0,\n          16827777.0\n        ],\n        \"semantic_type\": \"\",\n        \"description\": \"\"\n      }\n    }\n  ]\n}"
            }
          },
          "metadata": {},
          "execution_count": 19
        }
      ]
    },
    {
      "cell_type": "code",
      "source": [
        "df = df[['Close']]\n",
        "df = df.dropna() # Drop missing values\n",
        "df = df.reset_index(drop=True) # Reset the index"
      ],
      "metadata": {
        "id": "VUDVRitEkGgM"
      },
      "execution_count": null,
      "outputs": []
    },
    {
      "cell_type": "code",
      "source": [
        "# Split the data into training, testing sets\n",
        "train_size = int(0.7 * len(df))\n",
        "train_data = df[:train_size]\n",
        "test_data = df[train_size:]"
      ],
      "metadata": {
        "id": "KPPwudpIkGgM"
      },
      "execution_count": null,
      "outputs": []
    },
    {
      "cell_type": "code",
      "source": [
        "X_train = np.array(train_data.index).reshape(-1, 1)\n",
        "y_train = np.array(train_data['Close'])"
      ],
      "metadata": {
        "id": "xGdcnJthkGgN"
      },
      "execution_count": null,
      "outputs": []
    },
    {
      "cell_type": "code",
      "source": [
        "# Auto ARIMA to select optimal ARIMA parameters\n",
        "model = auto_arima(y_train, start_p=1, start_q=1,\n",
        "                         test='adf',\n",
        "                         max_p=3, max_q=3, m=12,\n",
        "                         start_P=0, seasonal=False,\n",
        "                         d=None, D=0, trace=True,\n",
        "                         error_action='ignore',\n",
        "                         suppress_warnings=True,\n",
        "                         stepwise=True)\n",
        "\n",
        "print(model.summary())"
      ],
      "metadata": {
        "colab": {
          "base_uri": "https://localhost:8080/"
        },
        "outputId": "1138bfa4-2585-43cb-a5dd-d40913e57917",
        "id": "d40OmMBtkGgN"
      },
      "execution_count": null,
      "outputs": [
        {
          "output_type": "stream",
          "name": "stderr",
          "text": [
            "/usr/local/lib/python3.10/dist-packages/pmdarima/arima/_validation.py:62: UserWarning: m (12) set for non-seasonal fit. Setting to 0\n",
            "  warnings.warn(\"m (%i) set for non-seasonal fit. Setting to 0\" % m)\n"
          ]
        },
        {
          "output_type": "stream",
          "name": "stdout",
          "text": [
            "Performing stepwise search to minimize aic\n",
            " ARIMA(1,1,1)(0,0,0)[0] intercept   : AIC=13049.698, Time=0.37 sec\n",
            " ARIMA(0,1,0)(0,0,0)[0] intercept   : AIC=13045.966, Time=0.04 sec\n",
            " ARIMA(1,1,0)(0,0,0)[0] intercept   : AIC=13047.806, Time=0.09 sec\n",
            " ARIMA(0,1,1)(0,0,0)[0] intercept   : AIC=13047.827, Time=0.12 sec\n",
            " ARIMA(0,1,0)(0,0,0)[0]             : AIC=13044.522, Time=0.02 sec\n",
            "\n",
            "Best model:  ARIMA(0,1,0)(0,0,0)[0]          \n",
            "Total fit time: 0.654 seconds\n",
            "                               SARIMAX Results                                \n",
            "==============================================================================\n",
            "Dep. Variable:                      y   No. Observations:                  919\n",
            "Model:               SARIMAX(0, 1, 0)   Log Likelihood               -6521.261\n",
            "Date:                Mon, 17 Jun 2024   AIC                          13044.522\n",
            "Time:                        05:00:00   BIC                          13049.344\n",
            "Sample:                             0   HQIC                         13046.363\n",
            "                                - 919                                         \n",
            "Covariance Type:                  opg                                         \n",
            "==============================================================================\n",
            "                 coef    std err          z      P>|z|      [0.025      0.975]\n",
            "------------------------------------------------------------------------------\n",
            "sigma2      8.656e+04   2178.381     39.735      0.000    8.23e+04    9.08e+04\n",
            "===================================================================================\n",
            "Ljung-Box (L1) (Q):                   0.14   Jarque-Bera (JB):               929.79\n",
            "Prob(Q):                              0.71   Prob(JB):                         0.00\n",
            "Heteroskedasticity (H):               5.31   Skew:                            -0.28\n",
            "Prob(H) (two-sided):                  0.00   Kurtosis:                         7.90\n",
            "===================================================================================\n",
            "\n",
            "Warnings:\n",
            "[1] Covariance matrix calculated using the outer product of gradients (complex-step).\n"
          ]
        }
      ]
    },
    {
      "cell_type": "code",
      "source": [
        "order = (model.order[0], model.order[1], model.order[2])\n",
        "print(order)"
      ],
      "metadata": {
        "colab": {
          "base_uri": "https://localhost:8080/"
        },
        "outputId": "bd216216-7f9c-420e-d2e5-001bb3ffd608",
        "id": "a69qncb7kGgN"
      },
      "execution_count": null,
      "outputs": [
        {
          "output_type": "stream",
          "name": "stdout",
          "text": [
            "(0, 1, 0)\n"
          ]
        }
      ]
    },
    {
      "cell_type": "code",
      "source": [
        "from statsmodels.tsa.arima.model import ARIMA\n",
        "def evaluate_ariama_model(x_data, y_data, order):\n",
        "    y_pred = list()\n",
        "    history = [x for x in y_train]\n",
        "    for t in range(len(y_data)):\n",
        "        model = ARIMA(history, order=order)\n",
        "        model_fit = model.fit()\n",
        "        output = model_fit.forecast()\n",
        "        yhat = output[0]\n",
        "        y_pred.append(yhat)\n",
        "        obs = y_data[t]\n",
        "        history.append(obs)\n",
        "    mse = mean_squared_error(y_data, y_pred)\n",
        "    mae = mean_absolute_error(y_data, y_pred)\n",
        "    mape = mean_absolute_percentage_error(y_data, y_pred)\n",
        "    rmse = mean_squared_error(y_data, y_pred, squared=False)\n",
        "    return y_pred, mse, mae, mape, rmse"
      ],
      "metadata": {
        "id": "FIZsWIiekGgO"
      },
      "execution_count": null,
      "outputs": []
    },
    {
      "cell_type": "code",
      "source": [
        "x_test = np.array(test_data.index).reshape(-1, 1)\n",
        "y_test = np.array(test_data['Close'])\n",
        "y_pred, test_mse, test_mae, test_mape, test_rmse = evaluate_ariama_model(x_test, y_test, order)\n",
        "\n",
        "print(\"Price predict on test data:\", y_pred)\n",
        "print(\"MSE on test data:\", test_mse)\n",
        "print(\"MAE on test data:\", test_mae)\n",
        "print(\"MAPE on test data:\", test_mape)\n",
        "print(\"RMSE on test data:\", test_rmse)"
      ],
      "metadata": {
        "colab": {
          "base_uri": "https://localhost:8080/"
        },
        "outputId": "60c85ae9-c606-4c7d-b7a0-5ccf273a558d",
        "id": "OJadnT0akGgO"
      },
      "execution_count": null,
      "outputs": [
        {
          "output_type": "stream",
          "name": "stdout",
          "text": [
            "Price predict on test data: [15236.294922, 15614.367188, 16105.860352, 15689.981445, 15122.873047, 15727.788086, 15349.716797, 14442.34375, 15425.331055, 15916.824219, 15992.438477, 15576.55957, 15387.523438, 15614.367188, 15879.016602, 16257.088867, 16824.197266, 16748.582031, 16710.775391, 17013.232422, 17769.376953, 17844.990234, 16862.003906, 16862.003906, 17126.654297, 17429.111328, 17013.232422, 17429.111328, 17504.726563, 17542.533203, 17391.304688, 17202.267578, 17051.039063, 17240.076172, 17315.689453, 17315.689453, 16710.775391, 16710.775391, 16635.160156, 16635.160156, 16559.546875, 17164.460938, 17126.654297, 17277.882813, 17504.726563, 17466.917969, 17731.568359, 18298.675781, 18525.519531, 18260.869141, 18903.591797, 19130.435547, 19281.664063, 19659.734375, 19924.384766, 19206.048828, 19697.542969, 19054.820313, 18903.591797, 18525.519531, 18827.976563, 18601.134766, 18638.941406, 18525.519531, 18298.675781, 18071.833984, 18034.027344, 18563.326172, 18752.363281, 18752.363281, 19508.505859, 19281.664063, 18790.169922, 19206.048828, 18601.134766, 18336.484375, 18449.90625, 19017.013672, 18941.398438, 18525.519531, 18374.291016, 18525.519531, 18903.591797, 19168.242188, 18827.976563, 18525.519531, 18185.255859, 18752.363281, 18449.90625, 18412.097656, 18147.447266, 18298.675781, 18260.869141, 18525.519531, 18563.326172, 18487.712891, 18487.712891, 18449.90625, 18601.134766, 18903.591797, 19092.626953, 19017.013672, 19130.435547, 18827.976563, 18941.398438, 18903.591797, 18865.785156, 18790.169922, 18865.785156, 18865.785156, 18903.591797, 18714.556641, 18449.90625, 18336.484375, 18336.484375, 18298.675781, 18260.869141, 18260.869141, 18260.869141, 18298.675781, 18676.748047, 18638.941406, 18865.785156, 18827.976563, 18827.976563, 18827.976563, 18903.591797, 18903.591797, 18903.591797, 18827.976563, 18903.591797, 18865.785156, 18941.398438, 19168.242188, 19017.013672, 18979.205078, 18903.591797, 19017.013672, 19054.820313, 19206.048828, 18608.695313, 18956.521484, 18913.042969, 18956.521484, 19000.0, 18782.609375, 18739.130859, 18652.173828, 18782.609375, 18826.087891, 18869.564453, 18956.521484, 18826.087891, 18826.087891, 18869.564453, 18826.087891, 19043.478516, 19347.826172, 19304.347656, 19391.304688, 19043.478516, 19173.912109, 19173.912109, 19130.435547, 19086.957031, 18869.564453, 18869.564453, 19086.957031, 19130.435547, 19000.0, 19130.435547, 19130.435547, 19130.435547, 19130.435547, 19130.435547, 19130.435547, 19217.390625, 19173.912109, 19391.304688, 19391.304688, 19260.869141, 19304.347656, 19956.521484, 19869.564453, 20086.957031, 20391.304688, 21217.390625, 20652.173828, 20347.826172, 20173.912109, 19913.042969, 19913.042969, 20043.478516, 19869.564453, 19913.042969, 19739.130859, 19043.478516, 19130.435547, 19173.912109, 19000.0, 19173.912109, 19086.957031, 19173.912109, 19173.912109, 19521.738281, 19652.173828, 19782.609375, 19956.521484, 19913.042969, 19782.609375, 19434.783203, 19782.609375, 19608.695313, 19521.738281, 19695.652344, 19521.738281, 19391.304688, 19521.738281, 19478.261719, 19391.304688, 19130.435547, 19043.478516, 19130.435547, 18913.042969, 19000.0, 19043.478516, 18782.609375, 18782.609375, 18782.609375, 18956.521484, 19565.216797, 19826.087891, 19739.130859, 19739.130859, 19695.652344, 19652.173828, 19521.738281, 19173.912109, 18956.521484, 19043.478516, 18956.521484, 19043.478516, 19043.478516, 18347.826172, 18739.130859, 18521.738281, 18608.695313, 18782.609375, 19391.304688, 19173.912109, 19304.347656, 19217.390625, 19826.087891, 19608.695313, 19478.261719, 19521.738281, 19739.130859, 20217.390625, 20260.869141, 19739.130859, 19565.216797, 19652.173828, 19739.130859, 19304.347656, 19173.912109, 19000.0, 19043.478516, 19173.912109, 19086.957031, 19086.957031, 19391.304688, 19260.869141, 19391.304688, 19478.261719, 19478.261719, 19478.261719, 19565.216797, 19391.304688, 19565.216797, 19782.609375, 19826.087891, 20043.478516, 20173.912109, 20217.390625, 20173.912109, 20304.347656, 20217.390625, 20260.869141, 20652.173828, 20782.609375, 21260.869141, 21739.130859, 22000.0, 22130.435547, 22043.478516, 21739.130859, 21956.521484, 21956.521484, 22434.783203, 22000.0, 22086.957031, 22086.957031, 22260.869141, 22565.216797, 22869.564453, 22652.173828, 22434.783203, 22434.783203, 22869.564453, 22565.216797, 22565.216797, 22391.304688, 22608.695313, 22826.087891, 24173.912109, 24217.390625, 24347.826172, 23652.173828, 24000.0, 24086.957031, 23956.521484, 24086.957031, 24043.478516, 23739.130859, 23913.042969, 24000.0, 24347.826172, 24347.826172, 24173.912109, 24173.912109, 24304.347656, 24000.0, 23913.042969, 23521.738281, 23260.869141, 23260.869141, 24043.478516, 23695.652344, 23782.609375, 23391.304688, 23347.826172, 23913.042969, 24347.826172, 24478.261719, 23913.042969, 24304.347656, 24347.826172, 24652.173828, 24782.609375, 24739.130859, 24695.652344, 24347.826172, 23956.521484, 23608.695313, 23608.695313, 23739.130859, 23565.216797, 23608.695313, 24347.826172, 23347.826172, 23608.695313, 23260.869141, 23130.435547, 23304.347656, 23173.912109, 23521.738281, 23304.347656, 23347.826172, 23478.261719, 23913.042969, 24000.0, 24043.478516, 23956.521484, 24000.0, 24086.957031, 24086.957031, 24130.435547, 24086.957031, 24565.216797, 24565.216797, 24565.216797, 24521.738281, 24304.347656, 24739.130859, 25434.783203, 25608.695313, 25782.609375, 25434.783203, 25565.216797, 24650.0, 24800.0, 24500.0, 24350.0, 24350.0]\n",
            "MSE on test data: 86535.71539337638\n",
            "MAE on test data: 208.67744685279197\n",
            "MAPE on test data: 0.010567389575093789\n",
            "RMSE on test data: 294.1695351211209\n"
          ]
        }
      ]
    },
    {
      "cell_type": "code",
      "source": [
        "last_index = len(df)-1\n",
        "\n",
        "# Create arrays for 90 days\n",
        "x_next_90_days = np.array(range(last_index+1, last_index+91)).reshape(-1, 1)\n",
        "\n",
        "# Predict for the next 30 days\n",
        "y_next_90_days = list()\n",
        "history = [x for x in y_test]\n",
        "for t in range(len(x_next_90_days)):\n",
        "    model = ARIMA(history, order=order)\n",
        "    model_fit = model.fit()\n",
        "    output = model_fit.forecast()\n",
        "    yhat = output[0]\n",
        "    y_next_90_days.append(yhat)\n",
        "    history.append(yhat)\n",
        "\n"
      ],
      "metadata": {
        "id": "fu-w_PnukGgO"
      },
      "execution_count": null,
      "outputs": []
    },
    {
      "cell_type": "code",
      "source": [
        "plt.figure(figsize=(12,6))\n",
        "\n",
        "# Plot the train, test, and validation data\n",
        "plt.plot(train_data.index, train_data['Close'], label='Train')\n",
        "plt.plot(test_data.index, test_data['Close'], label='Test')\n",
        "\n",
        "# Plot the predictions for test and validation sets\n",
        "plt.plot(test_data.index, y_pred, label='Test Predictions')\n",
        "\n",
        "# Plot the predictions for the next 90 days\n",
        "\n",
        "plt.plot(range(last_index + 1, last_index + 91), y_next_90_days, color='red', label='Next 90 Days')\n",
        "\n",
        "# Adding titles and labels\n",
        "plt.title('Predicted ACB Stock Closing Prices with 70% Train and 30% Test')\n",
        "plt.xlabel('Time')\n",
        "plt.ylabel('Closing Price')\n",
        "plt.legend()\n",
        "plt.grid(True)\n",
        "\n",
        "# Show the plot\n",
        "plt.show()"
      ],
      "metadata": {
        "colab": {
          "base_uri": "https://localhost:8080/",
          "height": 564
        },
        "outputId": "3f95d0a0-f224-47e2-865d-76ecc7c7ba09",
        "id": "FqNbx2JakGgP"
      },
      "execution_count": null,
      "outputs": [
        {
          "output_type": "display_data",
          "data": {
            "text/plain": [
              "<Figure size 1200x600 with 1 Axes>"
            ],
            "image/png": "[encoded data removed]"
          },
          "metadata": {}
        }
      ]
    },
    {
      "cell_type": "code",
      "source": [],
      "metadata": {
        "id": "FcbEvyGDkGgQ"
      },
      "execution_count": null,
      "outputs": []
    },
    {
      "cell_type": "markdown",
      "source": [
        "# Train test 9:1"
      ],
      "metadata": {
        "id": "gk-0Sb-7kgR0"
      }
    },
    {
      "cell_type": "code",
      "source": [
        "df = pd.read_csv('/content/ACB.VN-BaoCao.csv')"
      ],
      "metadata": {
        "id": "F8_iE2jYkgSe"
      },
      "execution_count": null,
      "outputs": []
    },
    {
      "cell_type": "code",
      "source": [
        "df.head()"
      ],
      "metadata": {
        "colab": {
          "base_uri": "https://localhost:8080/",
          "height": 206
        },
        "outputId": "f093c76d-a544-4164-e7a9-d5d3835c62ce",
        "id": "ijvr5M5QkgSe"
      },
      "execution_count": null,
      "outputs": [
        {
          "output_type": "execute_result",
          "data": {
            "text/plain": [
              "         Date         Open         High          Low        Close  \\\n",
              "0  2019-03-01  8533.238281  8619.142578  8447.333008  8590.507813   \n",
              "1  2019-03-04  8590.507813  8733.682617  8561.873047  8705.047852   \n",
              "2  2019-03-05  8705.047852  8790.953125  8619.142578  8676.413086   \n",
              "3  2019-03-06  8647.778320  8705.047852  8590.507813  8676.413086   \n",
              "4  2019-03-07  8705.047852  8790.953125  8676.413086  8733.682617   \n",
              "\n",
              "     Adj Close      Volume  \n",
              "0  8254.484375   5164405.0  \n",
              "1  8364.543945  10898750.0  \n",
              "2  8337.029297   8611453.0  \n",
              "3  8337.029297  11100248.0  \n",
              "4  8392.058594  11530669.0  "
            ],
            "text/html": [
              "\n",
              "  <div id=\"df-db287ba1-a7e0-4ae9-b1c3-cc149a6a59e4\" class=\"colab-df-container\">\n",
              "    <div>\n",
              "<style scoped>\n",
              "    .dataframe tbody tr th:only-of-type {\n",
              "        vertical-align: middle;\n",
              "    }\n",
              "\n",
              "    .dataframe tbody tr th {\n",
              "        vertical-align: top;\n",
              "    }\n",
              "\n",
              "    .dataframe thead th {\n",
              "        text-align: right;\n",
              "    }\n",
              "</style>\n",
              "<table border=\"1\" class=\"dataframe\">\n",
              "  <thead>\n",
              "    <tr style=\"text-align: right;\">\n",
              "      <th></th>\n",
              "      <th>Date</th>\n",
              "      <th>Open</th>\n",
              "      <th>High</th>\n",
              "      <th>Low</th>\n",
              "      <th>Close</th>\n",
              "      <th>Adj Close</th>\n",
              "      <th>Volume</th>\n",
              "    </tr>\n",
              "  </thead>\n",
              "  <tbody>\n",
              "    <tr>\n",
              "      <th>0</th>\n",
              "      <td>2019-03-01</td>\n",
              "      <td>8533.238281</td>\n",
              "      <td>8619.142578</td>\n",
              "      <td>8447.333008</td>\n",
              "      <td>8590.507813</td>\n",
              "      <td>8254.484375</td>\n",
              "      <td>5164405.0</td>\n",
              "    </tr>\n",
              "    <tr>\n",
              "      <th>1</th>\n",
              "      <td>2019-03-04</td>\n",
              "      <td>8590.507813</td>\n",
              "      <td>8733.682617</td>\n",
              "      <td>8561.873047</td>\n",
              "      <td>8705.047852</td>\n",
              "      <td>8364.543945</td>\n",
              "      <td>10898750.0</td>\n",
              "    </tr>\n",
              "    <tr>\n",
              "      <th>2</th>\n",
              "      <td>2019-03-05</td>\n",
              "      <td>8705.047852</td>\n",
              "      <td>8790.953125</td>\n",
              "      <td>8619.142578</td>\n",
              "      <td>8676.413086</td>\n",
              "      <td>8337.029297</td>\n",
              "      <td>8611453.0</td>\n",
              "    </tr>\n",
              "    <tr>\n",
              "      <th>3</th>\n",
              "      <td>2019-03-06</td>\n",
              "      <td>8647.778320</td>\n",
              "      <td>8705.047852</td>\n",
              "      <td>8590.507813</td>\n",
              "      <td>8676.413086</td>\n",
              "      <td>8337.029297</td>\n",
              "      <td>11100248.0</td>\n",
              "    </tr>\n",
              "    <tr>\n",
              "      <th>4</th>\n",
              "      <td>2019-03-07</td>\n",
              "      <td>8705.047852</td>\n",
              "      <td>8790.953125</td>\n",
              "      <td>8676.413086</td>\n",
              "      <td>8733.682617</td>\n",
              "      <td>8392.058594</td>\n",
              "      <td>11530669.0</td>\n",
              "    </tr>\n",
              "  </tbody>\n",
              "</table>\n",
              "</div>\n",
              "    <div class=\"colab-df-buttons\">\n",
              "\n",
              "  <div class=\"colab-df-container\">\n",
              "    <button class=\"colab-df-convert\" onclick=\"convertToInteractive('df-db287ba1-a7e0-4ae9-b1c3-cc149a6a59e4')\"\n",
              "            title=\"Convert this dataframe to an interactive table.\"\n",
              "            style=\"display:none;\">\n",
              "\n",
              "  <svg xmlns=\"http://www.w3.org/2000/svg\" height=\"24px\" viewBox=\"0 -960 960 960\">\n",
              "    <path d=\"M120-120v-720h720v720H120Zm60-500h600v-160H180v160Zm220 220h160v-160H400v160Zm0 220h160v-160H400v160ZM180-400h160v-160H180v160Zm440 0h160v-160H620v160ZM180-180h160v-160H180v160Zm440 0h160v-160H620v160Z\"/>\n",
              "  </svg>\n",
              "    </button>\n",
              "\n",
              "  <style>\n",
              "    .colab-df-container {\n",
              "      display:flex;\n",
              "      gap: 12px;\n",
              "    }\n",
              "\n",
              "    .colab-df-convert {\n",
              "      background-color: #E8F0FE;\n",
              "      border: none;\n",
              "      border-radius: 50%;\n",
              "      cursor: pointer;\n",
              "      display: none;\n",
              "      fill: #1967D2;\n",
              "      height: 32px;\n",
              "      padding: 0 0 0 0;\n",
              "      width: 32px;\n",
              "    }\n",
              "\n",
              "    .colab-df-convert:hover {\n",
              "      background-color: #E2EBFA;\n",
              "      box-shadow: 0px 1px 2px rgba(60, 64, 67, 0.3), 0px 1px 3px 1px rgba(60, 64, 67, 0.15);\n",
              "      fill: #174EA6;\n",
              "    }\n",
              "\n",
              "    .colab-df-buttons div {\n",
              "      margin-bottom: 4px;\n",
              "    }\n",
              "\n",
              "    [theme=dark] .colab-df-convert {\n",
              "      background-color: #3B4455;\n",
              "      fill: #D2E3FC;\n",
              "    }\n",
              "\n",
              "    [theme=dark] .colab-df-convert:hover {\n",
              "      background-color: #434B5C;\n",
              "      box-shadow: 0px 1px 3px 1px rgba(0, 0, 0, 0.15);\n",
              "      filter: drop-shadow(0px 1px 2px rgba(0, 0, 0, 0.3));\n",
              "      fill: #FFFFFF;\n",
              "    }\n",
              "  </style>\n",
              "\n",
              "    <script>\n",
              "      const buttonEl =\n",
              "        document.querySelector('#df-db287ba1-a7e0-4ae9-b1c3-cc149a6a59e4 button.colab-df-convert');\n",
              "      buttonEl.style.display =\n",
              "        google.colab.kernel.accessAllowed ? 'block' : 'none';\n",
              "\n",
              "      async function convertToInteractive(key) {\n",
              "        const element = document.querySelector('#df-db287ba1-a7e0-4ae9-b1c3-cc149a6a59e4');\n",
              "        const dataTable =\n",
              "          await google.colab.kernel.invokeFunction('convertToInteractive',\n",
              "                                                    [key], {});\n",
              "        if (!dataTable) return;\n",
              "\n",
              "        const docLinkHtml = 'Like what you see? Visit the ' +\n",
              "          '<a target=\"_blank\" href=https://colab.research.google.com/notebooks/data_table.ipynb>data table notebook</a>'\n",
              "          + ' to learn more about interactive tables.';\n",
              "        element.innerHTML = '';\n",
              "        dataTable['output_type'] = 'display_data';\n",
              "        await google.colab.output.renderOutput(dataTable, element);\n",
              "        const docLink = document.createElement('div');\n",
              "        docLink.innerHTML = docLinkHtml;\n",
              "        element.appendChild(docLink);\n",
              "      }\n",
              "    </script>\n",
              "  </div>\n",
              "\n",
              "\n",
              "<div id=\"df-ba5f3ce3-080e-47e0-9314-2d9bf9bf16b5\">\n",
              "  <button class=\"colab-df-quickchart\" onclick=\"quickchart('df-ba5f3ce3-080e-47e0-9314-2d9bf9bf16b5')\"\n",
              "            title=\"Suggest charts\"\n",
              "            style=\"display:none;\">\n",
              "\n",
              "<svg xmlns=\"http://www.w3.org/2000/svg\" height=\"24px\"viewBox=\"0 0 24 24\"\n",
              "     width=\"24px\">\n",
              "    <g>\n",
              "        <path d=\"M19 3H5c-1.1 0-2 .9-2 2v14c0 1.1.9 2 2 2h14c1.1 0 2-.9 2-2V5c0-1.1-.9-2-2-2zM9 17H7v-7h2v7zm4 0h-2V7h2v10zm4 0h-2v-4h2v4z\"/>\n",
              "    </g>\n",
              "</svg>\n",
              "  </button>\n",
              "\n",
              "<style>\n",
              "  .colab-df-quickchart {\n",
              "      --bg-color: #E8F0FE;\n",
              "      --fill-color: #1967D2;\n",
              "      --hover-bg-color: #E2EBFA;\n",
              "      --hover-fill-color: #174EA6;\n",
              "      --disabled-fill-color: #AAA;\n",
              "      --disabled-bg-color: #DDD;\n",
              "  }\n",
              "\n",
              "  [theme=dark] .colab-df-quickchart {\n",
              "      --bg-color: #3B4455;\n",
              "      --fill-color: #D2E3FC;\n",
              "      --hover-bg-color: #434B5C;\n",
              "      --hover-fill-color: #FFFFFF;\n",
              "      --disabled-bg-color: #3B4455;\n",
              "      --disabled-fill-color: #666;\n",
              "  }\n",
              "\n",
              "  .colab-df-quickchart {\n",
              "    background-color: var(--bg-color);\n",
              "    border: none;\n",
              "    border-radius: 50%;\n",
              "    cursor: pointer;\n",
              "    display: none;\n",
              "    fill: var(--fill-color);\n",
              "    height: 32px;\n",
              "    padding: 0;\n",
              "    width: 32px;\n",
              "  }\n",
              "\n",
              "  .colab-df-quickchart:hover {\n",
              "    background-color: var(--hover-bg-color);\n",
              "    box-shadow: 0 1px 2px rgba(60, 64, 67, 0.3), 0 1px 3px 1px rgba(60, 64, 67, 0.15);\n",
              "    fill: var(--button-hover-fill-color);\n",
              "  }\n",
              "\n",
              "  .colab-df-quickchart-complete:disabled,\n",
              "  .colab-df-quickchart-complete:disabled:hover {\n",
              "    background-color: var(--disabled-bg-color);\n",
              "    fill: var(--disabled-fill-color);\n",
              "    box-shadow: none;\n",
              "  }\n",
              "\n",
              "  .colab-df-spinner {\n",
              "    border: 2px solid var(--fill-color);\n",
              "    border-color: transparent;\n",
              "    border-bottom-color: var(--fill-color);\n",
              "    animation:\n",
              "      spin 1s steps(1) infinite;\n",
              "  }\n",
              "\n",
              "  @keyframes spin {\n",
              "    0% {\n",
              "      border-color: transparent;\n",
              "      border-bottom-color: var(--fill-color);\n",
              "      border-left-color: var(--fill-color);\n",
              "    }\n",
              "    20% {\n",
              "      border-color: transparent;\n",
              "      border-left-color: var(--fill-color);\n",
              "      border-top-color: var(--fill-color);\n",
              "    }\n",
              "    30% {\n",
              "      border-color: transparent;\n",
              "      border-left-color: var(--fill-color);\n",
              "      border-top-color: var(--fill-color);\n",
              "      border-right-color: var(--fill-color);\n",
              "    }\n",
              "    40% {\n",
              "      border-color: transparent;\n",
              "      border-right-color: var(--fill-color);\n",
              "      border-top-color: var(--fill-color);\n",
              "    }\n",
              "    60% {\n",
              "      border-color: transparent;\n",
              "      border-right-color: var(--fill-color);\n",
              "    }\n",
              "    80% {\n",
              "      border-color: transparent;\n",
              "      border-right-color: var(--fill-color);\n",
              "      border-bottom-color: var(--fill-color);\n",
              "    }\n",
              "    90% {\n",
              "      border-color: transparent;\n",
              "      border-bottom-color: var(--fill-color);\n",
              "    }\n",
              "  }\n",
              "</style>\n",
              "\n",
              "  <script>\n",
              "    async function quickchart(key) {\n",
              "      const quickchartButtonEl =\n",
              "        document.querySelector('#' + key + ' button');\n",
              "      quickchartButtonEl.disabled = true;  // To prevent multiple clicks.\n",
              "      quickchartButtonEl.classList.add('colab-df-spinner');\n",
              "      try {\n",
              "        const charts = await google.colab.kernel.invokeFunction(\n",
              "            'suggestCharts', [key], {});\n",
              "      } catch (error) {\n",
              "        console.error('Error during call to suggestCharts:', error);\n",
              "      }\n",
              "      quickchartButtonEl.classList.remove('colab-df-spinner');\n",
              "      quickchartButtonEl.classList.add('colab-df-quickchart-complete');\n",
              "    }\n",
              "    (() => {\n",
              "      let quickchartButtonEl =\n",
              "        document.querySelector('#df-ba5f3ce3-080e-47e0-9314-2d9bf9bf16b5 button');\n",
              "      quickchartButtonEl.style.display =\n",
              "        google.colab.kernel.accessAllowed ? 'block' : 'none';\n",
              "    })();\n",
              "  </script>\n",
              "</div>\n",
              "\n",
              "    </div>\n",
              "  </div>\n"
            ],
            "application/vnd.google.colaboratory.intrinsic+json": {
              "type": "dataframe",
              "variable_name": "df",
              "summary": "{\n  \"name\": \"df\",\n  \"rows\": 1376,\n  \"fields\": [\n    {\n      \"column\": \"Date\",\n      \"properties\": {\n        \"dtype\": \"object\",\n        \"num_unique_values\": 1376,\n        \"samples\": [\n          \"2021-02-03\",\n          \"2019-06-04\",\n          \"2022-05-24\"\n        ],\n        \"semantic_type\": \"\",\n        \"description\": \"\"\n      }\n    },\n    {\n      \"column\": \"Open\",\n      \"properties\": {\n        \"dtype\": \"number\",\n        \"std\": 5255.164793267486,\n        \"min\": 5993.311035,\n        \"max\": 25826.087891,\n        \"num_unique_values\": 495,\n        \"samples\": [\n          24391.304688,\n          7817.362305,\n          17965.972656\n        ],\n        \"semantic_type\": \"\",\n        \"description\": \"\"\n      }\n    },\n    {\n      \"column\": \"High\",\n      \"properties\": {\n        \"dtype\": \"number\",\n        \"std\": 5291.1025344712225,\n        \"min\": 6998.400391,\n        \"max\": 26260.869141,\n        \"num_unique_values\": 521,\n        \"samples\": [\n          24217.390625,\n          7854.587891,\n          9077.303711\n        ],\n        \"semantic_type\": \"\",\n        \"description\": \"\"\n      }\n    },\n    {\n      \"column\": \"Low\",\n      \"properties\": {\n        \"dtype\": \"number\",\n        \"std\": 5206.456130045345,\n        \"min\": 5993.311035,\n        \"max\": 25478.261719,\n        \"num_unique_values\": 512,\n        \"samples\": [\n          20506.617188,\n          24434.783203,\n          19739.130859\n        ],\n        \"semantic_type\": \"\",\n        \"description\": \"\"\n      }\n    },\n    {\n      \"column\": \"Close\",\n      \"properties\": {\n        \"dtype\": \"number\",\n        \"std\": 5246.805019474392,\n        \"min\": 6626.14502,\n        \"max\": 25782.609375,\n        \"num_unique_values\": 511,\n        \"samples\": [\n          11807.939453,\n          7668.459961,\n          19869.564453\n        ],\n        \"semantic_type\": \"\",\n        \"description\": \"\"\n      }\n    },\n    {\n      \"column\": \"Adj Close\",\n      \"properties\": {\n        \"dtype\": \"number\",\n        \"std\": 5049.34348267319,\n        \"min\": 6366.958984,\n        \"max\": 24800.0,\n        \"num_unique_values\": 511,\n        \"samples\": [\n          11346.064453,\n          7368.50293,\n          19092.353516\n        ],\n        \"semantic_type\": \"\",\n        \"description\": \"\"\n      }\n    },\n    {\n      \"column\": \"Volume\",\n      \"properties\": {\n        \"dtype\": \"number\",\n        \"std\": 15146387.911252096,\n        \"min\": 981368.0,\n        \"max\": 247314860.0,\n        \"num_unique_values\": 1312,\n        \"samples\": [\n          2344064.0,\n          16782297.0,\n          16827777.0\n        ],\n        \"semantic_type\": \"\",\n        \"description\": \"\"\n      }\n    }\n  ]\n}"
            }
          },
          "metadata": {},
          "execution_count": 19
        }
      ]
    },
    {
      "cell_type": "code",
      "source": [
        "df = df[['Close']]\n",
        "df = df.dropna() # Drop missing values\n",
        "df = df.reset_index(drop=True) # Reset the index"
      ],
      "metadata": {
        "id": "ZDXRlkaSkgSf"
      },
      "execution_count": null,
      "outputs": []
    },
    {
      "cell_type": "code",
      "source": [
        "# Split the data into training, testing sets\n",
        "train_size = int(0.9 * len(df))\n",
        "train_data = df[:train_size]\n",
        "test_data = df[train_size:]"
      ],
      "metadata": {
        "id": "n2Cl7lRZkgSf"
      },
      "execution_count": null,
      "outputs": []
    },
    {
      "cell_type": "code",
      "source": [
        "X_train = np.array(train_data.index).reshape(-1, 1)\n",
        "y_train = np.array(train_data['Close'])"
      ],
      "metadata": {
        "id": "QIE9qYeYkgSf"
      },
      "execution_count": null,
      "outputs": []
    },
    {
      "cell_type": "code",
      "source": [
        "# Auto ARIMA to select optimal ARIMA parameters\n",
        "model = auto_arima(y_train, start_p=1, start_q=1,\n",
        "                         test='adf',\n",
        "                         max_p=3, max_q=3, m=12,\n",
        "                         start_P=0, seasonal=False,\n",
        "                         d=None, D=0, trace=True,\n",
        "                         error_action='ignore',\n",
        "                         suppress_warnings=True,\n",
        "                         stepwise=True)\n",
        "\n",
        "print(model.summary())"
      ],
      "metadata": {
        "colab": {
          "base_uri": "https://localhost:8080/"
        },
        "outputId": "354861ed-8b5e-4870-a165-d051f1db6757",
        "id": "HhNCf5fzkgSg"
      },
      "execution_count": null,
      "outputs": [
        {
          "output_type": "stream",
          "name": "stderr",
          "text": [
            "/usr/local/lib/python3.10/dist-packages/pmdarima/arima/_validation.py:62: UserWarning: m (12) set for non-seasonal fit. Setting to 0\n",
            "  warnings.warn(\"m (%i) set for non-seasonal fit. Setting to 0\" % m)\n"
          ]
        },
        {
          "output_type": "stream",
          "name": "stdout",
          "text": [
            "Performing stepwise search to minimize aic\n",
            " ARIMA(1,1,1)(0,0,0)[0] intercept   : AIC=16758.090, Time=0.16 sec\n",
            " ARIMA(0,1,0)(0,0,0)[0] intercept   : AIC=16754.126, Time=0.06 sec\n",
            " ARIMA(1,1,0)(0,0,0)[0] intercept   : AIC=16756.085, Time=0.08 sec\n",
            " ARIMA(0,1,1)(0,0,0)[0] intercept   : AIC=16756.090, Time=0.13 sec\n",
            " ARIMA(0,1,0)(0,0,0)[0]             : AIC=16753.356, Time=0.03 sec\n",
            "\n",
            "Best model:  ARIMA(0,1,0)(0,0,0)[0]          \n",
            "Total fit time: 0.464 seconds\n",
            "                               SARIMAX Results                                \n",
            "==============================================================================\n",
            "Dep. Variable:                      y   No. Observations:                 1181\n",
            "Model:               SARIMAX(0, 1, 0)   Log Likelihood               -8375.678\n",
            "Date:                Mon, 17 Jun 2024   AIC                          16753.356\n",
            "Time:                        05:01:46   BIC                          16758.430\n",
            "Sample:                             0   HQIC                         16755.269\n",
            "                               - 1181                                         \n",
            "Covariance Type:                  opg                                         \n",
            "==============================================================================\n",
            "                 coef    std err          z      P>|z|      [0.025      0.975]\n",
            "------------------------------------------------------------------------------\n",
            "sigma2      8.559e+04   2006.845     42.650      0.000    8.17e+04    8.95e+04\n",
            "===================================================================================\n",
            "Ljung-Box (L1) (Q):                   0.05   Jarque-Bera (JB):               874.08\n",
            "Prob(Q):                              0.82   Prob(JB):                         0.00\n",
            "Heteroskedasticity (H):               4.08   Skew:                            -0.22\n",
            "Prob(H) (two-sided):                  0.00   Kurtosis:                         7.19\n",
            "===================================================================================\n",
            "\n",
            "Warnings:\n",
            "[1] Covariance matrix calculated using the outer product of gradients (complex-step).\n"
          ]
        }
      ]
    },
    {
      "cell_type": "code",
      "source": [
        "order = (model.order[0], model.order[1], model.order[2])\n",
        "print(order)"
      ],
      "metadata": {
        "colab": {
          "base_uri": "https://localhost:8080/"
        },
        "outputId": "0898ca93-a43b-48ef-f876-390a1986cc33",
        "id": "vf8ySXJrkgSg"
      },
      "execution_count": null,
      "outputs": [
        {
          "output_type": "stream",
          "name": "stdout",
          "text": [
            "(0, 1, 0)\n"
          ]
        }
      ]
    },
    {
      "cell_type": "code",
      "source": [
        "from statsmodels.tsa.arima.model import ARIMA\n",
        "def evaluate_ariama_model(x_data, y_data, order):\n",
        "    y_pred = list()\n",
        "    history = [x for x in y_train]\n",
        "    for t in range(len(y_data)):\n",
        "        model = ARIMA(history, order=order)\n",
        "        model_fit = model.fit()\n",
        "        output = model_fit.forecast()\n",
        "        yhat = output[0]\n",
        "        y_pred.append(yhat)\n",
        "        obs = y_data[t]\n",
        "        history.append(obs)\n",
        "    mse = mean_squared_error(y_data, y_pred)\n",
        "    mae = mean_absolute_error(y_data, y_pred)\n",
        "    mape = mean_absolute_percentage_error(y_data, y_pred)\n",
        "    rmse = mean_squared_error(y_data, y_pred, squared=False)\n",
        "    return y_pred, mse, mae, mape, rmse"
      ],
      "metadata": {
        "id": "BCaqDxc6kgSh"
      },
      "execution_count": null,
      "outputs": []
    },
    {
      "cell_type": "code",
      "source": [
        "x_test = np.array(test_data.index).reshape(-1, 1)\n",
        "y_test = np.array(test_data['Close'])\n",
        "y_pred, test_mse, test_mae, test_mape, test_rmse = evaluate_ariama_model(x_test, y_test, order)\n",
        "\n",
        "print(\"Price predict on test data:\", y_pred)\n",
        "print(\"MSE on test data:\", test_mse)\n",
        "print(\"MAE on test data:\", test_mae)\n",
        "print(\"MAPE on test data:\", test_mape)\n",
        "print(\"RMSE on test data:\", test_rmse)"
      ],
      "metadata": {
        "colab": {
          "base_uri": "https://localhost:8080/"
        },
        "outputId": "e3b4dfa7-aa4a-4de3-b79e-a776776c6a92",
        "id": "_m45lNr7kgSh"
      },
      "execution_count": null,
      "outputs": [
        {
          "output_type": "stream",
          "name": "stdout",
          "text": [
            "Price predict on test data: [19739.130859, 19304.347656, 19173.912109, 19000.0, 19043.478516, 19173.912109, 19086.957031, 19086.957031, 19391.304688, 19260.869141, 19391.304688, 19478.261719, 19478.261719, 19478.261719, 19565.216797, 19391.304688, 19565.216797, 19782.609375, 19826.087891, 20043.478516, 20173.912109, 20217.390625, 20173.912109, 20304.347656, 20217.390625, 20260.869141, 20652.173828, 20782.609375, 21260.869141, 21739.130859, 22000.0, 22130.435547, 22043.478516, 21739.130859, 21956.521484, 21956.521484, 22434.783203, 22000.0, 22086.957031, 22086.957031, 22260.869141, 22565.216797, 22869.564453, 22652.173828, 22434.783203, 22434.783203, 22869.564453, 22565.216797, 22565.216797, 22391.304688, 22608.695313, 22826.087891, 24173.912109, 24217.390625, 24347.826172, 23652.173828, 24000.0, 24086.957031, 23956.521484, 24086.957031, 24043.478516, 23739.130859, 23913.042969, 24000.0, 24347.826172, 24347.826172, 24173.912109, 24173.912109, 24304.347656, 24000.0, 23913.042969, 23521.738281, 23260.869141, 23260.869141, 24043.478516, 23695.652344, 23782.609375, 23391.304688, 23347.826172, 23913.042969, 24347.826172, 24478.261719, 23913.042969, 24304.347656, 24347.826172, 24652.173828, 24782.609375, 24739.130859, 24695.652344, 24347.826172, 23956.521484, 23608.695313, 23608.695313, 23739.130859, 23565.216797, 23608.695313, 24347.826172, 23347.826172, 23608.695313, 23260.869141, 23130.435547, 23304.347656, 23173.912109, 23521.738281, 23304.347656, 23347.826172, 23478.261719, 23913.042969, 24000.0, 24043.478516, 23956.521484, 24000.0, 24086.957031, 24086.957031, 24130.435547, 24086.957031, 24565.216797, 24565.216797, 24565.216797, 24521.738281, 24304.347656, 24739.130859, 25434.783203, 25608.695313, 25782.609375, 25434.783203, 25565.216797, 24650.0, 24800.0, 24500.0, 24350.0, 24350.0]\n",
            "MSE on test data: 95142.03725532583\n",
            "MAE on test data: 218.90650155303038\n",
            "MAPE on test data: 0.009478165538705959\n",
            "RMSE on test data: 308.4510289419146\n"
          ]
        }
      ]
    },
    {
      "cell_type": "code",
      "source": [
        "last_index = len(df)-1\n",
        "\n",
        "\n",
        "# Create arrays for 90 days\n",
        "x_next_90_days = np.array(range(last_index+1, last_index+91)).reshape(-1, 1)\n",
        "\n",
        "# Predict for the next 30 days\n",
        "y_next_90_days = list()\n",
        "history = [x for x in y_test]\n",
        "for t in range(len(x_next_90_days)):\n",
        "    model = ARIMA(history, order=order)\n",
        "    model_fit = model.fit()\n",
        "    output = model_fit.forecast()\n",
        "    yhat = output[0]\n",
        "    y_next_90_days.append(yhat)\n",
        "    history.append(yhat)\n",
        "\n"
      ],
      "metadata": {
        "id": "8U230_rDkgSi"
      },
      "execution_count": null,
      "outputs": []
    },
    {
      "cell_type": "code",
      "source": [
        "plt.figure(figsize=(12,6))\n",
        "\n",
        "# Plot the train, test, and validation data\n",
        "plt.plot(train_data.index, train_data['Close'], label='Train')\n",
        "plt.plot(test_data.index, test_data['Close'], label='Test')\n",
        "\n",
        "# Plot the predictions for test and validation sets\n",
        "plt.plot(test_data.index, y_pred, label='Test Predictions')\n",
        "\n",
        "# Plot the predictions for the next 90 days\n",
        "\n",
        "plt.plot(range(last_index + 1, last_index + 91), y_next_90_days, color='red', label='Next 90 Days')\n",
        "\n",
        "# Adding titles and labels\n",
        "plt.title('Predicted ACB Stock Closing Prices with 80% Train and 20% Test')\n",
        "plt.xlabel('Time')\n",
        "plt.ylabel('Closing Price')\n",
        "plt.legend()\n",
        "plt.grid(True)\n",
        "\n",
        "# Show the plot\n",
        "plt.show()"
      ],
      "metadata": {
        "colab": {
          "base_uri": "https://localhost:8080/",
          "height": 564
        },
        "outputId": "8f45a98d-6c40-4198-965c-bada47b9f040",
        "id": "yJYX_B_TkgSi"
      },
      "execution_count": null,
      "outputs": [
        {
          "output_type": "display_data",
          "data": {
            "text/plain": [
              "<Figure size 1200x600 with 1 Axes>"
            ],
            "image/png": "[encoded data removed]"
          },
          "metadata": {}
        }
      ]
    },
    {
      "cell_type": "code",
      "source": [],
      "metadata": {
        "id": "GIGfIlLnkgSi"
      },
      "execution_count": null,
      "outputs": []
    }
  ]
}
{
  "nbformat": 4,
  "nbformat_minor": 0,
  "metadata": {
    "colab": {
      "provenance": []
    },
    "kernelspec": {
      "name": "python3",
      "display_name": "Python 3"
    },
    "language_info": {
      "name": "python"
    }
  },
  "cells": [
    {
      "cell_type": "code",
      "execution_count": 48,
      "metadata": {
        "id": "9cC32heTvrOd"
      },
      "outputs": [],
      "source": [
        "import pandas as pd\n",
        "import numpy as np\n",
        "\n",
        "from sklearn.preprocessing import MinMaxScaler\n",
        "from sklearn.metrics import r2_score, explained_variance_score, mean_squared_error, mean_absolute_percentage_error, mean_absolute_error, mean_squared_log_error\n",
        "\n",
        "from matplotlib import ticker\n",
        "import matplotlib.pyplot as plt"
      ]
    },
    {
      "cell_type": "code",
      "source": [
        "!pip install pmdarima\n",
        "from pmdarima.arima import auto_arima"
      ],
      "metadata": {
        "colab": {
          "base_uri": "https://localhost:8080/"
        },
        "id": "Y9hLwVe93pbK",
        "outputId": "bf6cfb78-86ca-4c43-f953-bb299fd12bbc"
      },
      "execution_count": 49,
      "outputs": [
        {
          "output_type": "stream",
          "name": "stdout",
          "text": [
            "Requirement already satisfied: pmdarima in /usr/local/lib/python3.10/dist-packages (2.0.4)\n",
            "Requirement already satisfied: joblib>=0.11 in /usr/local/lib/python3.10/dist-packages (from pmdarima) (1.4.2)\n",
            "Requirement already satisfied: Cython!=0.29.18,!=0.29.31,>=0.29 in /usr/local/lib/python3.10/dist-packages (from pmdarima) (3.0.10)\n",
            "Requirement already satisfied: numpy>=1.21.2 in /usr/local/lib/python3.10/dist-packages (from pmdarima) (1.25.2)\n",
            "Requirement already satisfied: pandas>=0.19 in /usr/local/lib/python3.10/dist-packages (from pmdarima) (2.0.3)\n",
            "Requirement already satisfied: scikit-learn>=0.22 in /usr/local/lib/python3.10/dist-packages (from pmdarima) (1.2.2)\n",
            "Requirement already satisfied: scipy>=1.3.2 in /usr/local/lib/python3.10/dist-packages (from pmdarima) (1.11.4)\n",
            "Requirement already satisfied: statsmodels>=0.13.2 in /usr/local/lib/python3.10/dist-packages (from pmdarima) (0.14.2)\n",
            "Requirement already satisfied: urllib3 in /usr/local/lib/python3.10/dist-packages (from pmdarima) (2.0.7)\n",
            "Requirement already satisfied: setuptools!=50.0.0,>=38.6.0 in /usr/local/lib/python3.10/dist-packages (from pmdarima) (67.7.2)\n",
            "Requirement already satisfied: packaging>=17.1 in /usr/local/lib/python3.10/dist-packages (from pmdarima) (24.1)\n",
            "Requirement already satisfied: python-dateutil>=2.8.2 in /usr/local/lib/python3.10/dist-packages (from pandas>=0.19->pmdarima) (2.8.2)\n",
            "Requirement already satisfied: pytz>=2020.1 in /usr/local/lib/python3.10/dist-packages (from pandas>=0.19->pmdarima) (2023.4)\n",
            "Requirement already satisfied: tzdata>=2022.1 in /usr/local/lib/python3.10/dist-packages (from pandas>=0.19->pmdarima) (2024.1)\n",
            "Requirement already satisfied: threadpoolctl>=2.0.0 in /usr/local/lib/python3.10/dist-packages (from scikit-learn>=0.22->pmdarima) (3.5.0)\n",
            "Requirement already satisfied: patsy>=0.5.6 in /usr/local/lib/python3.10/dist-packages (from statsmodels>=0.13.2->pmdarima) (0.5.6)\n",
            "Requirement already satisfied: six in /usr/local/lib/python3.10/dist-packages (from patsy>=0.5.6->statsmodels>=0.13.2->pmdarima) (1.16.0)\n"
          ]
        }
      ]
    },
    {
      "cell_type": "markdown",
      "source": [
        "# Train test 8:2"
      ],
      "metadata": {
        "id": "Ix1IPWMNkARW"
      }
    },
    {
      "cell_type": "code",
      "source": [
        "df = pd.read_csv('/content/VCB.VN-BaoCao.csv')"
      ],
      "metadata": {
        "id": "nEv-S57Wfdnt"
      },
      "execution_count": 50,
      "outputs": []
    },
    {
      "cell_type": "code",
      "source": [
        "df.head()"
      ],
      "metadata": {
        "colab": {
          "base_uri": "https://localhost:8080/",
          "height": 206
        },
        "id": "Y7kqb7GwffAc",
        "outputId": "63d9651b-c8fd-4c3c-8db3-6e80da404847"
      },
      "execution_count": 51,
      "outputs": [
        {
          "output_type": "execute_result",
          "data": {
            "text/plain": [
              "         Date          Open          High           Low         Close  \\\n",
              "0  2019-03-01  40478.953125  41275.257813  40346.234375  41275.257813   \n",
              "1  2019-03-04  41275.257813  41806.132813  41275.257813  41673.414063   \n",
              "2  2019-03-05  41673.414063  42337.003906  41474.335938  41806.132813   \n",
              "3  2019-03-06  41872.488281  42005.207031  41076.183594  41607.054688   \n",
              "4  2019-03-07  41607.054688  42337.003906  41540.695313  41872.488281   \n",
              "\n",
              "      Adj Close     Volume  \n",
              "0  41275.257813  1225908.0  \n",
              "1  41673.414063  2030592.0  \n",
              "2  41806.132813  2376092.0  \n",
              "3  41607.054688  2107101.0  \n",
              "4  41872.488281  3091640.0  "
            ],
            "text/html": [
              "\n",
              "  <div id=\"df-b4a359d4-5564-4b33-a534-84e98807c7d6\" class=\"colab-df-container\">\n",
              "    <div>\n",
              "<style scoped>\n",
              "    .dataframe tbody tr th:only-of-type {\n",
              "        vertical-align: middle;\n",
              "    }\n",
              "\n",
              "    .dataframe tbody tr th {\n",
              "        vertical-align: top;\n",
              "    }\n",
              "\n",
              "    .dataframe thead th {\n",
              "        text-align: right;\n",
              "    }\n",
              "</style>\n",
              "<table border=\"1\" class=\"dataframe\">\n",
              "  <thead>\n",
              "    <tr style=\"text-align: right;\">\n",
              "      <th></th>\n",
              "      <th>Date</th>\n",
              "      <th>Open</th>\n",
              "      <th>High</th>\n",
              "      <th>Low</th>\n",
              "      <th>Close</th>\n",
              "      <th>Adj Close</th>\n",
              "      <th>Volume</th>\n",
              "    </tr>\n",
              "  </thead>\n",
              "  <tbody>\n",
              "    <tr>\n",
              "      <th>0</th>\n",
              "      <td>2019-03-01</td>\n",
              "      <td>40478.953125</td>\n",
              "      <td>41275.257813</td>\n",
              "      <td>40346.234375</td>\n",
              "      <td>41275.257813</td>\n",
              "      <td>41275.257813</td>\n",
              "      <td>1225908.0</td>\n",
              "    </tr>\n",
              "    <tr>\n",
              "      <th>1</th>\n",
              "      <td>2019-03-04</td>\n",
              "      <td>41275.257813</td>\n",
              "      <td>41806.132813</td>\n",
              "      <td>41275.257813</td>\n",
              "      <td>41673.414063</td>\n",
              "      <td>41673.414063</td>\n",
              "      <td>2030592.0</td>\n",
              "    </tr>\n",
              "    <tr>\n",
              "      <th>2</th>\n",
              "      <td>2019-03-05</td>\n",
              "      <td>41673.414063</td>\n",
              "      <td>42337.003906</td>\n",
              "      <td>41474.335938</td>\n",
              "      <td>41806.132813</td>\n",
              "      <td>41806.132813</td>\n",
              "      <td>2376092.0</td>\n",
              "    </tr>\n",
              "    <tr>\n",
              "      <th>3</th>\n",
              "      <td>2019-03-06</td>\n",
              "      <td>41872.488281</td>\n",
              "      <td>42005.207031</td>\n",
              "      <td>41076.183594</td>\n",
              "      <td>41607.054688</td>\n",
              "      <td>41607.054688</td>\n",
              "      <td>2107101.0</td>\n",
              "    </tr>\n",
              "    <tr>\n",
              "      <th>4</th>\n",
              "      <td>2019-03-07</td>\n",
              "      <td>41607.054688</td>\n",
              "      <td>42337.003906</td>\n",
              "      <td>41540.695313</td>\n",
              "      <td>41872.488281</td>\n",
              "      <td>41872.488281</td>\n",
              "      <td>3091640.0</td>\n",
              "    </tr>\n",
              "  </tbody>\n",
              "</table>\n",
              "</div>\n",
              "    <div class=\"colab-df-buttons\">\n",
              "\n",
              "  <div class=\"colab-df-container\">\n",
              "    <button class=\"colab-df-convert\" onclick=\"convertToInteractive('df-b4a359d4-5564-4b33-a534-84e98807c7d6')\"\n",
              "            title=\"Convert this dataframe to an interactive table.\"\n",
              "            style=\"display:none;\">\n",
              "\n",
              "  <svg xmlns=\"http://www.w3.org/2000/svg\" height=\"24px\" viewBox=\"0 -960 960 960\">\n",
              "    <path d=\"M120-120v-720h720v720H120Zm60-500h600v-160H180v160Zm220 220h160v-160H400v160Zm0 220h160v-160H400v160ZM180-400h160v-160H180v160Zm440 0h160v-160H620v160ZM180-180h160v-160H180v160Zm440 0h160v-160H620v160Z\"/>\n",
              "  </svg>\n",
              "    </button>\n",
              "\n",
              "  <style>\n",
              "    .colab-df-container {\n",
              "      display:flex;\n",
              "      gap: 12px;\n",
              "    }\n",
              "\n",
              "    .colab-df-convert {\n",
              "      background-color: #E8F0FE;\n",
              "      border: none;\n",
              "      border-radius: 50%;\n",
              "      cursor: pointer;\n",
              "      display: none;\n",
              "      fill: #1967D2;\n",
              "      height: 32px;\n",
              "      padding: 0 0 0 0;\n",
              "      width: 32px;\n",
              "    }\n",
              "\n",
              "    .colab-df-convert:hover {\n",
              "      background-color: #E2EBFA;\n",
              "      box-shadow: 0px 1px 2px rgba(60, 64, 67, 0.3), 0px 1px 3px 1px rgba(60, 64, 67, 0.15);\n",
              "      fill: #174EA6;\n",
              "    }\n",
              "\n",
              "    .colab-df-buttons div {\n",
              "      margin-bottom: 4px;\n",
              "    }\n",
              "\n",
              "    [theme=dark] .colab-df-convert {\n",
              "      background-color: #3B4455;\n",
              "      fill: #D2E3FC;\n",
              "    }\n",
              "\n",
              "    [theme=dark] .colab-df-convert:hover {\n",
              "      background-color: #434B5C;\n",
              "      box-shadow: 0px 1px 3px 1px rgba(0, 0, 0, 0.15);\n",
              "      filter: drop-shadow(0px 1px 2px rgba(0, 0, 0, 0.3));\n",
              "      fill: #FFFFFF;\n",
              "    }\n",
              "  </style>\n",
              "\n",
              "    <script>\n",
              "      const buttonEl =\n",
              "        document.querySelector('#df-b4a359d4-5564-4b33-a534-84e98807c7d6 button.colab-df-convert');\n",
              "      buttonEl.style.display =\n",
              "        google.colab.kernel.accessAllowed ? 'block' : 'none';\n",
              "\n",
              "      async function convertToInteractive(key) {\n",
              "        const element = document.querySelector('#df-b4a359d4-5564-4b33-a534-84e98807c7d6');\n",
              "        const dataTable =\n",
              "          await google.colab.kernel.invokeFunction('convertToInteractive',\n",
              "                                                    [key], {});\n",
              "        if (!dataTable) return;\n",
              "\n",
              "        const docLinkHtml = 'Like what you see? Visit the ' +\n",
              "          '<a target=\"_blank\" href=https://colab.research.google.com/notebooks/data_table.ipynb>data table notebook</a>'\n",
              "          + ' to learn more about interactive tables.';\n",
              "        element.innerHTML = '';\n",
              "        dataTable['output_type'] = 'display_data';\n",
              "        await google.colab.output.renderOutput(dataTable, element);\n",
              "        const docLink = document.createElement('div');\n",
              "        docLink.innerHTML = docLinkHtml;\n",
              "        element.appendChild(docLink);\n",
              "      }\n",
              "    </script>\n",
              "  </div>\n",
              "\n",
              "\n",
              "<div id=\"df-0bbe8b98-c71a-4ac8-aa36-7d99e1e86d54\">\n",
              "  <button class=\"colab-df-quickchart\" onclick=\"quickchart('df-0bbe8b98-c71a-4ac8-aa36-7d99e1e86d54')\"\n",
              "            title=\"Suggest charts\"\n",
              "            style=\"display:none;\">\n",
              "\n",
              "<svg xmlns=\"http://www.w3.org/2000/svg\" height=\"24px\"viewBox=\"0 0 24 24\"\n",
              "     width=\"24px\">\n",
              "    <g>\n",
              "        <path d=\"M19 3H5c-1.1 0-2 .9-2 2v14c0 1.1.9 2 2 2h14c1.1 0 2-.9 2-2V5c0-1.1-.9-2-2-2zM9 17H7v-7h2v7zm4 0h-2V7h2v10zm4 0h-2v-4h2v4z\"/>\n",
              "    </g>\n",
              "</svg>\n",
              "  </button>\n",
              "\n",
              "<style>\n",
              "  .colab-df-quickchart {\n",
              "      --bg-color: #E8F0FE;\n",
              "      --fill-color: #1967D2;\n",
              "      --hover-bg-color: #E2EBFA;\n",
              "      --hover-fill-color: #174EA6;\n",
              "      --disabled-fill-color: #AAA;\n",
              "      --disabled-bg-color: #DDD;\n",
              "  }\n",
              "\n",
              "  [theme=dark] .colab-df-quickchart {\n",
              "      --bg-color: #3B4455;\n",
              "      --fill-color: #D2E3FC;\n",
              "      --hover-bg-color: #434B5C;\n",
              "      --hover-fill-color: #FFFFFF;\n",
              "      --disabled-bg-color: #3B4455;\n",
              "      --disabled-fill-color: #666;\n",
              "  }\n",
              "\n",
              "  .colab-df-quickchart {\n",
              "    background-color: var(--bg-color);\n",
              "    border: none;\n",
              "    border-radius: 50%;\n",
              "    cursor: pointer;\n",
              "    display: none;\n",
              "    fill: var(--fill-color);\n",
              "    height: 32px;\n",
              "    padding: 0;\n",
              "    width: 32px;\n",
              "  }\n",
              "\n",
              "  .colab-df-quickchart:hover {\n",
              "    background-color: var(--hover-bg-color);\n",
              "    box-shadow: 0 1px 2px rgba(60, 64, 67, 0.3), 0 1px 3px 1px rgba(60, 64, 67, 0.15);\n",
              "    fill: var(--button-hover-fill-color);\n",
              "  }\n",
              "\n",
              "  .colab-df-quickchart-complete:disabled,\n",
              "  .colab-df-quickchart-complete:disabled:hover {\n",
              "    background-color: var(--disabled-bg-color);\n",
              "    fill: var(--disabled-fill-color);\n",
              "    box-shadow: none;\n",
              "  }\n",
              "\n",
              "  .colab-df-spinner {\n",
              "    border: 2px solid var(--fill-color);\n",
              "    border-color: transparent;\n",
              "    border-bottom-color: var(--fill-color);\n",
              "    animation:\n",
              "      spin 1s steps(1) infinite;\n",
              "  }\n",
              "\n",
              "  @keyframes spin {\n",
              "    0% {\n",
              "      border-color: transparent;\n",
              "      border-bottom-color: var(--fill-color);\n",
              "      border-left-color: var(--fill-color);\n",
              "    }\n",
              "    20% {\n",
              "      border-color: transparent;\n",
              "      border-left-color: var(--fill-color);\n",
              "      border-top-color: var(--fill-color);\n",
              "    }\n",
              "    30% {\n",
              "      border-color: transparent;\n",
              "      border-left-color: var(--fill-color);\n",
              "      border-top-color: var(--fill-color);\n",
              "      border-right-color: var(--fill-color);\n",
              "    }\n",
              "    40% {\n",
              "      border-color: transparent;\n",
              "      border-right-color: var(--fill-color);\n",
              "      border-top-color: var(--fill-color);\n",
              "    }\n",
              "    60% {\n",
              "      border-color: transparent;\n",
              "      border-right-color: var(--fill-color);\n",
              "    }\n",
              "    80% {\n",
              "      border-color: transparent;\n",
              "      border-right-color: var(--fill-color);\n",
              "      border-bottom-color: var(--fill-color);\n",
              "    }\n",
              "    90% {\n",
              "      border-color: transparent;\n",
              "      border-bottom-color: var(--fill-color);\n",
              "    }\n",
              "  }\n",
              "</style>\n",
              "\n",
              "  <script>\n",
              "    async function quickchart(key) {\n",
              "      const quickchartButtonEl =\n",
              "        document.querySelector('#' + key + ' button');\n",
              "      quickchartButtonEl.disabled = true;  // To prevent multiple clicks.\n",
              "      quickchartButtonEl.classList.add('colab-df-spinner');\n",
              "      try {\n",
              "        const charts = await google.colab.kernel.invokeFunction(\n",
              "            'suggestCharts', [key], {});\n",
              "      } catch (error) {\n",
              "        console.error('Error during call to suggestCharts:', error);\n",
              "      }\n",
              "      quickchartButtonEl.classList.remove('colab-df-spinner');\n",
              "      quickchartButtonEl.classList.add('colab-df-quickchart-complete');\n",
              "    }\n",
              "    (() => {\n",
              "      let quickchartButtonEl =\n",
              "        document.querySelector('#df-0bbe8b98-c71a-4ac8-aa36-7d99e1e86d54 button');\n",
              "      quickchartButtonEl.style.display =\n",
              "        google.colab.kernel.accessAllowed ? 'block' : 'none';\n",
              "    })();\n",
              "  </script>\n",
              "</div>\n",
              "\n",
              "    </div>\n",
              "  </div>\n"
            ],
            "application/vnd.google.colaboratory.intrinsic+json": {
              "type": "dataframe",
              "variable_name": "df",
              "summary": "{\n  \"name\": \"df\",\n  \"rows\": 1376,\n  \"fields\": [\n    {\n      \"column\": \"Date\",\n      \"properties\": {\n        \"dtype\": \"object\",\n        \"num_unique_values\": 1376,\n        \"samples\": [\n          \"2021-02-03\",\n          \"2019-06-04\",\n          \"2022-05-24\"\n        ],\n        \"semantic_type\": \"\",\n        \"description\": \"\"\n      }\n    },\n    {\n      \"column\": \"Open\",\n      \"properties\": {\n        \"dtype\": \"number\",\n        \"std\": 13692.488758031252,\n        \"min\": 37957.3125,\n        \"max\": 98500.0,\n        \"num_unique_values\": 600,\n        \"samples\": [\n          61116.582031,\n          62574.089844,\n          91100.0\n        ],\n        \"semantic_type\": \"\",\n        \"description\": \"\"\n      }\n    },\n    {\n      \"column\": \"High\",\n      \"properties\": {\n        \"dtype\": \"number\",\n        \"std\": 13750.650478394993,\n        \"min\": 38753.621094,\n        \"max\": 100500.0,\n        \"num_unique_values\": 601,\n        \"samples\": [\n          60917.503906,\n          58848.433594,\n          90600.0\n        ],\n        \"semantic_type\": \"\",\n        \"description\": \"\"\n      }\n    },\n    {\n      \"column\": \"Low\",\n      \"properties\": {\n        \"dtype\": \"number\",\n        \"std\": 13583.472344497513,\n        \"min\": 37559.160156,\n        \"max\": 97300.0,\n        \"num_unique_values\": 605,\n        \"samples\": [\n          56985.605469,\n          62908.273438,\n          52556.277344\n        ],\n        \"semantic_type\": \"\",\n        \"description\": \"\"\n      }\n    },\n    {\n      \"column\": \"Close\",\n      \"properties\": {\n        \"dtype\": \"number\",\n        \"std\": 13660.147892546573,\n        \"min\": 37957.3125,\n        \"max\": 97400.0,\n        \"num_unique_values\": 607,\n        \"samples\": [\n          82700.0,\n          65562.632813,\n          52755.355469\n        ],\n        \"semantic_type\": \"\",\n        \"description\": \"\"\n      }\n    },\n    {\n      \"column\": \"Adj Close\",\n      \"properties\": {\n        \"dtype\": \"number\",\n        \"std\": 13660.147892546573,\n        \"min\": 37957.3125,\n        \"max\": 97400.0,\n        \"num_unique_values\": 607,\n        \"samples\": [\n          82700.0,\n          65562.632813,\n          52755.355469\n        ],\n        \"semantic_type\": \"\",\n        \"description\": \"\"\n      }\n    },\n    {\n      \"column\": \"Volume\",\n      \"properties\": {\n        \"dtype\": \"number\",\n        \"std\": 1421807.916662135,\n        \"min\": 304461.0,\n        \"max\": 34076810.0,\n        \"num_unique_values\": 1305,\n        \"samples\": [\n          1693000.0,\n          2404649.0,\n          518931.0\n        ],\n        \"semantic_type\": \"\",\n        \"description\": \"\"\n      }\n    }\n  ]\n}"
            }
          },
          "metadata": {},
          "execution_count": 51
        }
      ]
    },
    {
      "cell_type": "code",
      "source": [
        "df = df[['Close']]\n",
        "df = df.dropna() # Drop missing values\n",
        "df = df.reset_index(drop=True) # Reset the index"
      ],
      "metadata": {
        "id": "9puA2eTs7HMq"
      },
      "execution_count": 52,
      "outputs": []
    },
    {
      "cell_type": "code",
      "source": [
        "# Split the data into training, testing sets\n",
        "train_size = int(0.8 * len(df))\n",
        "train_data = df[:train_size]\n",
        "test_data = df[train_size:]"
      ],
      "metadata": {
        "id": "HkDCZYmq5Y7J"
      },
      "execution_count": 53,
      "outputs": []
    },
    {
      "cell_type": "code",
      "source": [
        "X_train = np.array(train_data.index).reshape(-1, 1)\n",
        "y_train = np.array(train_data['Close'])"
      ],
      "metadata": {
        "id": "k5fHoO7v5cKl"
      },
      "execution_count": 54,
      "outputs": []
    },
    {
      "cell_type": "code",
      "source": [
        "# Auto ARIMA to select optimal ARIMA parameters\n",
        "model = auto_arima(y_train, start_p=1, start_q=1,\n",
        "                         test='adf',\n",
        "                         max_p=3, max_q=3, m=12,\n",
        "                         start_P=0, seasonal=False,\n",
        "                         d=None, D=0, trace=True,\n",
        "                         error_action='ignore',\n",
        "                         suppress_warnings=True,\n",
        "                         stepwise=True)\n",
        "\n",
        "print(model.summary())"
      ],
      "metadata": {
        "colab": {
          "base_uri": "https://localhost:8080/"
        },
        "id": "XTWYwfg45ult",
        "outputId": "6f327b9f-fa04-4326-9233-c606339ceca2"
      },
      "execution_count": 55,
      "outputs": [
        {
          "output_type": "stream",
          "name": "stderr",
          "text": [
            "/usr/local/lib/python3.10/dist-packages/pmdarima/arima/_validation.py:62: UserWarning: m (12) set for non-seasonal fit. Setting to 0\n",
            "  warnings.warn(\"m (%i) set for non-seasonal fit. Setting to 0\" % m)\n"
          ]
        },
        {
          "output_type": "stream",
          "name": "stdout",
          "text": [
            "Performing stepwise search to minimize aic\n",
            " ARIMA(1,0,1)(0,0,0)[0]             : AIC=17633.517, Time=0.37 sec\n",
            " ARIMA(0,0,0)(0,0,0)[0]             : AIC=26107.492, Time=0.02 sec\n",
            " ARIMA(1,0,0)(0,0,0)[0]             : AIC=inf, Time=0.12 sec\n",
            " ARIMA(0,0,1)(0,0,0)[0]             : AIC=inf, Time=0.31 sec\n",
            " ARIMA(2,0,1)(0,0,0)[0]             : AIC=17635.037, Time=0.51 sec\n",
            " ARIMA(1,0,2)(0,0,0)[0]             : AIC=17635.183, Time=0.44 sec\n",
            " ARIMA(0,0,2)(0,0,0)[0]             : AIC=inf, Time=1.01 sec\n",
            " ARIMA(2,0,0)(0,0,0)[0]             : AIC=inf, Time=0.71 sec\n",
            " ARIMA(2,0,2)(0,0,0)[0]             : AIC=17636.606, Time=1.04 sec\n",
            " ARIMA(1,0,1)(0,0,0)[0] intercept   : AIC=17631.368, Time=0.34 sec\n",
            " ARIMA(0,0,1)(0,0,0)[0] intercept   : AIC=20820.089, Time=0.95 sec\n",
            " ARIMA(1,0,0)(0,0,0)[0] intercept   : AIC=inf, Time=0.17 sec\n",
            " ARIMA(2,0,1)(0,0,0)[0] intercept   : AIC=17633.018, Time=0.44 sec\n",
            " ARIMA(1,0,2)(0,0,0)[0] intercept   : AIC=17633.327, Time=0.89 sec\n",
            " ARIMA(0,0,0)(0,0,0)[0] intercept   : AIC=22107.261, Time=0.10 sec\n",
            " ARIMA(0,0,2)(0,0,0)[0] intercept   : AIC=19934.841, Time=1.84 sec\n",
            " ARIMA(2,0,0)(0,0,0)[0] intercept   : AIC=inf, Time=0.38 sec\n",
            " ARIMA(2,0,2)(0,0,0)[0] intercept   : AIC=17634.353, Time=1.40 sec\n",
            "\n",
            "Best model:  ARIMA(1,0,1)(0,0,0)[0] intercept\n",
            "Total fit time: 11.082 seconds\n",
            "                               SARIMAX Results                                \n",
            "==============================================================================\n",
            "Dep. Variable:                      y   No. Observations:                 1048\n",
            "Model:               SARIMAX(1, 0, 1)   Log Likelihood               -8811.684\n",
            "Date:                Wed, 19 Jun 2024   AIC                          17631.368\n",
            "Time:                        15:21:40   BIC                          17651.187\n",
            "Sample:                             0   HQIC                         17638.884\n",
            "                               - 1048                                         \n",
            "Covariance Type:                  opg                                         \n",
            "==============================================================================\n",
            "                 coef    std err          z      P>|z|      [0.025      0.975]\n",
            "------------------------------------------------------------------------------\n",
            "intercept    515.0570    171.645      3.001      0.003     178.639     851.475\n",
            "ar.L1          0.9916      0.003    339.214      0.000       0.986       0.997\n",
            "ma.L1          0.0363      0.025      1.441      0.150      -0.013       0.086\n",
            "sigma2      1.169e+06      0.028   4.12e+07      0.000    1.17e+06    1.17e+06\n",
            "===================================================================================\n",
            "Ljung-Box (L1) (Q):                   0.03   Jarque-Bera (JB):               169.26\n",
            "Prob(Q):                              0.85   Prob(JB):                         0.00\n",
            "Heteroskedasticity (H):               1.84   Skew:                            -0.05\n",
            "Prob(H) (two-sided):                  0.00   Kurtosis:                         4.97\n",
            "===================================================================================\n",
            "\n",
            "Warnings:\n",
            "[1] Covariance matrix calculated using the outer product of gradients (complex-step).\n",
            "[2] Covariance matrix is singular or near-singular, with condition number 1.49e+23. Standard errors may be unstable.\n"
          ]
        }
      ]
    },
    {
      "cell_type": "code",
      "source": [
        "order = (model.order[0], model.order[1], model.order[2])\n",
        "print(order)"
      ],
      "metadata": {
        "colab": {
          "base_uri": "https://localhost:8080/"
        },
        "id": "SFTj3t0aF_hL",
        "outputId": "9dd1bbe3-dc96-4f11-c864-c9fe854d2ef9"
      },
      "execution_count": 56,
      "outputs": [
        {
          "output_type": "stream",
          "name": "stdout",
          "text": [
            "(1, 0, 1)\n"
          ]
        }
      ]
    },
    {
      "cell_type": "code",
      "source": [
        "from statsmodels.tsa.arima.model import ARIMA\n",
        "def evaluate_ariama_model(x_data, y_data, order):\n",
        "    y_pred = list()\n",
        "    history = [x for x in y_train]\n",
        "    for t in range(len(y_data)):\n",
        "        model = ARIMA(history, order=order)\n",
        "        model_fit = model.fit()\n",
        "        output = model_fit.forecast()\n",
        "        yhat = output[0]\n",
        "        y_pred.append(yhat)\n",
        "        obs = y_data[t]\n",
        "        history.append(obs)\n",
        "    mse = mean_squared_error(y_data, y_pred)\n",
        "    mae = mean_absolute_error(y_data, y_pred)\n",
        "    mape = mean_absolute_percentage_error(y_data, y_pred)\n",
        "    rmse = mean_squared_error(y_data, y_pred, squared=False)\n",
        "    return y_pred, mse, mae, mape, rmse"
      ],
      "metadata": {
        "id": "yRhry25i-EX5"
      },
      "execution_count": 57,
      "outputs": []
    },
    {
      "cell_type": "code",
      "source": [
        "x_test = np.array(test_data.index).reshape(-1, 1)\n",
        "y_test = np.array(test_data['Close'])\n",
        "y_pred, test_mse, test_mae, test_mape, test_rmse = evaluate_ariama_model(x_test, y_test, order)\n",
        "\n",
        "print(\"Price predict on test data:\", y_pred)\n",
        "print(\"MSE on test data:\", test_mse)\n",
        "print(\"MAE on test data:\", test_mae)\n",
        "print(\"MAPE on test data:\", test_mape)\n",
        "print(\"RMSE on test data:\", test_rmse)"
      ],
      "metadata": {
        "colab": {
          "base_uri": "https://localhost:8080/"
        },
        "id": "Oij6rrmRCKF0",
        "outputId": "a4f2e616-56e8-4dcd-e505-69900864391a"
      },
      "execution_count": 58,
      "outputs": [
        {
          "output_type": "stream",
          "name": "stdout",
          "text": [
            "Price predict on test data: [77812.91441303567, 76949.19850484334, 78543.55374664703, 77538.96595303426, 78350.7131976276, 78501.65080843029, 80409.98541456954, 79660.73425023186, 78725.70618767804, 78491.83923069765, 78325.01017394665, 78851.38432834082, 77794.46416403179, 78778.8679394704, 79968.47213463427, 79501.2758194413, 79427.65872060001, 80298.46637020937, 82972.25012158674, 83766.65126089746, 81999.12156387046, 84657.24635132466, 85023.35503924038, 85448.8511231377, 86742.84402264399, 86795.21851323024, 87577.60685878669, 88863.37204707475, 85960.12513390143, 84465.73461292568, 84595.91452138519, 84940.88488705145, 84495.6328210666, 84596.08039390933, 84593.63406084184, 85551.86909603176, 86222.04369104699, 84548.77195754538, 84596.24169596954, 84595.33334148856, 86336.07634335966, 85158.35788492304, 88912.78540114667, 86849.08250724312, 87142.1039158472, 87999.01920173065, 88760.69177134692, 88834.35114270073, 88661.247337704, 88233.35872578417, 90135.79288697241, 88815.79424789117, 88834.95869872416, 88491.4483897182, 93392.78938416741, 92927.040575657, 90498.60226667789, 90021.61722177631, 90737.96341942261, 90627.7631240059, 90122.51974635993, 88404.26042760792, 90350.32564751894, 88916.02720082196, 88828.14648433027, 89132.10948550927, 89331.53329301307, 89431.08843321417, 89733.51431720104, 88317.85523371871, 86206.20196783953, 86937.06536382232, 86122.66185859215, 86937.6983352996, 88343.99208903598, 89038.18967779624, 89031.2844792833, 90042.58407631822, 90133.57893094646, 89425.05033765128, 89432.70016938199, 88421.97153194093, 89846.32027015396, 89026.45522315468, 89033.51429120012, 89740.01346877152, 88726.03650021936, 88028.1453994662, 87933.44357754903, 86925.93218505646, 89247.64954857611, 89234.65753187577, 86918.8288066189, 87739.38857322454, 87936.35582520382, 87432.85331681481, 86430.09841866336, 86235.08241221427, 86236.47313597535, 84426.67994044002, 85341.53212516346, 84534.7266460825, 86041.95269056654, 86438.62709101547, 85935.8911649281, 86539.51902338886, 86036.51423777918, 85837.74028749438, 85838.56612889073, 84435.22461417447, 84740.52163931497, 84439.30794486162, 85942.4810169196, 85738.97768148973, 84437.38092899529, 84941.21594054508, 85841.63303341436, 86741.73232670865, 87742.34394843638, 88943.82792375535, 88838.47435139521, 89441.63316730277, 88235.24409615477, 89442.55377227417, 87838.40019776112, 85934.19118266393, 85439.21650887869, 85942.99472389772, 87647.51939679583, 87941.50914135117, 85530.5208091244, 86043.02936691407, 86542.89483984275, 86641.56877789597, 85437.77269039575, 85943.57287393278, 85741.71128423841, 85742.50924867178, 85041.0866781782, 84642.48830252176, 84944.6310786136, 85946.21896412922, 85341.77242374913, 85844.66712314874, 85142.35221595148, 84943.93523076741, 84143.23719674019, 84145.58602763116, 83644.96388796355, 82143.42211298172, 81446.8194712006, 81149.04987627997, 81050.19025978711, 80850.23380172068, 80851.20841232192, 81753.50417958772, 82752.98321522528, 82647.90426638626, 82748.87535443003, 80240.62589106757, 83442.81852302139, 84446.9734970695, 85847.20946863582, 86144.99702136869, 86745.27539301154, 87746.24293502008, 89449.45619052977, 89242.23337713811, 88640.94801227722, 89947.37553162493, 89943.38577010593, 90846.36839160681, 92550.87495667838, 91941.71420927685, 91442.03049031182, 91042.46119343628, 90943.80731051127, 91948.24671978921, 91141.9063287608, 90944.04123932615, 88435.20816119266, 89746.70406057521, 90245.87110881077, 89944.63109964707, 89444.47184544473, 89946.32318840577, 89845.50610729428, 89545.39673530126, 90146.83558027366, 91248.01537499022, 91145.8774056367, 89442.70953409447, 88844.95097425449, 89448.09572902381, 91051.22759182272, 97385.4030138595, 97210.65157932059, 97212.89313873355, 95895.32997274042, 95403.91967833815, 95511.43267186548, 95713.12906330821, 95038.57134488442, 94034.90380538462, 94348.69259794572, 95931.34691386297, 94936.39414669729, 93935.68277635139, 92934.90322744125, 92440.3007481035, 93153.69245056796, 95169.53494945592, 96330.69493826055, 95601.59704939305, 96222.10084784687, 95705.6627187217, 95611.72388043447, 94836.98137959816, 95150.96063881266, 94438.63843275413, 93738.57794860032, 95943.21885395332, 94836.7786793319, 94847.70455957038, 94241.93609683243, 94450.00626551485, 93943.28695541606, 94553.99087218211, 91926.53464571094, 90938.82457946643, 90443.87873391256, 90449.17578577994, 90550.25241490424, 90044.38521545846, 90554.61255506868, 90953.4874005274, 91151.50381999658, 91856.61795743811, 92455.6400823053, 92954.70591714774, 92848.3731549316, 92950.73402586118, 92444.4477419725, 91944.66548788255, 90939.22990804854, 90546.30138406124, 90955.37968149214, 92569.0487350383, 91741.57906167381, 91851.89935521098, 91042.37300293708, 90647.0651669365, 90954.74915532538, 90143.17717280658, 90152.1472367537, 90657.30376196717, 89742.93405205969, 88539.914746885, 87137.41297470246, 88165.49806547511, 88659.25583856946, 88754.63586999121, 88955.82138882771]\n",
            "MSE on test data: 1273206.8865453086\n",
            "MAE on test data: 813.2643854594287\n",
            "MAPE on test data: 0.009234531723499488\n",
            "RMSE on test data: 1128.364695719123\n"
          ]
        }
      ]
    },
    {
      "cell_type": "code",
      "source": [
        "last_index = len(df)-1\n",
        "\n",
        "# Create arrays for 90 days\n",
        "x_next_90_days = np.array(range(last_index+1, last_index+91)).reshape(-1, 1)\n",
        "\n",
        "# Predict for the next 30 days\n",
        "y_next_90_days = list()\n",
        "history = [x for x in y_test]\n",
        "for t in range(len(x_next_90_days)):\n",
        "    model = ARIMA(history, order=order)\n",
        "    model_fit = model.fit()\n",
        "    output = model_fit.forecast()\n",
        "    yhat = output[0]\n",
        "    y_next_90_days.append(yhat)\n",
        "    history.append(yhat)\n",
        "\n"
      ],
      "metadata": {
        "id": "9Gl7ILRZJcRq"
      },
      "execution_count": 59,
      "outputs": []
    },
    {
      "cell_type": "code",
      "source": [
        "plt.figure(figsize=(12,6))\n",
        "\n",
        "# Plot the train, test, and validation data\n",
        "plt.plot(train_data.index, train_data['Close'], label='Train')\n",
        "plt.plot(test_data.index, test_data['Close'], label='Test')\n",
        "\n",
        "# Plot the predictions for test and validation sets\n",
        "plt.plot(test_data.index, y_pred, label='Test Predictions')\n",
        "\n",
        "# Plot the predictions for the next 90 days\n",
        "\n",
        "plt.plot(range(last_index + 1, last_index + 91), y_next_90_days, color='red', label='Next 90 Days')\n",
        "\n",
        "# Adding titles and labels\n",
        "plt.title('Predicted VCB Stock Closing Prices with 80% Train and 20% Test')\n",
        "plt.xlabel('Time')\n",
        "plt.ylabel('Closing Price')\n",
        "plt.legend()\n",
        "plt.grid(True)\n",
        "\n",
        "# Show the plot\n",
        "plt.show()"
      ],
      "metadata": {
        "colab": {
          "base_uri": "https://localhost:8080/",
          "height": 564
        },
        "id": "GHw6FyuHCcta",
        "outputId": "22be6165-3e77-409e-9795-381b4af5e3c6"
      },
      "execution_count": 60,
      "outputs": [
        {
          "output_type": "display_data",
          "data": {
            "text/plain": [
              "<Figure size 1200x600 with 1 Axes>"
            ],
            "image/png": "[encoded data removed]"
          },
          "metadata": {}
        }
      ]
    },
    {
      "cell_type": "code",
      "source": [],
      "metadata": {
        "id": "eajoke8PDJTX"
      },
      "execution_count": 60,
      "outputs": []
    },
    {
      "cell_type": "markdown",
      "source": [
        "# Train test 7:3"
      ],
      "metadata": {
        "id": "Z0mihE1skGgL"
      }
    },
    {
      "cell_type": "code",
      "source": [
        "df = pd.read_csv('/content/VCB.VN-BaoCao.csv')"
      ],
      "metadata": {
        "id": "d92S15yhkGgL"
      },
      "execution_count": 61,
      "outputs": []
    },
    {
      "cell_type": "code",
      "source": [
        "df.head()"
      ],
      "metadata": {
        "colab": {
          "base_uri": "https://localhost:8080/",
          "height": 206
        },
        "outputId": "597dc8f7-26a0-4d5e-b2d5-2a07ea5a2705",
        "id": "Ahm68AEIkGgM"
      },
      "execution_count": 62,
      "outputs": [
        {
          "output_type": "execute_result",
          "data": {
            "text/plain": [
              "         Date          Open          High           Low         Close  \\\n",
              "0  2019-03-01  40478.953125  41275.257813  40346.234375  41275.257813   \n",
              "1  2019-03-04  41275.257813  41806.132813  41275.257813  41673.414063   \n",
              "2  2019-03-05  41673.414063  42337.003906  41474.335938  41806.132813   \n",
              "3  2019-03-06  41872.488281  42005.207031  41076.183594  41607.054688   \n",
              "4  2019-03-07  41607.054688  42337.003906  41540.695313  41872.488281   \n",
              "\n",
              "      Adj Close     Volume  \n",
              "0  41275.257813  1225908.0  \n",
              "1  41673.414063  2030592.0  \n",
              "2  41806.132813  2376092.0  \n",
              "3  41607.054688  2107101.0  \n",
              "4  41872.488281  3091640.0  "
            ],
            "text/html": [
              "\n",
              "  <div id=\"df-d5964684-0074-43e5-8fd6-e9ad395ce55b\" class=\"colab-df-container\">\n",
              "    <div>\n",
              "<style scoped>\n",
              "    .dataframe tbody tr th:only-of-type {\n",
              "        vertical-align: middle;\n",
              "    }\n",
              "\n",
              "    .dataframe tbody tr th {\n",
              "        vertical-align: top;\n",
              "    }\n",
              "\n",
              "    .dataframe thead th {\n",
              "        text-align: right;\n",
              "    }\n",
              "</style>\n",
              "<table border=\"1\" class=\"dataframe\">\n",
              "  <thead>\n",
              "    <tr style=\"text-align: right;\">\n",
              "      <th></th>\n",
              "      <th>Date</th>\n",
              "      <th>Open</th>\n",
              "      <th>High</th>\n",
              "      <th>Low</th>\n",
              "      <th>Close</th>\n",
              "      <th>Adj Close</th>\n",
              "      <th>Volume</th>\n",
              "    </tr>\n",
              "  </thead>\n",
              "  <tbody>\n",
              "    <tr>\n",
              "      <th>0</th>\n",
              "      <td>2019-03-01</td>\n",
              "      <td>40478.953125</td>\n",
              "      <td>41275.257813</td>\n",
              "      <td>40346.234375</td>\n",
              "      <td>41275.257813</td>\n",
              "      <td>41275.257813</td>\n",
              "      <td>1225908.0</td>\n",
              "    </tr>\n",
              "    <tr>\n",
              "      <th>1</th>\n",
              "      <td>2019-03-04</td>\n",
              "      <td>41275.257813</td>\n",
              "      <td>41806.132813</td>\n",
              "      <td>41275.257813</td>\n",
              "      <td>41673.414063</td>\n",
              "      <td>41673.414063</td>\n",
              "      <td>2030592.0</td>\n",
              "    </tr>\n",
              "    <tr>\n",
              "      <th>2</th>\n",
              "      <td>2019-03-05</td>\n",
              "      <td>41673.414063</td>\n",
              "      <td>42337.003906</td>\n",
              "      <td>41474.335938</td>\n",
              "      <td>41806.132813</td>\n",
              "      <td>41806.132813</td>\n",
              "      <td>2376092.0</td>\n",
              "    </tr>\n",
              "    <tr>\n",
              "      <th>3</th>\n",
              "      <td>2019-03-06</td>\n",
              "      <td>41872.488281</td>\n",
              "      <td>42005.207031</td>\n",
              "      <td>41076.183594</td>\n",
              "      <td>41607.054688</td>\n",
              "      <td>41607.054688</td>\n",
              "      <td>2107101.0</td>\n",
              "    </tr>\n",
              "    <tr>\n",
              "      <th>4</th>\n",
              "      <td>2019-03-07</td>\n",
              "      <td>41607.054688</td>\n",
              "      <td>42337.003906</td>\n",
              "      <td>41540.695313</td>\n",
              "      <td>41872.488281</td>\n",
              "      <td>41872.488281</td>\n",
              "      <td>3091640.0</td>\n",
              "    </tr>\n",
              "  </tbody>\n",
              "</table>\n",
              "</div>\n",
              "    <div class=\"colab-df-buttons\">\n",
              "\n",
              "  <div class=\"colab-df-container\">\n",
              "    <button class=\"colab-df-convert\" onclick=\"convertToInteractive('df-d5964684-0074-43e5-8fd6-e9ad395ce55b')\"\n",
              "            title=\"Convert this dataframe to an interactive table.\"\n",
              "            style=\"display:none;\">\n",
              "\n",
              "  <svg xmlns=\"http://www.w3.org/2000/svg\" height=\"24px\" viewBox=\"0 -960 960 960\">\n",
              "    <path d=\"M120-120v-720h720v720H120Zm60-500h600v-160H180v160Zm220 220h160v-160H400v160Zm0 220h160v-160H400v160ZM180-400h160v-160H180v160Zm440 0h160v-160H620v160ZM180-180h160v-160H180v160Zm440 0h160v-160H620v160Z\"/>\n",
              "  </svg>\n",
              "    </button>\n",
              "\n",
              "  <style>\n",
              "    .colab-df-container {\n",
              "      display:flex;\n",
              "      gap: 12px;\n",
              "    }\n",
              "\n",
              "    .colab-df-convert {\n",
              "      background-color: #E8F0FE;\n",
              "      border: none;\n",
              "      border-radius: 50%;\n",
              "      cursor: pointer;\n",
              "      display: none;\n",
              "      fill: #1967D2;\n",
              "      height: 32px;\n",
              "      padding: 0 0 0 0;\n",
              "      width: 32px;\n",
              "    }\n",
              "\n",
              "    .colab-df-convert:hover {\n",
              "      background-color: #E2EBFA;\n",
              "      box-shadow: 0px 1px 2px rgba(60, 64, 67, 0.3), 0px 1px 3px 1px rgba(60, 64, 67, 0.15);\n",
              "      fill: #174EA6;\n",
              "    }\n",
              "\n",
              "    .colab-df-buttons div {\n",
              "      margin-bottom: 4px;\n",
              "    }\n",
              "\n",
              "    [theme=dark] .colab-df-convert {\n",
              "      background-color: #3B4455;\n",
              "      fill: #D2E3FC;\n",
              "    }\n",
              "\n",
              "    [theme=dark] .colab-df-convert:hover {\n",
              "      background-color: #434B5C;\n",
              "      box-shadow: 0px 1px 3px 1px rgba(0, 0, 0, 0.15);\n",
              "      filter: drop-shadow(0px 1px 2px rgba(0, 0, 0, 0.3));\n",
              "      fill: #FFFFFF;\n",
              "    }\n",
              "  </style>\n",
              "\n",
              "    <script>\n",
              "      const buttonEl =\n",
              "        document.querySelector('#df-d5964684-0074-43e5-8fd6-e9ad395ce55b button.colab-df-convert');\n",
              "      buttonEl.style.display =\n",
              "        google.colab.kernel.accessAllowed ? 'block' : 'none';\n",
              "\n",
              "      async function convertToInteractive(key) {\n",
              "        const element = document.querySelector('#df-d5964684-0074-43e5-8fd6-e9ad395ce55b');\n",
              "        const dataTable =\n",
              "          await google.colab.kernel.invokeFunction('convertToInteractive',\n",
              "                                                    [key], {});\n",
              "        if (!dataTable) return;\n",
              "\n",
              "        const docLinkHtml = 'Like what you see? Visit the ' +\n",
              "          '<a target=\"_blank\" href=https://colab.research.google.com/notebooks/data_table.ipynb>data table notebook</a>'\n",
              "          + ' to learn more about interactive tables.';\n",
              "        element.innerHTML = '';\n",
              "        dataTable['output_type'] = 'display_data';\n",
              "        await google.colab.output.renderOutput(dataTable, element);\n",
              "        const docLink = document.createElement('div');\n",
              "        docLink.innerHTML = docLinkHtml;\n",
              "        element.appendChild(docLink);\n",
              "      }\n",
              "    </script>\n",
              "  </div>\n",
              "\n",
              "\n",
              "<div id=\"df-dfe7baab-7b80-41a0-a527-632aae04cd96\">\n",
              "  <button class=\"colab-df-quickchart\" onclick=\"quickchart('df-dfe7baab-7b80-41a0-a527-632aae04cd96')\"\n",
              "            title=\"Suggest charts\"\n",
              "            style=\"display:none;\">\n",
              "\n",
              "<svg xmlns=\"http://www.w3.org/2000/svg\" height=\"24px\"viewBox=\"0 0 24 24\"\n",
              "     width=\"24px\">\n",
              "    <g>\n",
              "        <path d=\"M19 3H5c-1.1 0-2 .9-2 2v14c0 1.1.9 2 2 2h14c1.1 0 2-.9 2-2V5c0-1.1-.9-2-2-2zM9 17H7v-7h2v7zm4 0h-2V7h2v10zm4 0h-2v-4h2v4z\"/>\n",
              "    </g>\n",
              "</svg>\n",
              "  </button>\n",
              "\n",
              "<style>\n",
              "  .colab-df-quickchart {\n",
              "      --bg-color: #E8F0FE;\n",
              "      --fill-color: #1967D2;\n",
              "      --hover-bg-color: #E2EBFA;\n",
              "      --hover-fill-color: #174EA6;\n",
              "      --disabled-fill-color: #AAA;\n",
              "      --disabled-bg-color: #DDD;\n",
              "  }\n",
              "\n",
              "  [theme=dark] .colab-df-quickchart {\n",
              "      --bg-color: #3B4455;\n",
              "      --fill-color: #D2E3FC;\n",
              "      --hover-bg-color: #434B5C;\n",
              "      --hover-fill-color: #FFFFFF;\n",
              "      --disabled-bg-color: #3B4455;\n",
              "      --disabled-fill-color: #666;\n",
              "  }\n",
              "\n",
              "  .colab-df-quickchart {\n",
              "    background-color: var(--bg-color);\n",
              "    border: none;\n",
              "    border-radius: 50%;\n",
              "    cursor: pointer;\n",
              "    display: none;\n",
              "    fill: var(--fill-color);\n",
              "    height: 32px;\n",
              "    padding: 0;\n",
              "    width: 32px;\n",
              "  }\n",
              "\n",
              "  .colab-df-quickchart:hover {\n",
              "    background-color: var(--hover-bg-color);\n",
              "    box-shadow: 0 1px 2px rgba(60, 64, 67, 0.3), 0 1px 3px 1px rgba(60, 64, 67, 0.15);\n",
              "    fill: var(--button-hover-fill-color);\n",
              "  }\n",
              "\n",
              "  .colab-df-quickchart-complete:disabled,\n",
              "  .colab-df-quickchart-complete:disabled:hover {\n",
              "    background-color: var(--disabled-bg-color);\n",
              "    fill: var(--disabled-fill-color);\n",
              "    box-shadow: none;\n",
              "  }\n",
              "\n",
              "  .colab-df-spinner {\n",
              "    border: 2px solid var(--fill-color);\n",
              "    border-color: transparent;\n",
              "    border-bottom-color: var(--fill-color);\n",
              "    animation:\n",
              "      spin 1s steps(1) infinite;\n",
              "  }\n",
              "\n",
              "  @keyframes spin {\n",
              "    0% {\n",
              "      border-color: transparent;\n",
              "      border-bottom-color: var(--fill-color);\n",
              "      border-left-color: var(--fill-color);\n",
              "    }\n",
              "    20% {\n",
              "      border-color: transparent;\n",
              "      border-left-color: var(--fill-color);\n",
              "      border-top-color: var(--fill-color);\n",
              "    }\n",
              "    30% {\n",
              "      border-color: transparent;\n",
              "      border-left-color: var(--fill-color);\n",
              "      border-top-color: var(--fill-color);\n",
              "      border-right-color: var(--fill-color);\n",
              "    }\n",
              "    40% {\n",
              "      border-color: transparent;\n",
              "      border-right-color: var(--fill-color);\n",
              "      border-top-color: var(--fill-color);\n",
              "    }\n",
              "    60% {\n",
              "      border-color: transparent;\n",
              "      border-right-color: var(--fill-color);\n",
              "    }\n",
              "    80% {\n",
              "      border-color: transparent;\n",
              "      border-right-color: var(--fill-color);\n",
              "      border-bottom-color: var(--fill-color);\n",
              "    }\n",
              "    90% {\n",
              "      border-color: transparent;\n",
              "      border-bottom-color: var(--fill-color);\n",
              "    }\n",
              "  }\n",
              "</style>\n",
              "\n",
              "  <script>\n",
              "    async function quickchart(key) {\n",
              "      const quickchartButtonEl =\n",
              "        document.querySelector('#' + key + ' button');\n",
              "      quickchartButtonEl.disabled = true;  // To prevent multiple clicks.\n",
              "      quickchartButtonEl.classList.add('colab-df-spinner');\n",
              "      try {\n",
              "        const charts = await google.colab.kernel.invokeFunction(\n",
              "            'suggestCharts', [key], {});\n",
              "      } catch (error) {\n",
              "        console.error('Error during call to suggestCharts:', error);\n",
              "      }\n",
              "      quickchartButtonEl.classList.remove('colab-df-spinner');\n",
              "      quickchartButtonEl.classList.add('colab-df-quickchart-complete');\n",
              "    }\n",
              "    (() => {\n",
              "      let quickchartButtonEl =\n",
              "        document.querySelector('#df-dfe7baab-7b80-41a0-a527-632aae04cd96 button');\n",
              "      quickchartButtonEl.style.display =\n",
              "        google.colab.kernel.accessAllowed ? 'block' : 'none';\n",
              "    })();\n",
              "  </script>\n",
              "</div>\n",
              "\n",
              "    </div>\n",
              "  </div>\n"
            ],
            "application/vnd.google.colaboratory.intrinsic+json": {
              "type": "dataframe",
              "variable_name": "df",
              "summary": "{\n  \"name\": \"df\",\n  \"rows\": 1376,\n  \"fields\": [\n    {\n      \"column\": \"Date\",\n      \"properties\": {\n        \"dtype\": \"object\",\n        \"num_unique_values\": 1376,\n        \"samples\": [\n          \"2021-02-03\",\n          \"2019-06-04\",\n          \"2022-05-24\"\n        ],\n        \"semantic_type\": \"\",\n        \"description\": \"\"\n      }\n    },\n    {\n      \"column\": \"Open\",\n      \"properties\": {\n        \"dtype\": \"number\",\n        \"std\": 13692.488758031252,\n        \"min\": 37957.3125,\n        \"max\": 98500.0,\n        \"num_unique_values\": 600,\n        \"samples\": [\n          61116.582031,\n          62574.089844,\n          91100.0\n        ],\n        \"semantic_type\": \"\",\n        \"description\": \"\"\n      }\n    },\n    {\n      \"column\": \"High\",\n      \"properties\": {\n        \"dtype\": \"number\",\n        \"std\": 13750.650478394993,\n        \"min\": 38753.621094,\n        \"max\": 100500.0,\n        \"num_unique_values\": 601,\n        \"samples\": [\n          60917.503906,\n          58848.433594,\n          90600.0\n        ],\n        \"semantic_type\": \"\",\n        \"description\": \"\"\n      }\n    },\n    {\n      \"column\": \"Low\",\n      \"properties\": {\n        \"dtype\": \"number\",\n        \"std\": 13583.472344497513,\n        \"min\": 37559.160156,\n        \"max\": 97300.0,\n        \"num_unique_values\": 605,\n        \"samples\": [\n          56985.605469,\n          62908.273438,\n          52556.277344\n        ],\n        \"semantic_type\": \"\",\n        \"description\": \"\"\n      }\n    },\n    {\n      \"column\": \"Close\",\n      \"properties\": {\n        \"dtype\": \"number\",\n        \"std\": 13660.147892546573,\n        \"min\": 37957.3125,\n        \"max\": 97400.0,\n        \"num_unique_values\": 607,\n        \"samples\": [\n          82700.0,\n          65562.632813,\n          52755.355469\n        ],\n        \"semantic_type\": \"\",\n        \"description\": \"\"\n      }\n    },\n    {\n      \"column\": \"Adj Close\",\n      \"properties\": {\n        \"dtype\": \"number\",\n        \"std\": 13660.147892546573,\n        \"min\": 37957.3125,\n        \"max\": 97400.0,\n        \"num_unique_values\": 607,\n        \"samples\": [\n          82700.0,\n          65562.632813,\n          52755.355469\n        ],\n        \"semantic_type\": \"\",\n        \"description\": \"\"\n      }\n    },\n    {\n      \"column\": \"Volume\",\n      \"properties\": {\n        \"dtype\": \"number\",\n        \"std\": 1421807.916662135,\n        \"min\": 304461.0,\n        \"max\": 34076810.0,\n        \"num_unique_values\": 1305,\n        \"samples\": [\n          1693000.0,\n          2404649.0,\n          518931.0\n        ],\n        \"semantic_type\": \"\",\n        \"description\": \"\"\n      }\n    }\n  ]\n}"
            }
          },
          "metadata": {},
          "execution_count": 62
        }
      ]
    },
    {
      "cell_type": "code",
      "source": [
        "df = df[['Close']]\n",
        "df = df.dropna() # Drop missing values\n",
        "df = df.reset_index(drop=True) # Reset the index"
      ],
      "metadata": {
        "id": "VUDVRitEkGgM"
      },
      "execution_count": 63,
      "outputs": []
    },
    {
      "cell_type": "code",
      "source": [
        "# Split the data into training, testing sets\n",
        "train_size = int(0.7 * len(df))\n",
        "train_data = df[:train_size]\n",
        "test_data = df[train_size:]"
      ],
      "metadata": {
        "id": "KPPwudpIkGgM"
      },
      "execution_count": 64,
      "outputs": []
    },
    {
      "cell_type": "code",
      "source": [
        "X_train = np.array(train_data.index).reshape(-1, 1)\n",
        "y_train = np.array(train_data['Close'])"
      ],
      "metadata": {
        "id": "xGdcnJthkGgN"
      },
      "execution_count": 65,
      "outputs": []
    },
    {
      "cell_type": "code",
      "source": [
        "# Auto ARIMA to select optimal ARIMA parameters\n",
        "model = auto_arima(y_train, start_p=1, start_q=1,\n",
        "                         test='adf',\n",
        "                         max_p=3, max_q=3, m=12,\n",
        "                         start_P=0, seasonal=False,\n",
        "                         d=None, D=0, trace=True,\n",
        "                         error_action='ignore',\n",
        "                         suppress_warnings=True,\n",
        "                         stepwise=True)\n",
        "\n",
        "print(model.summary())"
      ],
      "metadata": {
        "colab": {
          "base_uri": "https://localhost:8080/"
        },
        "outputId": "63abdc43-6ee6-44ba-b106-c2967982b2b6",
        "id": "d40OmMBtkGgN"
      },
      "execution_count": 66,
      "outputs": [
        {
          "output_type": "stream",
          "name": "stderr",
          "text": [
            "/usr/local/lib/python3.10/dist-packages/pmdarima/arima/_validation.py:62: UserWarning: m (12) set for non-seasonal fit. Setting to 0\n",
            "  warnings.warn(\"m (%i) set for non-seasonal fit. Setting to 0\" % m)\n"
          ]
        },
        {
          "output_type": "stream",
          "name": "stdout",
          "text": [
            "Performing stepwise search to minimize aic\n",
            " ARIMA(1,1,1)(0,0,0)[0] intercept   : AIC=15355.120, Time=0.40 sec\n",
            " ARIMA(0,1,0)(0,0,0)[0] intercept   : AIC=15352.242, Time=0.03 sec\n",
            " ARIMA(1,1,0)(0,0,0)[0] intercept   : AIC=15353.157, Time=0.06 sec\n",
            " ARIMA(0,1,1)(0,0,0)[0] intercept   : AIC=15353.143, Time=0.06 sec\n",
            " ARIMA(0,1,0)(0,0,0)[0]             : AIC=15350.562, Time=0.02 sec\n",
            "\n",
            "Best model:  ARIMA(0,1,0)(0,0,0)[0]          \n",
            "Total fit time: 0.583 seconds\n",
            "                               SARIMAX Results                                \n",
            "==============================================================================\n",
            "Dep. Variable:                      y   No. Observations:                  917\n",
            "Model:               SARIMAX(0, 1, 0)   Log Likelihood               -7674.281\n",
            "Date:                Wed, 19 Jun 2024   AIC                          15350.562\n",
            "Time:                        15:23:32   BIC                          15355.382\n",
            "Sample:                             0   HQIC                         15352.401\n",
            "                                - 917                                         \n",
            "Covariance Type:                  opg                                         \n",
            "==============================================================================\n",
            "                 coef    std err          z      P>|z|      [0.025      0.975]\n",
            "------------------------------------------------------------------------------\n",
            "sigma2      1.107e+06   3.64e+04     30.444      0.000    1.04e+06    1.18e+06\n",
            "===================================================================================\n",
            "Ljung-Box (L1) (Q):                   1.03   Jarque-Bera (JB):               163.34\n",
            "Prob(Q):                              0.31   Prob(JB):                         0.00\n",
            "Heteroskedasticity (H):               1.47   Skew:                            -0.14\n",
            "Prob(H) (two-sided):                  0.00   Kurtosis:                         5.05\n",
            "===================================================================================\n",
            "\n",
            "Warnings:\n",
            "[1] Covariance matrix calculated using the outer product of gradients (complex-step).\n"
          ]
        }
      ]
    },
    {
      "cell_type": "code",
      "source": [
        "order = (model.order[0], model.order[1], model.order[2])\n",
        "print(order)"
      ],
      "metadata": {
        "colab": {
          "base_uri": "https://localhost:8080/"
        },
        "outputId": "80052144-02f3-4b3b-d8d8-5c7d0e872130",
        "id": "a69qncb7kGgN"
      },
      "execution_count": 67,
      "outputs": [
        {
          "output_type": "stream",
          "name": "stdout",
          "text": [
            "(0, 1, 0)\n"
          ]
        }
      ]
    },
    {
      "cell_type": "code",
      "source": [
        "from statsmodels.tsa.arima.model import ARIMA\n",
        "def evaluate_ariama_model(x_data, y_data, order):\n",
        "    y_pred = list()\n",
        "    history = [x for x in y_train]\n",
        "    for t in range(len(y_data)):\n",
        "        model = ARIMA(history, order=order)\n",
        "        model_fit = model.fit()\n",
        "        output = model_fit.forecast()\n",
        "        yhat = output[0]\n",
        "        y_pred.append(yhat)\n",
        "        obs = y_data[t]\n",
        "        history.append(obs)\n",
        "    mse = mean_squared_error(y_data, y_pred)\n",
        "    mae = mean_absolute_error(y_data, y_pred)\n",
        "    mape = mean_absolute_percentage_error(y_data, y_pred)\n",
        "    rmse = mean_squared_error(y_data, y_pred, squared=False)\n",
        "    return y_pred, mse, mae, mape, rmse"
      ],
      "metadata": {
        "id": "FIZsWIiekGgO"
      },
      "execution_count": 68,
      "outputs": []
    },
    {
      "cell_type": "code",
      "source": [
        "x_test = np.array(test_data.index).reshape(-1, 1)\n",
        "y_test = np.array(test_data['Close'])\n",
        "y_pred, test_mse, test_mae, test_mape, test_rmse = evaluate_ariama_model(x_test, y_test, order)\n",
        "\n",
        "print(\"Price predict on test data:\", y_pred)\n",
        "print(\"MSE on test data:\", test_mse)\n",
        "print(\"MAE on test data:\", test_mae)\n",
        "print(\"MAPE on test data:\", test_mape)\n",
        "print(\"RMSE on test data:\", test_rmse)"
      ],
      "metadata": {
        "colab": {
          "base_uri": "https://localhost:8080/"
        },
        "outputId": "c0d46212-6265-4849-8af4-e4211853ef5e",
        "id": "OJadnT0akGgO"
      },
      "execution_count": 69,
      "outputs": [
        {
          "output_type": "stream",
          "name": "stdout",
          "text": [
            "Price predict on test data: [59271.804688, 60711.261719, 60626.585938, 62235.394531, 63505.503906, 62320.066406, 61812.023438, 60795.9375, 60795.9375, 61473.328125, 62658.765625, 61642.675781, 63928.875, 63590.179688, 63505.503906, 63590.179688, 64775.613281, 64775.613281, 63505.503906, 62235.394531, 62235.394531, 61812.023438, 61896.699219, 64944.960938, 67569.859375, 68585.945313, 67739.203125, 71972.90625, 71972.90625, 67739.203125, 66469.09375, 65198.984375, 65453.007813, 65537.679688, 66215.070313, 66723.117188, 67315.835938, 67485.179688, 67061.8125, 66892.460938, 66638.445313, 67146.484375, 66977.140625, 66807.789063, 66977.140625, 67739.203125, 68331.921875, 67739.203125, 69940.726563, 70110.078125, 71126.164063, 71126.164063, 73581.710938, 73920.40625, 72057.578125, 71803.554688, 72650.296875, 73920.40625, 75698.5625, 76206.601563, 78746.828125, 78746.828125, 76121.929688, 77815.414063, 75444.539063, 76714.648438, 78746.828125, 81287.046875, 77900.085938, 79762.914063, 78746.828125, 80016.9375, 79170.195313, 78323.453125, 78746.828125, 78238.78125, 78746.828125, 79424.21875, 79762.914063, 78746.828125, 79000.84375, 79170.195313, 78577.476563, 79170.195313, 78746.828125, 78916.171875, 76968.671875, 77053.34375, 77815.414063, 78069.429688, 78746.828125, 77984.757813, 77476.710938, 77053.34375, 77392.039063, 77053.34375, 75359.867188, 72057.578125, 73243.015625, 75359.867188, 76799.320313, 75359.867188, 77053.34375, 77730.734375, 78154.109375, 78492.804688, 77392.039063, 78577.476563, 77900.085938, 77984.757813, 77222.695313, 76206.601563, 75359.867188, 74682.46875, 74767.148438, 74682.46875, 74851.820313, 74851.820313, 74513.125, 74936.492188, 74767.148438, 74089.757813, 74428.453125, 74767.148438, 75698.5625, 76206.601563, 76629.976563, 74936.492188, 76037.257813, 78746.828125, 78154.109375, 77900.085938, 77053.34375, 78577.476563, 77646.0625, 78408.125, 78577.476563, 80440.304688, 79762.914063, 78831.5, 78577.476563, 78408.125, 78916.171875, 77900.085938, 78831.5, 80016.9375, 79593.5625, 79508.890625, 80355.632813, 82980.523438, 83827.265625, 82133.78125, 84674.007813, 85097.375, 85520.742188, 86790.851563, 86875.53125, 87637.59375, 88907.703125, 86113.460938, 84589.328125, 84674.007813, 85012.703125, 84589.328125, 84674.007813, 84674.007813, 85605.421875, 86282.8125, 84674.007813, 84674.007813, 84674.007813, 86367.484375, 85266.726563, 88907.703125, 86960.203125, 87214.226563, 88060.96875, 88823.03125, 88907.703125, 88738.359375, 88314.984375, 90177.8125, 88907.703125, 88907.703125, 88569.007813, 93400.0, 93000.0, 90600.0, 90100.0, 90800.0, 90700.0, 90200.0, 88500.0, 90400.0, 89000.0, 88900.0, 89200.0, 89400.0, 89500.0, 89800.0, 88400.0, 86300.0, 87000.0, 86200.0, 87000.0, 88400.0, 89100.0, 89100.0, 90100.0, 90200.0, 89500.0, 89500.0, 88500.0, 89900.0, 89100.0, 89100.0, 89800.0, 88800.0, 88100.0, 88000.0, 87000.0, 89300.0, 89300.0, 87000.0, 87800.0, 88000.0, 87500.0, 86500.0, 86300.0, 86300.0, 84500.0, 85400.0, 84600.0, 86100.0, 86500.0, 86000.0, 86600.0, 86100.0, 85900.0, 85900.0, 84500.0, 84800.0, 84500.0, 86000.0, 85800.0, 84500.0, 85000.0, 85900.0, 86800.0, 87800.0, 89000.0, 88900.0, 89500.0, 88300.0, 89500.0, 87900.0, 86000.0, 85500.0, 86000.0, 87700.0, 88000.0, 85600.0, 86100.0, 86600.0, 86700.0, 85500.0, 86000.0, 85800.0, 85800.0, 85100.0, 84700.0, 85000.0, 86000.0, 85400.0, 85900.0, 85200.0, 85000.0, 84200.0, 84200.0, 83700.0, 82200.0, 81500.0, 81200.0, 81100.0, 80900.0, 80900.0, 81800.0, 82800.0, 82700.0, 82800.0, 80300.0, 83500.0, 84500.0, 85900.0, 86200.0, 86800.0, 87800.0, 89500.0, 89300.0, 88700.0, 90000.0, 90000.0, 90900.0, 92600.0, 92000.0, 91500.0, 91100.0, 91000.0, 92000.0, 91200.0, 91000.0, 88500.0, 89800.0, 90300.0, 90000.0, 89500.0, 90000.0, 89900.0, 89600.0, 90200.0, 91300.0, 91200.0, 89500.0, 88900.0, 89500.0, 91100.0, 97400.0, 97300.0, 97300.0, 96000.0, 95500.0, 95600.0, 95800.0, 95100.0, 94100.0, 94400.0, 96000.0, 95000.0, 94000.0, 93000.0, 92500.0, 93200.0, 95200.0, 96400.0, 95700.0, 96300.0, 95800.0, 95700.0, 94900.0, 95200.0, 94500.0, 93800.0, 96000.0, 94900.0, 94900.0, 94300.0, 94500.0, 94000.0, 94600.0, 92000.0, 91000.0, 90500.0, 90500.0, 90600.0, 90100.0, 90600.0, 91000.0, 91200.0, 91900.0, 92500.0, 93000.0, 92900.0, 93000.0, 92500.0, 92000.0, 91000.0, 90600.0, 91000.0, 92600.0, 91800.0, 91900.0, 91100.0, 90700.0, 91000.0, 90200.0, 90200.0, 90700.0, 89800.0, 88600.0, 87200.0, 88200.0, 88700.0, 88800.0, 89000.0]\n",
            "MSE on test data: 1382376.6817682383\n",
            "MAE on test data: 848.6982074873097\n",
            "MAPE on test data: 0.010405046014231987\n",
            "RMSE on test data: 1175.7451602146778\n"
          ]
        }
      ]
    },
    {
      "cell_type": "code",
      "source": [
        "last_index = len(df)-1\n",
        "\n",
        "# Create arrays for 90 days\n",
        "x_next_90_days = np.array(range(last_index+1, last_index+91)).reshape(-1, 1)\n",
        "\n",
        "# Predict for the next 30 days\n",
        "y_next_90_days = list()\n",
        "history = [x for x in y_test]\n",
        "for t in range(len(x_next_90_days)):\n",
        "    model = ARIMA(history, order=order)\n",
        "    model_fit = model.fit()\n",
        "    output = model_fit.forecast()\n",
        "    yhat = output[0]\n",
        "    y_next_90_days.append(yhat)\n",
        "    history.append(yhat)\n",
        "\n"
      ],
      "metadata": {
        "id": "fu-w_PnukGgO"
      },
      "execution_count": 70,
      "outputs": []
    },
    {
      "cell_type": "code",
      "source": [
        "plt.figure(figsize=(12,6))\n",
        "\n",
        "# Plot the train, test, and validation data\n",
        "plt.plot(train_data.index, train_data['Close'], label='Train')\n",
        "plt.plot(test_data.index, test_data['Close'], label='Test')\n",
        "\n",
        "# Plot the predictions for test and validation sets\n",
        "plt.plot(test_data.index, y_pred, label='Test Predictions')\n",
        "\n",
        "# Plot the predictions for the next 90 days\n",
        "\n",
        "plt.plot(range(last_index + 1, last_index + 91), y_next_90_days, color='red', label='Next 90 Days')\n",
        "\n",
        "# Adding titles and labels\n",
        "plt.title('Predicted VCB Stock Closing Prices with 70% Train and 30% Test')\n",
        "plt.xlabel('Time')\n",
        "plt.ylabel('Closing Price')\n",
        "plt.legend()\n",
        "plt.grid(True)\n",
        "\n",
        "# Show the plot\n",
        "plt.show()"
      ],
      "metadata": {
        "colab": {
          "base_uri": "https://localhost:8080/",
          "height": 564
        },
        "outputId": "37a98b72-0c2c-460e-c9b0-a3725c9bcc2f",
        "id": "FqNbx2JakGgP"
      },
      "execution_count": 71,
      "outputs": [
        {
          "output_type": "display_data",
          "data": {
            "text/plain": [
              "<Figure size 1200x600 with 1 Axes>"
            ],
            "image/png": "[encoded data removed]"
          },
          "metadata": {}
        }
      ]
    },
    {
      "cell_type": "code",
      "source": [],
      "metadata": {
        "id": "FcbEvyGDkGgQ"
      },
      "execution_count": 71,
      "outputs": []
    },
    {
      "cell_type": "markdown",
      "source": [
        "# Train test 9:1"
      ],
      "metadata": {
        "id": "gk-0Sb-7kgR0"
      }
    },
    {
      "cell_type": "code",
      "source": [
        "df = pd.read_csv('/content/VCB.VN-BaoCao.csv')"
      ],
      "metadata": {
        "id": "F8_iE2jYkgSe"
      },
      "execution_count": 72,
      "outputs": []
    },
    {
      "cell_type": "code",
      "source": [
        "df.head()"
      ],
      "metadata": {
        "colab": {
          "base_uri": "https://localhost:8080/",
          "height": 206
        },
        "outputId": "2294d875-743e-4b47-cb57-37bf47b7835d",
        "id": "ijvr5M5QkgSe"
      },
      "execution_count": 73,
      "outputs": [
        {
          "output_type": "execute_result",
          "data": {
            "text/plain": [
              "         Date          Open          High           Low         Close  \\\n",
              "0  2019-03-01  40478.953125  41275.257813  40346.234375  41275.257813   \n",
              "1  2019-03-04  41275.257813  41806.132813  41275.257813  41673.414063   \n",
              "2  2019-03-05  41673.414063  42337.003906  41474.335938  41806.132813   \n",
              "3  2019-03-06  41872.488281  42005.207031  41076.183594  41607.054688   \n",
              "4  2019-03-07  41607.054688  42337.003906  41540.695313  41872.488281   \n",
              "\n",
              "      Adj Close     Volume  \n",
              "0  41275.257813  1225908.0  \n",
              "1  41673.414063  2030592.0  \n",
              "2  41806.132813  2376092.0  \n",
              "3  41607.054688  2107101.0  \n",
              "4  41872.488281  3091640.0  "
            ],
            "text/html": [
              "\n",
              "  <div id=\"df-cc9a6a92-97d7-42d8-a407-2a4053dbc96d\" class=\"colab-df-container\">\n",
              "    <div>\n",
              "<style scoped>\n",
              "    .dataframe tbody tr th:only-of-type {\n",
              "        vertical-align: middle;\n",
              "    }\n",
              "\n",
              "    .dataframe tbody tr th {\n",
              "        vertical-align: top;\n",
              "    }\n",
              "\n",
              "    .dataframe thead th {\n",
              "        text-align: right;\n",
              "    }\n",
              "</style>\n",
              "<table border=\"1\" class=\"dataframe\">\n",
              "  <thead>\n",
              "    <tr style=\"text-align: right;\">\n",
              "      <th></th>\n",
              "      <th>Date</th>\n",
              "      <th>Open</th>\n",
              "      <th>High</th>\n",
              "      <th>Low</th>\n",
              "      <th>Close</th>\n",
              "      <th>Adj Close</th>\n",
              "      <th>Volume</th>\n",
              "    </tr>\n",
              "  </thead>\n",
              "  <tbody>\n",
              "    <tr>\n",
              "      <th>0</th>\n",
              "      <td>2019-03-01</td>\n",
              "      <td>40478.953125</td>\n",
              "      <td>41275.257813</td>\n",
              "      <td>40346.234375</td>\n",
              "      <td>41275.257813</td>\n",
              "      <td>41275.257813</td>\n",
              "      <td>1225908.0</td>\n",
              "    </tr>\n",
              "    <tr>\n",
              "      <th>1</th>\n",
              "      <td>2019-03-04</td>\n",
              "      <td>41275.257813</td>\n",
              "      <td>41806.132813</td>\n",
              "      <td>41275.257813</td>\n",
              "      <td>41673.414063</td>\n",
              "      <td>41673.414063</td>\n",
              "      <td>2030592.0</td>\n",
              "    </tr>\n",
              "    <tr>\n",
              "      <th>2</th>\n",
              "      <td>2019-03-05</td>\n",
              "      <td>41673.414063</td>\n",
              "      <td>42337.003906</td>\n",
              "      <td>41474.335938</td>\n",
              "      <td>41806.132813</td>\n",
              "      <td>41806.132813</td>\n",
              "      <td>2376092.0</td>\n",
              "    </tr>\n",
              "    <tr>\n",
              "      <th>3</th>\n",
              "      <td>2019-03-06</td>\n",
              "      <td>41872.488281</td>\n",
              "      <td>42005.207031</td>\n",
              "      <td>41076.183594</td>\n",
              "      <td>41607.054688</td>\n",
              "      <td>41607.054688</td>\n",
              "      <td>2107101.0</td>\n",
              "    </tr>\n",
              "    <tr>\n",
              "      <th>4</th>\n",
              "      <td>2019-03-07</td>\n",
              "      <td>41607.054688</td>\n",
              "      <td>42337.003906</td>\n",
              "      <td>41540.695313</td>\n",
              "      <td>41872.488281</td>\n",
              "      <td>41872.488281</td>\n",
              "      <td>3091640.0</td>\n",
              "    </tr>\n",
              "  </tbody>\n",
              "</table>\n",
              "</div>\n",
              "    <div class=\"colab-df-buttons\">\n",
              "\n",
              "  <div class=\"colab-df-container\">\n",
              "    <button class=\"colab-df-convert\" onclick=\"convertToInteractive('df-cc9a6a92-97d7-42d8-a407-2a4053dbc96d')\"\n",
              "            title=\"Convert this dataframe to an interactive table.\"\n",
              "            style=\"display:none;\">\n",
              "\n",
              "  <svg xmlns=\"http://www.w3.org/2000/svg\" height=\"24px\" viewBox=\"0 -960 960 960\">\n",
              "    <path d=\"M120-120v-720h720v720H120Zm60-500h600v-160H180v160Zm220 220h160v-160H400v160Zm0 220h160v-160H400v160ZM180-400h160v-160H180v160Zm440 0h160v-160H620v160ZM180-180h160v-160H180v160Zm440 0h160v-160H620v160Z\"/>\n",
              "  </svg>\n",
              "    </button>\n",
              "\n",
              "  <style>\n",
              "    .colab-df-container {\n",
              "      display:flex;\n",
              "      gap: 12px;\n",
              "    }\n",
              "\n",
              "    .colab-df-convert {\n",
              "      background-color: #E8F0FE;\n",
              "      border: none;\n",
              "      border-radius: 50%;\n",
              "      cursor: pointer;\n",
              "      display: none;\n",
              "      fill: #1967D2;\n",
              "      height: 32px;\n",
              "      padding: 0 0 0 0;\n",
              "      width: 32px;\n",
              "    }\n",
              "\n",
              "    .colab-df-convert:hover {\n",
              "      background-color: #E2EBFA;\n",
              "      box-shadow: 0px 1px 2px rgba(60, 64, 67, 0.3), 0px 1px 3px 1px rgba(60, 64, 67, 0.15);\n",
              "      fill: #174EA6;\n",
              "    }\n",
              "\n",
              "    .colab-df-buttons div {\n",
              "      margin-bottom: 4px;\n",
              "    }\n",
              "\n",
              "    [theme=dark] .colab-df-convert {\n",
              "      background-color: #3B4455;\n",
              "      fill: #D2E3FC;\n",
              "    }\n",
              "\n",
              "    [theme=dark] .colab-df-convert:hover {\n",
              "      background-color: #434B5C;\n",
              "      box-shadow: 0px 1px 3px 1px rgba(0, 0, 0, 0.15);\n",
              "      filter: drop-shadow(0px 1px 2px rgba(0, 0, 0, 0.3));\n",
              "      fill: #FFFFFF;\n",
              "    }\n",
              "  </style>\n",
              "\n",
              "    <script>\n",
              "      const buttonEl =\n",
              "        document.querySelector('#df-cc9a6a92-97d7-42d8-a407-2a4053dbc96d button.colab-df-convert');\n",
              "      buttonEl.style.display =\n",
              "        google.colab.kernel.accessAllowed ? 'block' : 'none';\n",
              "\n",
              "      async function convertToInteractive(key) {\n",
              "        const element = document.querySelector('#df-cc9a6a92-97d7-42d8-a407-2a4053dbc96d');\n",
              "        const dataTable =\n",
              "          await google.colab.kernel.invokeFunction('convertToInteractive',\n",
              "                                                    [key], {});\n",
              "        if (!dataTable) return;\n",
              "\n",
              "        const docLinkHtml = 'Like what you see? Visit the ' +\n",
              "          '<a target=\"_blank\" href=https://colab.research.google.com/notebooks/data_table.ipynb>data table notebook</a>'\n",
              "          + ' to learn more about interactive tables.';\n",
              "        element.innerHTML = '';\n",
              "        dataTable['output_type'] = 'display_data';\n",
              "        await google.colab.output.renderOutput(dataTable, element);\n",
              "        const docLink = document.createElement('div');\n",
              "        docLink.innerHTML = docLinkHtml;\n",
              "        element.appendChild(docLink);\n",
              "      }\n",
              "    </script>\n",
              "  </div>\n",
              "\n",
              "\n",
              "<div id=\"df-a80615b8-cbfc-4c9c-a738-a54b91be0d93\">\n",
              "  <button class=\"colab-df-quickchart\" onclick=\"quickchart('df-a80615b8-cbfc-4c9c-a738-a54b91be0d93')\"\n",
              "            title=\"Suggest charts\"\n",
              "            style=\"display:none;\">\n",
              "\n",
              "<svg xmlns=\"http://www.w3.org/2000/svg\" height=\"24px\"viewBox=\"0 0 24 24\"\n",
              "     width=\"24px\">\n",
              "    <g>\n",
              "        <path d=\"M19 3H5c-1.1 0-2 .9-2 2v14c0 1.1.9 2 2 2h14c1.1 0 2-.9 2-2V5c0-1.1-.9-2-2-2zM9 17H7v-7h2v7zm4 0h-2V7h2v10zm4 0h-2v-4h2v4z\"/>\n",
              "    </g>\n",
              "</svg>\n",
              "  </button>\n",
              "\n",
              "<style>\n",
              "  .colab-df-quickchart {\n",
              "      --bg-color: #E8F0FE;\n",
              "      --fill-color: #1967D2;\n",
              "      --hover-bg-color: #E2EBFA;\n",
              "      --hover-fill-color: #174EA6;\n",
              "      --disabled-fill-color: #AAA;\n",
              "      --disabled-bg-color: #DDD;\n",
              "  }\n",
              "\n",
              "  [theme=dark] .colab-df-quickchart {\n",
              "      --bg-color: #3B4455;\n",
              "      --fill-color: #D2E3FC;\n",
              "      --hover-bg-color: #434B5C;\n",
              "      --hover-fill-color: #FFFFFF;\n",
              "      --disabled-bg-color: #3B4455;\n",
              "      --disabled-fill-color: #666;\n",
              "  }\n",
              "\n",
              "  .colab-df-quickchart {\n",
              "    background-color: var(--bg-color);\n",
              "    border: none;\n",
              "    border-radius: 50%;\n",
              "    cursor: pointer;\n",
              "    display: none;\n",
              "    fill: var(--fill-color);\n",
              "    height: 32px;\n",
              "    padding: 0;\n",
              "    width: 32px;\n",
              "  }\n",
              "\n",
              "  .colab-df-quickchart:hover {\n",
              "    background-color: var(--hover-bg-color);\n",
              "    box-shadow: 0 1px 2px rgba(60, 64, 67, 0.3), 0 1px 3px 1px rgba(60, 64, 67, 0.15);\n",
              "    fill: var(--button-hover-fill-color);\n",
              "  }\n",
              "\n",
              "  .colab-df-quickchart-complete:disabled,\n",
              "  .colab-df-quickchart-complete:disabled:hover {\n",
              "    background-color: var(--disabled-bg-color);\n",
              "    fill: var(--disabled-fill-color);\n",
              "    box-shadow: none;\n",
              "  }\n",
              "\n",
              "  .colab-df-spinner {\n",
              "    border: 2px solid var(--fill-color);\n",
              "    border-color: transparent;\n",
              "    border-bottom-color: var(--fill-color);\n",
              "    animation:\n",
              "      spin 1s steps(1) infinite;\n",
              "  }\n",
              "\n",
              "  @keyframes spin {\n",
              "    0% {\n",
              "      border-color: transparent;\n",
              "      border-bottom-color: var(--fill-color);\n",
              "      border-left-color: var(--fill-color);\n",
              "    }\n",
              "    20% {\n",
              "      border-color: transparent;\n",
              "      border-left-color: var(--fill-color);\n",
              "      border-top-color: var(--fill-color);\n",
              "    }\n",
              "    30% {\n",
              "      border-color: transparent;\n",
              "      border-left-color: var(--fill-color);\n",
              "      border-top-color: var(--fill-color);\n",
              "      border-right-color: var(--fill-color);\n",
              "    }\n",
              "    40% {\n",
              "      border-color: transparent;\n",
              "      border-right-color: var(--fill-color);\n",
              "      border-top-color: var(--fill-color);\n",
              "    }\n",
              "    60% {\n",
              "      border-color: transparent;\n",
              "      border-right-color: var(--fill-color);\n",
              "    }\n",
              "    80% {\n",
              "      border-color: transparent;\n",
              "      border-right-color: var(--fill-color);\n",
              "      border-bottom-color: var(--fill-color);\n",
              "    }\n",
              "    90% {\n",
              "      border-color: transparent;\n",
              "      border-bottom-color: var(--fill-color);\n",
              "    }\n",
              "  }\n",
              "</style>\n",
              "\n",
              "  <script>\n",
              "    async function quickchart(key) {\n",
              "      const quickchartButtonEl =\n",
              "        document.querySelector('#' + key + ' button');\n",
              "      quickchartButtonEl.disabled = true;  // To prevent multiple clicks.\n",
              "      quickchartButtonEl.classList.add('colab-df-spinner');\n",
              "      try {\n",
              "        const charts = await google.colab.kernel.invokeFunction(\n",
              "            'suggestCharts', [key], {});\n",
              "      } catch (error) {\n",
              "        console.error('Error during call to suggestCharts:', error);\n",
              "      }\n",
              "      quickchartButtonEl.classList.remove('colab-df-spinner');\n",
              "      quickchartButtonEl.classList.add('colab-df-quickchart-complete');\n",
              "    }\n",
              "    (() => {\n",
              "      let quickchartButtonEl =\n",
              "        document.querySelector('#df-a80615b8-cbfc-4c9c-a738-a54b91be0d93 button');\n",
              "      quickchartButtonEl.style.display =\n",
              "        google.colab.kernel.accessAllowed ? 'block' : 'none';\n",
              "    })();\n",
              "  </script>\n",
              "</div>\n",
              "\n",
              "    </div>\n",
              "  </div>\n"
            ],
            "application/vnd.google.colaboratory.intrinsic+json": {
              "type": "dataframe",
              "variable_name": "df",
              "summary": "{\n  \"name\": \"df\",\n  \"rows\": 1376,\n  \"fields\": [\n    {\n      \"column\": \"Date\",\n      \"properties\": {\n        \"dtype\": \"object\",\n        \"num_unique_values\": 1376,\n        \"samples\": [\n          \"2021-02-03\",\n          \"2019-06-04\",\n          \"2022-05-24\"\n        ],\n        \"semantic_type\": \"\",\n        \"description\": \"\"\n      }\n    },\n    {\n      \"column\": \"Open\",\n      \"properties\": {\n        \"dtype\": \"number\",\n        \"std\": 13692.488758031252,\n        \"min\": 37957.3125,\n        \"max\": 98500.0,\n        \"num_unique_values\": 600,\n        \"samples\": [\n          61116.582031,\n          62574.089844,\n          91100.0\n        ],\n        \"semantic_type\": \"\",\n        \"description\": \"\"\n      }\n    },\n    {\n      \"column\": \"High\",\n      \"properties\": {\n        \"dtype\": \"number\",\n        \"std\": 13750.650478394993,\n        \"min\": 38753.621094,\n        \"max\": 100500.0,\n        \"num_unique_values\": 601,\n        \"samples\": [\n          60917.503906,\n          58848.433594,\n          90600.0\n        ],\n        \"semantic_type\": \"\",\n        \"description\": \"\"\n      }\n    },\n    {\n      \"column\": \"Low\",\n      \"properties\": {\n        \"dtype\": \"number\",\n        \"std\": 13583.472344497513,\n        \"min\": 37559.160156,\n        \"max\": 97300.0,\n        \"num_unique_values\": 605,\n        \"samples\": [\n          56985.605469,\n          62908.273438,\n          52556.277344\n        ],\n        \"semantic_type\": \"\",\n        \"description\": \"\"\n      }\n    },\n    {\n      \"column\": \"Close\",\n      \"properties\": {\n        \"dtype\": \"number\",\n        \"std\": 13660.147892546573,\n        \"min\": 37957.3125,\n        \"max\": 97400.0,\n        \"num_unique_values\": 607,\n        \"samples\": [\n          82700.0,\n          65562.632813,\n          52755.355469\n        ],\n        \"semantic_type\": \"\",\n        \"description\": \"\"\n      }\n    },\n    {\n      \"column\": \"Adj Close\",\n      \"properties\": {\n        \"dtype\": \"number\",\n        \"std\": 13660.147892546573,\n        \"min\": 37957.3125,\n        \"max\": 97400.0,\n        \"num_unique_values\": 607,\n        \"samples\": [\n          82700.0,\n          65562.632813,\n          52755.355469\n        ],\n        \"semantic_type\": \"\",\n        \"description\": \"\"\n      }\n    },\n    {\n      \"column\": \"Volume\",\n      \"properties\": {\n        \"dtype\": \"number\",\n        \"std\": 1421807.916662135,\n        \"min\": 304461.0,\n        \"max\": 34076810.0,\n        \"num_unique_values\": 1305,\n        \"samples\": [\n          1693000.0,\n          2404649.0,\n          518931.0\n        ],\n        \"semantic_type\": \"\",\n        \"description\": \"\"\n      }\n    }\n  ]\n}"
            }
          },
          "metadata": {},
          "execution_count": 73
        }
      ]
    },
    {
      "cell_type": "code",
      "source": [
        "df = df[['Close']]\n",
        "df = df.dropna() # Drop missing values\n",
        "df = df.reset_index(drop=True) # Reset the index"
      ],
      "metadata": {
        "id": "ZDXRlkaSkgSf"
      },
      "execution_count": 74,
      "outputs": []
    },
    {
      "cell_type": "code",
      "source": [
        "# Split the data into training, testing sets\n",
        "train_size = int(0.9 * len(df))\n",
        "train_data = df[:train_size]\n",
        "test_data = df[train_size:]"
      ],
      "metadata": {
        "id": "n2Cl7lRZkgSf"
      },
      "execution_count": 75,
      "outputs": []
    },
    {
      "cell_type": "code",
      "source": [
        "X_train = np.array(train_data.index).reshape(-1, 1)\n",
        "y_train = np.array(train_data['Close'])"
      ],
      "metadata": {
        "id": "QIE9qYeYkgSf"
      },
      "execution_count": 76,
      "outputs": []
    },
    {
      "cell_type": "code",
      "source": [
        "# Auto ARIMA to select optimal ARIMA parameters\n",
        "model = auto_arima(y_train, start_p=1, start_q=1,\n",
        "                         test='adf',\n",
        "                         max_p=3, max_q=3, m=12,\n",
        "                         start_P=0, seasonal=False,\n",
        "                         d=None, D=0, trace=True,\n",
        "                         error_action='ignore',\n",
        "                         suppress_warnings=True,\n",
        "                         stepwise=True)\n",
        "\n",
        "print(model.summary())"
      ],
      "metadata": {
        "colab": {
          "base_uri": "https://localhost:8080/"
        },
        "outputId": "6284e121-416b-4af9-b8b4-816927c4e734",
        "id": "HhNCf5fzkgSg"
      },
      "execution_count": 77,
      "outputs": [
        {
          "output_type": "stream",
          "name": "stderr",
          "text": [
            "/usr/local/lib/python3.10/dist-packages/pmdarima/arima/_validation.py:62: UserWarning: m (12) set for non-seasonal fit. Setting to 0\n",
            "  warnings.warn(\"m (%i) set for non-seasonal fit. Setting to 0\" % m)\n"
          ]
        },
        {
          "output_type": "stream",
          "name": "stdout",
          "text": [
            "Performing stepwise search to minimize aic\n",
            " ARIMA(1,1,1)(0,0,0)[0] intercept   : AIC=19838.711, Time=1.26 sec\n",
            " ARIMA(0,1,0)(0,0,0)[0] intercept   : AIC=19834.771, Time=0.04 sec\n",
            " ARIMA(1,1,0)(0,0,0)[0] intercept   : AIC=19836.740, Time=0.12 sec\n",
            " ARIMA(0,1,1)(0,0,0)[0] intercept   : AIC=19836.744, Time=0.11 sec\n",
            " ARIMA(0,1,0)(0,0,0)[0]             : AIC=19834.194, Time=0.04 sec\n",
            "\n",
            "Best model:  ARIMA(0,1,0)(0,0,0)[0]          \n",
            "Total fit time: 1.597 seconds\n",
            "                               SARIMAX Results                                \n",
            "==============================================================================\n",
            "Dep. Variable:                      y   No. Observations:                 1179\n",
            "Model:               SARIMAX(0, 1, 0)   Log Likelihood               -9916.097\n",
            "Date:                Wed, 19 Jun 2024   AIC                          19834.194\n",
            "Time:                        15:23:41   BIC                          19839.265\n",
            "Sample:                             0   HQIC                         19836.106\n",
            "                               - 1179                                         \n",
            "Covariance Type:                  opg                                         \n",
            "==============================================================================\n",
            "                 coef    std err          z      P>|z|      [0.025      0.975]\n",
            "------------------------------------------------------------------------------\n",
            "sigma2      1.199e+06   3.51e+04     34.152      0.000    1.13e+06    1.27e+06\n",
            "===================================================================================\n",
            "Ljung-Box (L1) (Q):                   0.00   Jarque-Bera (JB):               189.53\n",
            "Prob(Q):                              0.99   Prob(JB):                         0.00\n",
            "Heteroskedasticity (H):               1.91   Skew:                            -0.04\n",
            "Prob(H) (two-sided):                  0.00   Kurtosis:                         4.96\n",
            "===================================================================================\n",
            "\n",
            "Warnings:\n",
            "[1] Covariance matrix calculated using the outer product of gradients (complex-step).\n"
          ]
        }
      ]
    },
    {
      "cell_type": "code",
      "source": [
        "order = (model.order[0], model.order[1], model.order[2])\n",
        "print(order)"
      ],
      "metadata": {
        "colab": {
          "base_uri": "https://localhost:8080/"
        },
        "outputId": "d558d3bc-1750-46b4-a4dd-a2b5a32e89b9",
        "id": "vf8ySXJrkgSg"
      },
      "execution_count": 78,
      "outputs": [
        {
          "output_type": "stream",
          "name": "stdout",
          "text": [
            "(0, 1, 0)\n"
          ]
        }
      ]
    },
    {
      "cell_type": "code",
      "source": [
        "from statsmodels.tsa.arima.model import ARIMA\n",
        "def evaluate_ariama_model(x_data, y_data, order):\n",
        "    y_pred = list()\n",
        "    history = [x for x in y_train]\n",
        "    for t in range(len(y_data)):\n",
        "        model = ARIMA(history, order=order)\n",
        "        model_fit = model.fit()\n",
        "        output = model_fit.forecast()\n",
        "        yhat = output[0]\n",
        "        y_pred.append(yhat)\n",
        "        obs = y_data[t]\n",
        "        history.append(obs)\n",
        "    mse = mean_squared_error(y_data, y_pred)\n",
        "    mae = mean_absolute_error(y_data, y_pred)\n",
        "    mape = mean_absolute_percentage_error(y_data, y_pred)\n",
        "    rmse = mean_squared_error(y_data, y_pred, squared=False)\n",
        "    return y_pred, mse, mae, mape, rmse"
      ],
      "metadata": {
        "id": "BCaqDxc6kgSh"
      },
      "execution_count": 79,
      "outputs": []
    },
    {
      "cell_type": "code",
      "source": [
        "x_test = np.array(test_data.index).reshape(-1, 1)\n",
        "y_test = np.array(test_data['Close'])\n",
        "y_pred, test_mse, test_mae, test_mape, test_rmse = evaluate_ariama_model(x_test, y_test, order)\n",
        "\n",
        "print(\"Price predict on test data:\", y_pred)\n",
        "print(\"MSE on test data:\", test_mse)\n",
        "print(\"MAE on test data:\", test_mae)\n",
        "print(\"MAPE on test data:\", test_mape)\n",
        "print(\"RMSE on test data:\", test_rmse)"
      ],
      "metadata": {
        "colab": {
          "base_uri": "https://localhost:8080/"
        },
        "outputId": "c5b1b0ec-3b6c-4402-bf96-7b9b29b24449",
        "id": "_m45lNr7kgSh"
      },
      "execution_count": 80,
      "outputs": [
        {
          "output_type": "stream",
          "name": "stdout",
          "text": [
            "Price predict on test data: [86100.0, 86600.0, 86700.0, 85500.0, 86000.0, 85800.0, 85800.0, 85100.0, 84700.0, 85000.0, 86000.0, 85400.0, 85900.0, 85200.0, 85000.0, 84200.0, 84200.0, 83700.0, 82200.0, 81500.0, 81200.0, 81100.0, 80900.0, 80900.0, 81800.0, 82800.0, 82700.0, 82800.0, 80300.0, 83500.0, 84500.0, 85900.0, 86200.0, 86800.0, 87800.0, 89500.0, 89300.0, 88700.0, 90000.0, 90000.0, 90900.0, 92600.0, 92000.0, 91500.0, 91100.0, 91000.0, 92000.0, 91200.0, 91000.0, 88500.0, 89800.0, 90300.0, 90000.0, 89500.0, 90000.0, 89900.0, 89600.0, 90200.0, 91300.0, 91200.0, 89500.0, 88900.0, 89500.0, 91100.0, 97400.0, 97300.0, 97300.0, 96000.0, 95500.0, 95600.0, 95800.0, 95100.0, 94100.0, 94400.0, 96000.0, 95000.0, 94000.0, 93000.0, 92500.0, 93200.0, 95200.0, 96400.0, 95700.0, 96300.0, 95800.0, 95700.0, 94900.0, 95200.0, 94500.0, 93800.0, 96000.0, 94900.0, 94900.0, 94300.0, 94500.0, 94000.0, 94600.0, 92000.0, 91000.0, 90500.0, 90500.0, 90600.0, 90100.0, 90600.0, 91000.0, 91200.0, 91900.0, 92500.0, 93000.0, 92900.0, 93000.0, 92500.0, 92000.0, 91000.0, 90600.0, 91000.0, 92600.0, 91800.0, 91900.0, 91100.0, 90700.0, 91000.0, 90200.0, 90200.0, 90700.0, 89800.0, 88600.0, 87200.0, 88200.0, 88700.0, 88800.0, 89000.0]\n",
            "MSE on test data: 1109393.9393939395\n",
            "MAE on test data: 728.7878787878788\n",
            "MAPE on test data: 0.008077726543905556\n",
            "RMSE on test data: 1053.27771237881\n"
          ]
        }
      ]
    },
    {
      "cell_type": "code",
      "source": [
        "last_index = len(df)-1\n",
        "\n",
        "\n",
        "# Create arrays for 90 days\n",
        "x_next_90_days = np.array(range(last_index+1, last_index+91)).reshape(-1, 1)\n",
        "\n",
        "# Predict for the next 30 days\n",
        "y_next_90_days = list()\n",
        "history = [x for x in y_test]\n",
        "for t in range(len(x_next_90_days)):\n",
        "    model = ARIMA(history, order=order)\n",
        "    model_fit = model.fit()\n",
        "    output = model_fit.forecast()\n",
        "    yhat = output[0]\n",
        "    y_next_90_days.append(yhat)\n",
        "    history.append(yhat)\n",
        "\n"
      ],
      "metadata": {
        "id": "8U230_rDkgSi"
      },
      "execution_count": 81,
      "outputs": []
    },
    {
      "cell_type": "code",
      "source": [
        "plt.figure(figsize=(12,6))\n",
        "\n",
        "# Plot the train, test, and validation data\n",
        "plt.plot(train_data.index, train_data['Close'], label='Train')\n",
        "plt.plot(test_data.index, test_data['Close'], label='Test')\n",
        "\n",
        "# Plot the predictions for test and validation sets\n",
        "plt.plot(test_data.index, y_pred, label='Test Predictions')\n",
        "\n",
        "# Plot the predictions for the next 90 days\n",
        "\n",
        "plt.plot(range(last_index + 1, last_index + 91), y_next_90_days, color='red', label='Next 90 Days')\n",
        "\n",
        "# Adding titles and labels\n",
        "plt.title('Predicted VCB Stock Closing Prices with 90% Train and 10% Test')\n",
        "plt.xlabel('Time')\n",
        "plt.ylabel('Closing Price')\n",
        "plt.legend()\n",
        "plt.grid(True)\n",
        "\n",
        "# Show the plot\n",
        "plt.show()"
      ],
      "metadata": {
        "colab": {
          "base_uri": "https://localhost:8080/",
          "height": 564
        },
        "outputId": "69ce4631-9900-4e67-9456-f9778f2b30bb",
        "id": "yJYX_B_TkgSi"
      },
      "execution_count": 82,
      "outputs": [
        {
          "output_type": "display_data",
          "data": {
            "text/plain": [
              "<Figure size 1200x600 with 1 Axes>"
            ],
            "image/png": "[encoded data removed]"
          },
          "metadata": {}
        }
      ]
    },
    {
      "cell_type": "code",
      "source": [],
      "metadata": {
        "id": "GIGfIlLnkgSi"
      },
      "execution_count": 82,
      "outputs": []
    }
  ]
}
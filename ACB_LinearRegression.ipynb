{
  "nbformat": 4,
  "nbformat_minor": 0,
  "metadata": {
    "colab": {
      "provenance": [],
      "authorship_tag": "ABX9TyOg/N2g4O8KG9zyyREVQYkm"
    },
    "kernelspec": {
      "name": "python3",
      "display_name": "Python 3"
    },
    "language_info": {
      "name": "python"
    }
  },
  "cells": [
    {
      "cell_type": "code",
      "execution_count": null,
      "metadata": {
        "id": "OIdo2NzYvdbS"
      },
      "outputs": [],
      "source": [
        "# Importing necessary libraries\n",
        "import numpy as np\n",
        "import pandas as pd\n",
        "import matplotlib.pyplot as plt\n",
        "from sklearn.preprocessing import MinMaxScaler\n",
        "from sklearn.linear_model import LinearRegression\n",
        "from sklearn.metrics import mean_squared_error, mean_absolute_percentage_error, mean_squared_log_error\n",
        "import tensorflow as tf"
      ]
    },
    {
      "cell_type": "code",
      "source": [
        "df = pd.read_csv('/content/ACB.VN.csv')"
      ],
      "metadata": {
        "id": "2Lt9naFyvjFu"
      },
      "execution_count": null,
      "outputs": []
    },
    {
      "cell_type": "code",
      "source": [
        "df.head(10)"
      ],
      "metadata": {
        "colab": {
          "base_uri": "https://localhost:8080/",
          "height": 363
        },
        "id": "MiaNLAIG_twA",
        "outputId": "27c865fb-1301-4ab9-ded6-d04af8e0d5e6"
      },
      "execution_count": null,
      "outputs": [
        {
          "output_type": "execute_result",
          "data": {
            "text/plain": [
              "         Date         Open         High          Low        Close  \\\n",
              "0  2019-03-01  8533.238281  8619.142578  8447.333008  8590.507813   \n",
              "1  2019-03-04  8590.507813  8733.682617  8561.873047  8705.047852   \n",
              "2  2019-03-05  8705.047852  8790.953125  8619.142578  8676.413086   \n",
              "3  2019-03-06  8647.778320  8705.047852  8590.507813  8676.413086   \n",
              "4  2019-03-07  8705.047852  8790.953125  8676.413086  8733.682617   \n",
              "5  2019-03-08  8705.047852  8762.318359  8647.778320  8676.413086   \n",
              "6  2019-03-11  8676.413086  8762.318359  8647.778320  8705.047852   \n",
              "7  2019-03-12  8733.682617  8848.223633  8676.413086  8848.223633   \n",
              "8  2019-03-13  8905.493164  9077.303711  8848.223633  8991.398438   \n",
              "9  2019-03-14  8991.398438  9163.208008  8962.763672  9020.033203   \n",
              "\n",
              "     Adj Close      Volume  \n",
              "0  8254.484375   5164405.0  \n",
              "1  8364.543945  10898750.0  \n",
              "2  8337.029297   8611453.0  \n",
              "3  8337.029297  11100248.0  \n",
              "4  8392.058594  11530669.0  \n",
              "5  8337.029297   4948093.0  \n",
              "6  8364.543945   9866759.0  \n",
              "7  8502.119141   8745639.0  \n",
              "8  8639.694336  19114578.0  \n",
              "9  8667.208984   8148129.0  "
            ],
            "text/html": [
              "\n",
              "  <div id=\"df-b4c20b90-a69d-43c6-bfc2-16de825af858\" class=\"colab-df-container\">\n",
              "    <div>\n",
              "<style scoped>\n",
              "    .dataframe tbody tr th:only-of-type {\n",
              "        vertical-align: middle;\n",
              "    }\n",
              "\n",
              "    .dataframe tbody tr th {\n",
              "        vertical-align: top;\n",
              "    }\n",
              "\n",
              "    .dataframe thead th {\n",
              "        text-align: right;\n",
              "    }\n",
              "</style>\n",
              "<table border=\"1\" class=\"dataframe\">\n",
              "  <thead>\n",
              "    <tr style=\"text-align: right;\">\n",
              "      <th></th>\n",
              "      <th>Date</th>\n",
              "      <th>Open</th>\n",
              "      <th>High</th>\n",
              "      <th>Low</th>\n",
              "      <th>Close</th>\n",
              "      <th>Adj Close</th>\n",
              "      <th>Volume</th>\n",
              "    </tr>\n",
              "  </thead>\n",
              "  <tbody>\n",
              "    <tr>\n",
              "      <th>0</th>\n",
              "      <td>2019-03-01</td>\n",
              "      <td>8533.238281</td>\n",
              "      <td>8619.142578</td>\n",
              "      <td>8447.333008</td>\n",
              "      <td>8590.507813</td>\n",
              "      <td>8254.484375</td>\n",
              "      <td>5164405.0</td>\n",
              "    </tr>\n",
              "    <tr>\n",
              "      <th>1</th>\n",
              "      <td>2019-03-04</td>\n",
              "      <td>8590.507813</td>\n",
              "      <td>8733.682617</td>\n",
              "      <td>8561.873047</td>\n",
              "      <td>8705.047852</td>\n",
              "      <td>8364.543945</td>\n",
              "      <td>10898750.0</td>\n",
              "    </tr>\n",
              "    <tr>\n",
              "      <th>2</th>\n",
              "      <td>2019-03-05</td>\n",
              "      <td>8705.047852</td>\n",
              "      <td>8790.953125</td>\n",
              "      <td>8619.142578</td>\n",
              "      <td>8676.413086</td>\n",
              "      <td>8337.029297</td>\n",
              "      <td>8611453.0</td>\n",
              "    </tr>\n",
              "    <tr>\n",
              "      <th>3</th>\n",
              "      <td>2019-03-06</td>\n",
              "      <td>8647.778320</td>\n",
              "      <td>8705.047852</td>\n",
              "      <td>8590.507813</td>\n",
              "      <td>8676.413086</td>\n",
              "      <td>8337.029297</td>\n",
              "      <td>11100248.0</td>\n",
              "    </tr>\n",
              "    <tr>\n",
              "      <th>4</th>\n",
              "      <td>2019-03-07</td>\n",
              "      <td>8705.047852</td>\n",
              "      <td>8790.953125</td>\n",
              "      <td>8676.413086</td>\n",
              "      <td>8733.682617</td>\n",
              "      <td>8392.058594</td>\n",
              "      <td>11530669.0</td>\n",
              "    </tr>\n",
              "    <tr>\n",
              "      <th>5</th>\n",
              "      <td>2019-03-08</td>\n",
              "      <td>8705.047852</td>\n",
              "      <td>8762.318359</td>\n",
              "      <td>8647.778320</td>\n",
              "      <td>8676.413086</td>\n",
              "      <td>8337.029297</td>\n",
              "      <td>4948093.0</td>\n",
              "    </tr>\n",
              "    <tr>\n",
              "      <th>6</th>\n",
              "      <td>2019-03-11</td>\n",
              "      <td>8676.413086</td>\n",
              "      <td>8762.318359</td>\n",
              "      <td>8647.778320</td>\n",
              "      <td>8705.047852</td>\n",
              "      <td>8364.543945</td>\n",
              "      <td>9866759.0</td>\n",
              "    </tr>\n",
              "    <tr>\n",
              "      <th>7</th>\n",
              "      <td>2019-03-12</td>\n",
              "      <td>8733.682617</td>\n",
              "      <td>8848.223633</td>\n",
              "      <td>8676.413086</td>\n",
              "      <td>8848.223633</td>\n",
              "      <td>8502.119141</td>\n",
              "      <td>8745639.0</td>\n",
              "    </tr>\n",
              "    <tr>\n",
              "      <th>8</th>\n",
              "      <td>2019-03-13</td>\n",
              "      <td>8905.493164</td>\n",
              "      <td>9077.303711</td>\n",
              "      <td>8848.223633</td>\n",
              "      <td>8991.398438</td>\n",
              "      <td>8639.694336</td>\n",
              "      <td>19114578.0</td>\n",
              "    </tr>\n",
              "    <tr>\n",
              "      <th>9</th>\n",
              "      <td>2019-03-14</td>\n",
              "      <td>8991.398438</td>\n",
              "      <td>9163.208008</td>\n",
              "      <td>8962.763672</td>\n",
              "      <td>9020.033203</td>\n",
              "      <td>8667.208984</td>\n",
              "      <td>8148129.0</td>\n",
              "    </tr>\n",
              "  </tbody>\n",
              "</table>\n",
              "</div>\n",
              "    <div class=\"colab-df-buttons\">\n",
              "\n",
              "  <div class=\"colab-df-container\">\n",
              "    <button class=\"colab-df-convert\" onclick=\"convertToInteractive('df-b4c20b90-a69d-43c6-bfc2-16de825af858')\"\n",
              "            title=\"Convert this dataframe to an interactive table.\"\n",
              "            style=\"display:none;\">\n",
              "\n",
              "  <svg xmlns=\"http://www.w3.org/2000/svg\" height=\"24px\" viewBox=\"0 -960 960 960\">\n",
              "    <path d=\"M120-120v-720h720v720H120Zm60-500h600v-160H180v160Zm220 220h160v-160H400v160Zm0 220h160v-160H400v160ZM180-400h160v-160H180v160Zm440 0h160v-160H620v160ZM180-180h160v-160H180v160Zm440 0h160v-160H620v160Z\"/>\n",
              "  </svg>\n",
              "    </button>\n",
              "\n",
              "  <style>\n",
              "    .colab-df-container {\n",
              "      display:flex;\n",
              "      gap: 12px;\n",
              "    }\n",
              "\n",
              "    .colab-df-convert {\n",
              "      background-color: #E8F0FE;\n",
              "      border: none;\n",
              "      border-radius: 50%;\n",
              "      cursor: pointer;\n",
              "      display: none;\n",
              "      fill: #1967D2;\n",
              "      height: 32px;\n",
              "      padding: 0 0 0 0;\n",
              "      width: 32px;\n",
              "    }\n",
              "\n",
              "    .colab-df-convert:hover {\n",
              "      background-color: #E2EBFA;\n",
              "      box-shadow: 0px 1px 2px rgba(60, 64, 67, 0.3), 0px 1px 3px 1px rgba(60, 64, 67, 0.15);\n",
              "      fill: #174EA6;\n",
              "    }\n",
              "\n",
              "    .colab-df-buttons div {\n",
              "      margin-bottom: 4px;\n",
              "    }\n",
              "\n",
              "    [theme=dark] .colab-df-convert {\n",
              "      background-color: #3B4455;\n",
              "      fill: #D2E3FC;\n",
              "    }\n",
              "\n",
              "    [theme=dark] .colab-df-convert:hover {\n",
              "      background-color: #434B5C;\n",
              "      box-shadow: 0px 1px 3px 1px rgba(0, 0, 0, 0.15);\n",
              "      filter: drop-shadow(0px 1px 2px rgba(0, 0, 0, 0.3));\n",
              "      fill: #FFFFFF;\n",
              "    }\n",
              "  </style>\n",
              "\n",
              "    <script>\n",
              "      const buttonEl =\n",
              "        document.querySelector('#df-b4c20b90-a69d-43c6-bfc2-16de825af858 button.colab-df-convert');\n",
              "      buttonEl.style.display =\n",
              "        google.colab.kernel.accessAllowed ? 'block' : 'none';\n",
              "\n",
              "      async function convertToInteractive(key) {\n",
              "        const element = document.querySelector('#df-b4c20b90-a69d-43c6-bfc2-16de825af858');\n",
              "        const dataTable =\n",
              "          await google.colab.kernel.invokeFunction('convertToInteractive',\n",
              "                                                    [key], {});\n",
              "        if (!dataTable) return;\n",
              "\n",
              "        const docLinkHtml = 'Like what you see? Visit the ' +\n",
              "          '<a target=\"_blank\" href=https://colab.research.google.com/notebooks/data_table.ipynb>data table notebook</a>'\n",
              "          + ' to learn more about interactive tables.';\n",
              "        element.innerHTML = '';\n",
              "        dataTable['output_type'] = 'display_data';\n",
              "        await google.colab.output.renderOutput(dataTable, element);\n",
              "        const docLink = document.createElement('div');\n",
              "        docLink.innerHTML = docLinkHtml;\n",
              "        element.appendChild(docLink);\n",
              "      }\n",
              "    </script>\n",
              "  </div>\n",
              "\n",
              "\n",
              "<div id=\"df-50ab96e8-b15a-433f-87bb-a52f980c7c1a\">\n",
              "  <button class=\"colab-df-quickchart\" onclick=\"quickchart('df-50ab96e8-b15a-433f-87bb-a52f980c7c1a')\"\n",
              "            title=\"Suggest charts\"\n",
              "            style=\"display:none;\">\n",
              "\n",
              "<svg xmlns=\"http://www.w3.org/2000/svg\" height=\"24px\"viewBox=\"0 0 24 24\"\n",
              "     width=\"24px\">\n",
              "    <g>\n",
              "        <path d=\"M19 3H5c-1.1 0-2 .9-2 2v14c0 1.1.9 2 2 2h14c1.1 0 2-.9 2-2V5c0-1.1-.9-2-2-2zM9 17H7v-7h2v7zm4 0h-2V7h2v10zm4 0h-2v-4h2v4z\"/>\n",
              "    </g>\n",
              "</svg>\n",
              "  </button>\n",
              "\n",
              "<style>\n",
              "  .colab-df-quickchart {\n",
              "      --bg-color: #E8F0FE;\n",
              "      --fill-color: #1967D2;\n",
              "      --hover-bg-color: #E2EBFA;\n",
              "      --hover-fill-color: #174EA6;\n",
              "      --disabled-fill-color: #AAA;\n",
              "      --disabled-bg-color: #DDD;\n",
              "  }\n",
              "\n",
              "  [theme=dark] .colab-df-quickchart {\n",
              "      --bg-color: #3B4455;\n",
              "      --fill-color: #D2E3FC;\n",
              "      --hover-bg-color: #434B5C;\n",
              "      --hover-fill-color: #FFFFFF;\n",
              "      --disabled-bg-color: #3B4455;\n",
              "      --disabled-fill-color: #666;\n",
              "  }\n",
              "\n",
              "  .colab-df-quickchart {\n",
              "    background-color: var(--bg-color);\n",
              "    border: none;\n",
              "    border-radius: 50%;\n",
              "    cursor: pointer;\n",
              "    display: none;\n",
              "    fill: var(--fill-color);\n",
              "    height: 32px;\n",
              "    padding: 0;\n",
              "    width: 32px;\n",
              "  }\n",
              "\n",
              "  .colab-df-quickchart:hover {\n",
              "    background-color: var(--hover-bg-color);\n",
              "    box-shadow: 0 1px 2px rgba(60, 64, 67, 0.3), 0 1px 3px 1px rgba(60, 64, 67, 0.15);\n",
              "    fill: var(--button-hover-fill-color);\n",
              "  }\n",
              "\n",
              "  .colab-df-quickchart-complete:disabled,\n",
              "  .colab-df-quickchart-complete:disabled:hover {\n",
              "    background-color: var(--disabled-bg-color);\n",
              "    fill: var(--disabled-fill-color);\n",
              "    box-shadow: none;\n",
              "  }\n",
              "\n",
              "  .colab-df-spinner {\n",
              "    border: 2px solid var(--fill-color);\n",
              "    border-color: transparent;\n",
              "    border-bottom-color: var(--fill-color);\n",
              "    animation:\n",
              "      spin 1s steps(1) infinite;\n",
              "  }\n",
              "\n",
              "  @keyframes spin {\n",
              "    0% {\n",
              "      border-color: transparent;\n",
              "      border-bottom-color: var(--fill-color);\n",
              "      border-left-color: var(--fill-color);\n",
              "    }\n",
              "    20% {\n",
              "      border-color: transparent;\n",
              "      border-left-color: var(--fill-color);\n",
              "      border-top-color: var(--fill-color);\n",
              "    }\n",
              "    30% {\n",
              "      border-color: transparent;\n",
              "      border-left-color: var(--fill-color);\n",
              "      border-top-color: var(--fill-color);\n",
              "      border-right-color: var(--fill-color);\n",
              "    }\n",
              "    40% {\n",
              "      border-color: transparent;\n",
              "      border-right-color: var(--fill-color);\n",
              "      border-top-color: var(--fill-color);\n",
              "    }\n",
              "    60% {\n",
              "      border-color: transparent;\n",
              "      border-right-color: var(--fill-color);\n",
              "    }\n",
              "    80% {\n",
              "      border-color: transparent;\n",
              "      border-right-color: var(--fill-color);\n",
              "      border-bottom-color: var(--fill-color);\n",
              "    }\n",
              "    90% {\n",
              "      border-color: transparent;\n",
              "      border-bottom-color: var(--fill-color);\n",
              "    }\n",
              "  }\n",
              "</style>\n",
              "\n",
              "  <script>\n",
              "    async function quickchart(key) {\n",
              "      const quickchartButtonEl =\n",
              "        document.querySelector('#' + key + ' button');\n",
              "      quickchartButtonEl.disabled = true;  // To prevent multiple clicks.\n",
              "      quickchartButtonEl.classList.add('colab-df-spinner');\n",
              "      try {\n",
              "        const charts = await google.colab.kernel.invokeFunction(\n",
              "            'suggestCharts', [key], {});\n",
              "      } catch (error) {\n",
              "        console.error('Error during call to suggestCharts:', error);\n",
              "      }\n",
              "      quickchartButtonEl.classList.remove('colab-df-spinner');\n",
              "      quickchartButtonEl.classList.add('colab-df-quickchart-complete');\n",
              "    }\n",
              "    (() => {\n",
              "      let quickchartButtonEl =\n",
              "        document.querySelector('#df-50ab96e8-b15a-433f-87bb-a52f980c7c1a button');\n",
              "      quickchartButtonEl.style.display =\n",
              "        google.colab.kernel.accessAllowed ? 'block' : 'none';\n",
              "    })();\n",
              "  </script>\n",
              "</div>\n",
              "\n",
              "    </div>\n",
              "  </div>\n"
            ],
            "application/vnd.google.colaboratory.intrinsic+json": {
              "type": "dataframe",
              "variable_name": "df",
              "summary": "{\n  \"name\": \"df\",\n  \"rows\": 1305,\n  \"fields\": [\n    {\n      \"column\": \"Date\",\n      \"properties\": {\n        \"dtype\": \"object\",\n        \"num_unique_values\": 1305,\n        \"samples\": [\n          \"2023-08-29\",\n          \"2021-02-18\",\n          \"2022-05-25\"\n        ],\n        \"semantic_type\": \"\",\n        \"description\": \"\"\n      }\n    },\n    {\n      \"column\": \"Open\",\n      \"properties\": {\n        \"dtype\": \"number\",\n        \"std\": 5009.259886318605,\n        \"min\": 5993.311035,\n        \"max\": 24434.783203,\n        \"num_unique_values\": 462,\n        \"samples\": [\n          20627.599609,\n          8859.676758,\n          7668.459961\n        ],\n        \"semantic_type\": \"\",\n        \"description\": \"\"\n      }\n    },\n    {\n      \"column\": \"High\",\n      \"properties\": {\n        \"dtype\": \"number\",\n        \"std\": 5047.65757875437,\n        \"min\": 6998.400391,\n        \"max\": 24695.652344,\n        \"num_unique_values\": 486,\n        \"samples\": [\n          19260.869141,\n          20657.845703,\n          19521.738281\n        ],\n        \"semantic_type\": \"\",\n        \"description\": \"\"\n      }\n    },\n    {\n      \"column\": \"Low\",\n      \"properties\": {\n        \"dtype\": \"number\",\n        \"std\": 4959.808666290287,\n        \"min\": 5993.311035,\n        \"max\": 24217.390625,\n        \"num_unique_values\": 484,\n        \"samples\": [\n          18608.695313,\n          24043.478516,\n          15776.181641\n        ],\n        \"semantic_type\": \"\",\n        \"description\": \"\"\n      }\n    },\n    {\n      \"column\": \"Close\",\n      \"properties\": {\n        \"dtype\": \"number\",\n        \"std\": 5001.413542992032,\n        \"min\": 6626.14502,\n        \"max\": 24347.826172,\n        \"num_unique_values\": 481,\n        \"samples\": [\n          7854.587891,\n          18608.695313,\n          15576.55957\n        ],\n        \"semantic_type\": \"\",\n        \"description\": \"\"\n      }\n    },\n    {\n      \"column\": \"Adj Close\",\n      \"properties\": {\n        \"dtype\": \"number\",\n        \"std\": 4805.779945598496,\n        \"min\": 6366.958984,\n        \"max\": 23395.445313,\n        \"num_unique_values\": 481,\n        \"samples\": [\n          7547.350586,\n          17880.804688,\n          14967.272461\n        ],\n        \"semantic_type\": \"\",\n        \"description\": \"\"\n      }\n    },\n    {\n      \"column\": \"Volume\",\n      \"properties\": {\n        \"dtype\": \"number\",\n        \"std\": 12878894.75330228,\n        \"min\": 981368.0,\n        \"max\": 231851813.0,\n        \"num_unique_values\": 1245,\n        \"samples\": [\n          19083509.0,\n          19134330.0,\n          6107805.0\n        ],\n        \"semantic_type\": \"\",\n        \"description\": \"\"\n      }\n    }\n  ]\n}"
            }
          },
          "metadata": {},
          "execution_count": 53
        }
      ]
    },
    {
      "cell_type": "code",
      "source": [
        "df = df[['Close']]\n",
        "df = df.dropna() # Drop missing values\n",
        "df = df.reset_index(drop=True) # Reset the index"
      ],
      "metadata": {
        "id": "8LFFWUBTvsMX"
      },
      "execution_count": null,
      "outputs": []
    },
    {
      "cell_type": "code",
      "source": [
        "# Split the data into training, testing, and validation sets\n",
        "train_size = int(0.7 * len(df))\n",
        "test_size = int(0.2 * len(df))\n",
        "val_size = len(df) - train_size - test_size"
      ],
      "metadata": {
        "id": "RmgwmoYgv6PB"
      },
      "execution_count": null,
      "outputs": []
    },
    {
      "cell_type": "code",
      "source": [
        "train_data = df[:train_size]\n",
        "test_data = df[train_size:train_size+test_size]\n",
        "val_data = df[train_size+test_size:]"
      ],
      "metadata": {
        "id": "kMiyibKYy-tq"
      },
      "execution_count": null,
      "outputs": []
    },
    {
      "cell_type": "code",
      "source": [
        "X_train = np.array(train_data.index).reshape(-1, 1)\n",
        "y_train = np.array(train_data['Close'])"
      ],
      "metadata": {
        "id": "CEz9I4F4wK39"
      },
      "execution_count": null,
      "outputs": []
    },
    {
      "cell_type": "code",
      "source": [
        "# Define the model\n",
        "model = tf.keras.Sequential([\n",
        "    tf.keras.layers.Dense(1, input_shape=(1,))\n",
        "])\n",
        "\n",
        "# Compile the model with the Adam optimizer\n",
        "model.compile(optimizer=tf.keras.optimizers.Adam(learning_rate=0.01), loss='mean_squared_error')"
      ],
      "metadata": {
        "id": "fTNq94Tfvhi8"
      },
      "execution_count": null,
      "outputs": []
    },
    {
      "cell_type": "code",
      "source": [
        "# Train the linear regression model\n",
        "model.fit(X_train, y_train, epochs=100, verbose=0)\n"
      ],
      "metadata": {
        "colab": {
          "base_uri": "https://localhost:8080/"
        },
        "id": "c1ZBbWy4yscZ",
        "outputId": "f1b0d4cf-f473-43a1-ebfd-23f242c2cb6c"
      },
      "execution_count": null,
      "outputs": [
        {
          "output_type": "execute_result",
          "data": {
            "text/plain": [
              "<keras.src.callbacks.History at 0x7f800cfec280>"
            ]
          },
          "metadata": {},
          "execution_count": 81
        }
      ]
    },
    {
      "cell_type": "code",
      "source": [
        "#Predict\n",
        "X_test = np.array(test_data.index).reshape(-1, 1)\n",
        "y_test = np.array(test_data['Close'])\n",
        "y_pred = model.predict(X_test)\n"
      ],
      "metadata": {
        "colab": {
          "base_uri": "https://localhost:8080/"
        },
        "id": "41GLYMsZzZiB",
        "outputId": "d2590d01-784a-4a66-9499-25aff83e668d"
      },
      "execution_count": null,
      "outputs": [
        {
          "output_type": "stream",
          "name": "stdout",
          "text": [
            "8/8 [==============================] - 0s 2ms/step\n"
          ]
        }
      ]
    },
    {
      "cell_type": "code",
      "source": [
        "#Validate\n",
        "X_val= np.array(val_data.index).reshape(-1, 1)\n",
        "y_val = np.array(val_data['Close'])\n",
        "y_pred_val =  model.predict(X_val)"
      ],
      "metadata": {
        "colab": {
          "base_uri": "https://localhost:8080/"
        },
        "id": "notsn2QGznqK",
        "outputId": "3c01b9d0-149f-476d-e262-acc47077f6a9"
      },
      "execution_count": null,
      "outputs": [
        {
          "output_type": "stream",
          "name": "stdout",
          "text": [
            "4/4 [==============================] - 0s 3ms/step\n"
          ]
        }
      ]
    },
    {
      "cell_type": "code",
      "source": [
        "last_index = df.index[-1]\n",
        "\n",
        "# Create arrays of consecutive integers for the next 30, 60, and 90 days\n",
        "x_next_30_days = np.array(range(last_index + 1, last_index + 31)).reshape(-1, 1)\n",
        "y_next_30_days = model.predict(x_next_30_days)\n",
        "\n",
        "# Use the predictions of the first 30 days to predict the next 30 days\n",
        "x_next_60_days = np.array(range(last_index + 31, last_index + 61)).reshape(-1, 1)\n",
        "y_next_60_days = model.predict(x_next_60_days)\n",
        "\n",
        "# Use the predictions of the first 60 days to predict the next 30 days\n",
        "x_next_90_days = np.array(range(last_index + 61, last_index + 91)).reshape(-1, 1)\n",
        "y_next_90_days = model.predict(x_next_90_days)\n"
      ],
      "metadata": {
        "colab": {
          "base_uri": "https://localhost:8080/"
        },
        "id": "Nb4tncx4z7zW",
        "outputId": "bdccccb6-f33f-4c79-d5d3-5319ffa5bdbe"
      },
      "execution_count": null,
      "outputs": [
        {
          "output_type": "stream",
          "name": "stdout",
          "text": [
            "1/1 [==============================] - 0s 20ms/step\n",
            "1/1 [==============================] - 0s 20ms/step\n",
            "1/1 [==============================] - 0s 20ms/step\n"
          ]
        }
      ]
    },
    {
      "cell_type": "code",
      "source": [
        "from sklearn.metrics import mean_absolute_error\n",
        "#Đánh giá độ chính xác của thuật toán\n",
        "# Tính MAPE\n",
        "def calculate_mape(y_true, y_pred):\n",
        "    return np.mean(np.abs((y_true - y_pred) / y_true)) * 100\n",
        "\n",
        "# Tính MAE, RMSE cho testing\n",
        "mae_test = mean_absolute_error(y_test, y_pred)\n",
        "rmse_test = np.sqrt(mean_squared_error(y_test, y_pred))\n",
        "mape_test = calculate_mape(y_test, y_pred)\n",
        "\n",
        "# Tính MAE, RMSE cho validation\n",
        "mae_val = mean_absolute_error(y_val, y_pred_val)\n",
        "rmse_val = np.sqrt(mean_squared_error(y_val, y_pred_val))\n",
        "mape_val = calculate_mape(y_val, y_pred_val)\n",
        "\n",
        "# In kết quả\n",
        "print('---------VALIDATE----------')\n",
        "print(\"MAPE:\", round(mape_val, 3))\n",
        "print(\"MAE:\", round(mae_val, 3))\n",
        "print(\"RMSE:\", round(rmse_val, 3))\n",
        "print('--------------------------')\n",
        "print('---------TEST----------')\n",
        "print(\"MAPE:\", round(mape_test, 3))\n",
        "print(\"MAE:\", round(mae_test, 3))\n",
        "print(\"RMSE:\", round(rmse_test, 3))\n",
        "print('-------------------')"
      ],
      "metadata": {
        "colab": {
          "base_uri": "https://localhost:8080/"
        },
        "id": "vv3WibeP0ngd",
        "outputId": "e4bbb766-5708-42ee-8eaa-45a655ea6acb"
      },
      "execution_count": null,
      "outputs": [
        {
          "output_type": "stream",
          "name": "stdout",
          "text": [
            "---------VALIDATE----------\n",
            "MAPE: 25.654\n",
            "MAE: 5095.602\n",
            "RMSE: 5225.921\n",
            "--------------------------\n",
            "---------TEST----------\n",
            "MAPE: 20.154\n",
            "MAE: 3484.555\n",
            "RMSE: 3630.02\n",
            "-------------------\n"
          ]
        }
      ]
    },
    {
      "cell_type": "code",
      "source": [
        "plt.figure(figsize=(12,6))\n",
        "\n",
        "# Plot the train, test, and validation data\n",
        "plt.plot(train_data.index, train_data['Close'], label='Train')\n",
        "plt.plot(test_data.index, test_data['Close'], label='Test')\n",
        "plt.plot(val_data.index, val_data['Close'], label='Validate')\n",
        "\n",
        "# Plot the predictions for test and validation sets\n",
        "plt.plot(test_data.index, y_pred, label='Test Predictions')\n",
        "plt.plot(val_data.index, y_pred_val, label='Validation Predictions')\n",
        "\n",
        "# Plot the predictions for the next 30, 60, and 90 days\n",
        "plt.plot(range(last_index + 1, last_index + 31), y_next_30_days, label='Next 30 Days', color='blue')\n",
        "plt.plot(range(last_index + 31, last_index + 61), y_next_60_days, label='Next 60 Days', color='green')\n",
        "plt.plot(range(last_index + 61, last_index + 91), y_next_90_days, label='Next 90 Days', color='red')\n",
        "\n",
        "\n",
        "# Adding titles and labels\n",
        "plt.title('Predicted Closing Prices')\n",
        "plt.xlabel('Day')\n",
        "plt.ylabel('Predicted Closing Price')\n",
        "plt.legend()\n",
        "plt.grid(True)\n",
        "\n",
        "# Show the plot\n",
        "plt.show()"
      ],
      "metadata": {
        "colab": {
          "base_uri": "https://localhost:8080/",
          "height": 564
        },
        "id": "sSPbuxXl6ieb",
        "outputId": "ca6b5e0d-da99-4ed7-d6bc-994e48db5b69"
      },
      "execution_count": null,
      "outputs": [
        {
          "output_type": "display_data",
          "data": {
            "text/plain": [
              "<Figure size 1200x600 with 1 Axes>"
            ],
            "image/png": "[encoded data removed]"
          },
          "metadata": {}
        }
      ]
    },
    {
      "cell_type": "code",
      "source": [],
      "metadata": {
        "id": "YXyVwnwWqmwp"
      },
      "execution_count": null,
      "outputs": []
    }
  ]
}